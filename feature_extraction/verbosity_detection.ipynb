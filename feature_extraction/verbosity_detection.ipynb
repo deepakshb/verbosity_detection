{
 "cells": [
  {
   "cell_type": "code",
   "execution_count": 2,
   "metadata": {},
   "outputs": [],
   "source": [
    "from verbosity_helpers.VerbosityFeatureExtraction import VerbosityFeatures\n",
    "import pandas as pd"
   ]
  },
  {
   "cell_type": "code",
   "execution_count": 3,
   "metadata": {},
   "outputs": [
    {
     "name": "stderr",
     "output_type": "stream",
     "text": [
      "/Users/deepak/opt/anaconda3/envs/thesis_pqai/lib/python3.9/site-packages/spacy/util.py:837: UserWarning: [W095] Model 'en_core_web_sm' (3.2.0) was trained with spaCy v3.2 and may not be 100% compatible with the current version (3.3.0). If you see errors or degraded performance, download a newer compatible model or retrain your custom model with the current spaCy version. For more details and available updates, run: python -m spacy validate\n",
      "  warnings.warn(warn_msg)\n"
     ]
    },
    {
     "name": "stdout",
     "output_type": "stream",
     "text": [
      "Most frequent grammar productions are available.\n"
     ]
    }
   ],
   "source": [
    "verb_feats = VerbosityFeatures('summarized_queries.csv','start')"
   ]
  },
  {
   "cell_type": "code",
   "execution_count": 4,
   "metadata": {},
   "outputs": [],
   "source": [
    "import sys\n",
    "sys.path.append('/Users/deepak/Desktop/thesis_pqai/')\n",
    "sys.path.append('/Users/deepak/Desktop/thesis_pqai/specificity_model/')"
   ]
  },
  {
   "cell_type": "code",
   "execution_count": 5,
   "metadata": {},
   "outputs": [],
   "source": [
    "from verbosity_helpers.Description import DescProperties\n",
    "from specificity_model.helpers.ExtractFeatures import ExtractFeatures,ReadFeatureFiles\n",
    "import pandas as pd\n",
    "import numpy as np"
   ]
  },
  {
   "cell_type": "code",
   "execution_count": 6,
   "metadata": {},
   "outputs": [],
   "source": [
    "from nltk.tokenize import sent_tokenize\n",
    "import re"
   ]
  },
  {
   "cell_type": "code",
   "execution_count": 7,
   "metadata": {},
   "outputs": [],
   "source": [
    "import pandas as pd\n",
    "import numpy as np\n",
    "\n",
    "snippet_grp = verb_feats.desc_prop.dict_snippets['snippet_groups']\n",
    "all_snip_with_ids = []\n",
    "for index,group in enumerate(snippet_grp):\n",
    "    list_el = []\n",
    "    for sent in group:\n",
    "        list_el.append([index,sent,1])\n",
    "    all_snip_with_ids = all_snip_with_ids + list_el\n",
    "df_temp = pd.DataFrame(all_snip_with_ids,columns=['snippet_id','text','labels'])"
   ]
  },
  {
   "cell_type": "code",
   "execution_count": 8,
   "metadata": {},
   "outputs": [],
   "source": [
    "import os\n",
    "epo_dir_path = 'data/patstat'\n",
    "df_epo_1 = pd.read_csv(os.path.join(epo_dir_path,'1.csv'),sep=';')\n",
    "df_epo_2 = pd.read_csv(os.path.join(epo_dir_path,'2.csv'),sep=';')\n",
    "df_epo = pd.concat([df_epo_1, df_epo_2], ignore_index=True, sort=False)\n",
    "df_epo = df_epo.sample(frac=1).reset_index(drop=True)\n",
    "df_epo = df_epo.rename({'appln_abstract': 'abstract'}, axis=1)"
   ]
  },
  {
   "cell_type": "code",
   "execution_count": 9,
   "metadata": {},
   "outputs": [],
   "source": [
    "fe = ExtractFeatures(df_pdtb = df_temp, df_patent=df_epo,state='test')"
   ]
  },
  {
   "cell_type": "code",
   "execution_count": 10,
   "metadata": {},
   "outputs": [
    {
     "name": "stdout",
     "output_type": "stream",
     "text": [
      "Dictionary found!\n"
     ]
    },
    {
     "name": "stderr",
     "output_type": "stream",
     "text": [
      "Collecting Polarity features.: 100%|████████████████████████████████████ [26/26]\n",
      "/Users/deepak/opt/anaconda3/envs/thesis_pqai/lib/python3.9/site-packages/spacy/util.py:837: UserWarning: [W095] Model 'en_core_web_sm' (3.2.0) was trained with spaCy v3.2 and may not be 100% compatible with the current version (3.3.0). If you see errors or degraded performance, download a newer compatible model or retrain your custom model with the current spaCy version. For more details and available updates, run: python -m spacy validate\n",
      "  warnings.warn(warn_msg)\n",
      "Collecting Sentence Length features.: 100%|█████████████████████████████ [26/26]\n",
      "Collecting Specificity features.: 100%|█████████████████████████████████ [26/26]\n",
      "Collecting NE+CD features.: 100%|███████████████████████████████████████ [26/26]\n",
      "Collection syntactic features.: 100%|███████████████████████████████████ [26/26]\n",
      "Collection Language Model features.: 100%|██████████████████████████████ [26/26]\n"
     ]
    },
    {
     "name": "stdout",
     "output_type": "stream",
     "text": [
      "Collecting word features.\n"
     ]
    }
   ],
   "source": [
    "X = fe.extract_test_features() # Collect specificity features before generating verbosity features"
   ]
  },
  {
   "cell_type": "code",
   "execution_count": 11,
   "metadata": {},
   "outputs": [
    {
     "name": "stderr",
     "output_type": "stream",
     "text": [
      "/Users/deepak/opt/anaconda3/envs/thesis_pqai/lib/python3.9/site-packages/spacy/util.py:837: UserWarning: [W095] Model 'en_core_web_sm' (3.2.0) was trained with spaCy v3.2 and may not be 100% compatible with the current version (3.3.0). If you see errors or degraded performance, download a newer compatible model or retrain your custom model with the current spaCy version. For more details and available updates, run: python -m spacy validate\n",
      "  warnings.warn(warn_msg)\n",
      "Collecting length of unit features.: 100%|██████████████████████████████ [11/11]\n"
     ]
    },
    {
     "name": "stdout",
     "output_type": "stream",
     "text": [
      "len_units.pickle  stored in  verbosity_feats/start  folder.\n",
      "in function\n"
     ]
    },
    {
     "name": "stderr",
     "output_type": "stream",
     "text": [
      "Collecting discourse relation features.: 100%|██████████████████████████ [11/11]\n"
     ]
    },
    {
     "name": "stdout",
     "output_type": "stream",
     "text": [
      "discourse_relations.pickle  stored in  verbosity_feats/start  folder.\n"
     ]
    },
    {
     "name": "stderr",
     "output_type": "stream",
     "text": [
      "Collecting Continuity features.: 100%|██████████████████████████████████ [11/11]\n"
     ]
    },
    {
     "name": "stdout",
     "output_type": "stream",
     "text": [
      "continuity.pickle  stored in  verbosity_feats/start  folder.\n",
      "Collecting specificity features.\n",
      "\n",
      "Predicting sentence specificity.\n",
      "(26, 2)\n",
      "[1 0 0 0 0 0 0 0 1 0 0 0 1 0 0 0 0 0 0 0 1 1 1 1 0 0]\n",
      "   snippet_id                                               text  pred_label\n",
      "0           0  The app keeps track of the degree of user's co...           1\n",
      "1           0       It reminds users to take appropriate breaks.           0\n",
      "2           1  A nursing cushion with built-in privacy panels...           0\n",
      "3           1  The cushion is u-shaped and has a pillow case ...           0\n",
      "4           2  The source and drain that are created from the...           0\n",
      "5           2  The gap between the electrodes can be minimize...           0\n",
      "6           3  The invention allows for the production of S. ...           0\n",
      "7           3  Location of the resultant gene directly in the...           0\n",
      "8           4  The invention involves coating work items in a...           1\n",
      "9           4  Material is vaporized using an arc that is ope...           0\n",
      "Collecting amount of detail features.\n"
     ]
    },
    {
     "name": "stderr",
     "output_type": "stream",
     "text": [
      "Collecting amount of detail features.: 100%|████████████████████████████ [11/11]\n"
     ]
    },
    {
     "name": "stdout",
     "output_type": "stream",
     "text": [
      "amount_of_detail.pickle  stored in  verbosity_feats/start  folder.\n"
     ]
    },
    {
     "name": "stderr",
     "output_type": "stream",
     "text": [
      "Collecting production counts from parse trees.: 100%|███████████████████ [11/11]\n"
     ]
    },
    {
     "name": "stdout",
     "output_type": "stream",
     "text": [
      "syntactic_real.pickle  stored in  verbosity_feats/start  folder.\n",
      "Most deleted 25 productions are available.\n"
     ]
    },
    {
     "name": "stderr",
     "output_type": "stream",
     "text": [
      "Collecting compression likelihood features.: 100%|██████████████████████ [11/11]\n"
     ]
    },
    {
     "name": "stdout",
     "output_type": "stream",
     "text": [
      "compression_likelihood.pickle  stored in  verbosity_feats/start  folder.\n"
     ]
    }
   ],
   "source": [
    "verb_feats.extract_features() # collecting verbosity features"
   ]
  },
  {
   "cell_type": "code",
   "execution_count": null,
   "metadata": {},
   "outputs": [],
   "source": []
  },
  {
   "cell_type": "code",
   "execution_count": null,
   "metadata": {},
   "outputs": [],
   "source": []
  },
  {
   "cell_type": "code",
   "execution_count": null,
   "metadata": {},
   "outputs": [],
   "source": []
  },
  {
   "cell_type": "code",
   "execution_count": null,
   "metadata": {},
   "outputs": [],
   "source": []
  },
  {
   "cell_type": "code",
   "execution_count": null,
   "metadata": {},
   "outputs": [],
   "source": []
  }
 ],
 "metadata": {
  "colab": {
   "authorship_tag": "ABX9TyPpbAKQYOwEwuPJtlUgoSG1",
   "collapsed_sections": [],
   "mount_file_id": "1oZrSzYf7eN-zkPfFQWeryJrwhLCOjsYP",
   "name": "verbosity_detection.ipynb",
   "provenance": []
  },
  "kernelspec": {
   "display_name": "Python 3 (ipykernel)",
   "language": "python",
   "name": "python3"
  },
  "language_info": {
   "codemirror_mode": {
    "name": "ipython",
    "version": 3
   },
   "file_extension": ".py",
   "mimetype": "text/x-python",
   "name": "python",
   "nbconvert_exporter": "python",
   "pygments_lexer": "ipython3",
   "version": "3.9.12"
  }
 },
 "nbformat": 4,
 "nbformat_minor": 1
}
