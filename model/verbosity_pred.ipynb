{
 "cells": [
  {
   "cell_type": "code",
   "execution_count": 1,
   "metadata": {
    "colab": {
     "base_uri": "https://localhost:8080/"
    },
    "executionInfo": {
     "elapsed": 5537,
     "status": "ok",
     "timestamp": 1661996492603,
     "user": {
      "displayName": "Deepak Rastogi",
      "userId": "00835676360645435652"
     },
     "user_tz": -120
    },
    "id": "NSxSpmx0SKeM",
    "outputId": "fcf3bb66-99e2-4fab-c67e-408672dc61a0"
   },
   "outputs": [
    {
     "name": "stdout",
     "output_type": "stream",
     "text": [
      "Looking in indexes: https://pypi.org/simple, https://us-python.pkg.dev/colab-wheels/public/simple/\n",
      "Collecting pickle5\n",
      "  Downloading pickle5-0.0.12-cp37-cp37m-manylinux_2_5_x86_64.manylinux1_x86_64.whl (256 kB)\n",
      "\u001b[K     |████████████████████████████████| 256 kB 14.2 MB/s \n",
      "\u001b[?25hInstalling collected packages: pickle5\n",
      "Successfully installed pickle5-0.0.12\n"
     ]
    }
   ],
   "source": [
    "!pip install pickle5"
   ]
  },
  {
   "cell_type": "code",
   "execution_count": 3,
   "metadata": {
    "colab": {
     "base_uri": "https://localhost:8080/"
    },
    "executionInfo": {
     "elapsed": 862,
     "status": "ok",
     "timestamp": 1661996607748,
     "user": {
      "displayName": "Deepak Rastogi",
      "userId": "00835676360645435652"
     },
     "user_tz": -120
    },
    "id": "mW15q_WYthI1",
    "outputId": "ed6c4512-1f3f-4d4c-cb97-092e18263fb4"
   },
   "outputs": [
    {
     "data": {
      "text/plain": [
       "['dispensing within a liquid dispensing and suctioning system is controlled by pinching a flexible tube with a spring - biased actuator . the system includes a slidable extension for pulling the actuator to open the tube to dispense liquid to a surface to be cleaned . the system is assembled with a tubular wand of a wet / dry suctioning system .',\n",
       " 'a composition and method for mineralizing and enhancing the flavor of brewed beverages such as coffee and tea is disclosed wherein a finely divided mineral . a coloring agent such as powdered caramel . and a particulate beverage base such as ground coffee are combined to form an admixture . the admixture is placed on a filter and hot water is added .',\n",
       " 'a one - piece device formed from a rigid but deformable polymerized resin that may be selectively used as a comb on a woman &# 39 . s hair during drying of the latter in a stream of warmed air or as a support for a cylindrical hair roller shell that has at least one row of longitudinally spaced opening formed therein and about which shell the hair may be wound at a desired stage in the drying operation .',\n",
       " 'a configurable supportive protection system and methods comprising a sizable support element and a coverage element that provide support and protection to human body parts . advantageously . the system is quickly and easily configurable to allow body parts having different sizes to be supported . the system is selectively openable to thereby facilitate the maintenance of privacy and modesty of the patient during any activity .',\n",
       " 'a passenger seat and a passenger service supply system is provided . comprising a seat with a seating and a backrest . and a passenger service module providing a passenger service such as conditioned air . a personal light . data network access or a similar service . a passenger service module supply line is connected to the passenger service module with a first end .',\n",
       " 'an instrument for setting ligament tension between a distal femur and a proximal tibia has a rod mounted on a femur . the rod has an extension extending along a first axis . a first drive element is mounted on the distal femur and is rotatable about a second axis . a body is rotatably mounted on the rod extension for rotation about the first axis .',\n",
       " 'the embodiments relate to generating a 2d projection image of a vascular system of a body region of interest . including : acquiring a 3d dataset of the body region of interest . acquiring at least one 2d projection image of the body region of interest . generating a modified 3d dataset by eliminating vessels whose size exceeds a predetermined limit value .',\n",
       " 'an assembly includes a medical device provided with an anchoring member adapted to penetrate tissue of a cavity of the heart . the assembly further includes an implantation accessory including an elongated tubular element provided with a fastening mechanism for handling and guiding the medical device to an implantation site . the fastening mechanism includes an elastic deformable component cooperating with a rigid component .',\n",
       " 'a device for implanting endoprostheses has a tubular outer body and an elongated core element placed inside of the outer body . to operate the device . both the core element and the tubular body are provided with handles at their proximal ends . in order to produce a form - locking connection between the endoprosthesis and the core element .',\n",
       " 'a topical hyperbaric apparatus and method is disclosed . the apparatus comprises a shell having at least one flexible wall portion which provides an external surface and defines a substantially closed internal chamber . the wall portion has an opening therethrough communicating with the internal chamber . the flexible wall portion is sufficiently flexible so as to be capable of conforming to an irregularly shaped surface of a patient &# 39 . s body .',\n",
       " 'a portable food smoker incorporating a cast aluminum base and a lid . of generally dome - shaped configuration . received over the base and defining an interior chamber therewith . the base includes a lid supporting side wall . a moisture retaining groove inwardly thereof . and multiple stabilizing and supporting ribs . the chamber is adapted to receive a drip pan and meat rack supported on the base ribs .',\n",
       " 'a portable patient supporting seat that is not only comfortable but also controls the spine support by correct pelvis positioning . ischial turerosity support the users body while sitting and elevate the anus from the seated height . a first advantage of the present invention that is a modular pad . is to provide a build up that assists the body in supporting the anus externally and relieving the load on the sphincter muscle .',\n",
       " 'eliminates the need for tying knots in sutures . the clip is slidable in an open position along sutures that extend from a suturing site . with the clip at the suturing site . the sutures are tensed and the clip is forced into a closed position that fixes the position of the clip relative to the sutures .',\n",
       " 'methods and apparatus are provided for accurately imaging . assessing and measuring a patient &# 39 . s macular pigment . a multiband filter is employed in combination with a color digital fundus camera to provide a method that operates with a single imaging exposure . the multiband filter has bandpass regions within spectral ranges of the red .',\n",
       " 'the invention relates to an animal body measuring apparatus . designed to individually detect features of slaughtered animal bodies that are conveyable in a row at a distance from each other and along a path . in particular poultry bodies . which measuring apparatus comprises at least one sensor . a measurement passage space for conveying the animal bodies through along a measurement passage path .',\n",
       " 'this invention relates to drug binding proteins . to genes encoding same and to assays and methods for screening pharmaceuticals . more specifically . this invention relates to a cytokine suppressive anti - inflammatory drug binding protein csbpβ . to a gene encoding same and to assays and screens useful in the evaluation and characterization of drugs of this pharmacologic class .',\n",
       " 'there is provided a process for the prevention and / or reduction of acrylamide formation and / or acrylamide precursor formation in a foodstuff containing a protein . a peptide or an amino acid and a reducing sugar . the process comprising contacting the foodstuff with an enzyme capable of oxidising a reducing group of the sugar .',\n",
       " 'a surgical plate and process for preventing screw backout of repaired bones . at least one pawl is provided on a surgical plate adjacent to a screw hole . a screw having a ratchet wheel is inserted through the hole and screwed into the bone . the pawl engages the ratchet wheel to prevent rotational movement of the screw to prevent the screw from backing out .',\n",
       " 'this disclosure relates to soil erosion and the establishment of an appropriate seed bed . more specifically . the disclosure relates to a composition applied to exposed soil wherein the composition comprises organic material produced when the methane is burned from green manure and dried . this organic material combines seed and a liquid carrier .',\n",
       " 'medical devices for treating an annulus fibrosis are described . the annulus fibrosis has an outer layer . at least one inner layer . and a defect extending through the outer and inner layers . the devices include first and second elongate fastening members . each having a first end . a second end . and an anchor on the first end that is substantially transverse when deployed .',\n",
       " 'a device for detecting the operation of a dispenser includes a medium container for storing a dischargeable medium . a discharge mechanism operated by a relative movement between an operating element and the medium container . the operating element containing a detecting device for detecting operations which have taken place and for generating an electric counting signal in response thereto .',\n",
       " 'an articulated . four - wheel drive tree harvesting machine includes a front frame section upon which a felling boom assembly . a delimber assembly . and a feed assembly are mounted . the felling boom assembly is operable for severing a tree and lowering it into a generally horizontal position . the tree is released into the opened knives of the delimber assembly which close to encircle the trunk and into the opened feed rolls of the feed assembly which close to engage the trunk .',\n",
       " 'for use in multimedia or other environments . a virtual pinball / video arcade game displays one or more computer - generated runner elements . runner inject elements . and runner interactivity elements . it has a programmed computer for simulating movement of the runner elements . this is interfered with by mechanical interactions between said inject and interactivity elements .',\n",
       " 'the present invention is a process for preparing soft tissue such as tendons . ligaments . cartilage . fascia . dermis . human valves and human veins for implant in a human and removes cellular components and forms an decellular matrix having as major components collagens and elastins while sterilizing the tissue . the process comprises the following steps : isolating from a suitable donor a desired soft tissue sample of the biological material .',\n",
       " 'the present invention describes a highly versatile and effective facial composition containing two very simple human endogenous compounds . glycerin or any other nonvolatile . pharmacologically acceptable . slowly absorbed . water - miscible . liquid organic substance and water . which . when applied topically to facial skin in high concentrations . is surprisingly effective for achieving facial skin improvements .',\n",
       " 'a swimming aid device in the form of a monofi is contemplated . the swimming aid device may include first and second fins formed of a resilient material . each fin including an elongated internal space within a fin body . an opening leading to the elongated internal space . a fin blade coupled to and extending away from the elongated internal space .',\n",
       " 'a waving lotion for cold waving comprising : a mercapto compound and an aqueous mixture obtained by heating at least one compound selected from the group consisting of the compounds having the general formulae to . ## str1 ## wherein r 1 is hydrogen or an electron attractive group . r 2 is hydrogen or an alkyl group having 1 to 4 carbon atoms .',\n",
       " 'an actuator for attachment to an inhaler of the type including a pressurized canister of medicine . the actuator comprising a sensor for detecting the presence of a patient to whom medicine is to be delivered from the pressurized canister . and the actuator comprising an electrically driven mechanical linear motion to trigger a lever which is moveable between an at rest position and an in use position in which the lever exerts a force on the canister so as to operate the inhaler and thereby release medicine from the pressurized canister to provide ease of use of the inhaler for patients with reduced or limited dexterity and grip / co - ordination .',\n",
       " 'a flexible abrasion resistant omnidirectionally reflective pet toy reflects incoming light beam back in the same direction as it was emanated . thereby indicating the location of a pet toy and thereby preventing tripping hazards in pet play areas during dusk or nighttime hours . the pet toy is created by surrounding a central braided rope of nylon or polyethylene fibers with a cylindrically braided reflective sleeve that is coated with an abrasion resistant transparent polymeric coating .',\n",
       " 'the invention relates to a capsule for preparing a beverage . for example coffee . including a hollow element for containing a metered amount of ground coffee . for example . said hollow element including a side wall . an injection surface and an extraction wall for extracting a mixture of water and coffee . said capsule including at least one self - piercing raised pattern arranged on said extraction wall .',\n",
       " 'a system and method for cleansing . including cleaning . disinfection . sterilization and decontamination comprises apparatus for generating and issuing superheated vapor including at least one sterilant . the liquid from which the superheated vapor is generated comprising solution of sterilant and in some applications at least one anticorrosive and includes control for exposure to said superheated vapor .',\n",
       " 'a door alarm toy comprising a whistle adapted to be sounded by air escaping from an inflated balloon . and a clip adapted for engagement between a door and its door frame to hang the toy with an inflated balloon pressed against the door to frictionally retain a twist in the balloon which prevents it from deflating .',\n",
       " 'a surgical retractor for adjustable mounting on a supported holder includes an elongated stem of cylindrical cross - sectional configuration and blade means attached to one end of the stem . the stem being optionally provided with a plurality of spaced circumferential first means for selective engagement by adjustable complemental second means for restraining longitudinal movement of the stem in one direction .',\n",
       " 'a foldable display unit having sections hingedly connected to a base wherein when the sections pivot inwardly toward the base . the sections and base fold into a self - contained portable shipping container . the unit includes a base . front section and top sections hingedly connected thereto . the top surface of the base is configured to nestingly receive the front and top sections when they are folded .',\n",
       " 'a fibrogen - free substrate having as a hemostatic agent on a surface thereof a mixture of a clot - promoting amount of thrombin and an amount of epsilon aminocaproic acid effective to accelerate the rate of blood clotting induced by the thrombin is useful as a hemostatic patch which is safe .',\n",
       " 'an aromatic container heater and assembly adapted to enhance the release of desirable scent from an aromatic or fragrant candle by heating the exterior of a candle container and thereby melting the candle to release the desired scent . the heater includes a conductor . held within an insulating cover . which is electrically connected to an ac plug for receiving a current and thereby generating the necessary heat to melt the candle .',\n",
       " 'the present invention provides nucleic acid and amino acid sequences useful as the immunogenic portion of vaccines or immunogenic compositions effective for lessening the severity of the clinical symptoms associated with lawsonia intracellularis infection or conferring protective immunity to an animal susceptible to such infection . preferred amino acid sequences include at least 9 contiguous amino acids from seq id nos 1 .',\n",
       " 'this invention relates to materials and methods for obtaining strong adhesive bonds of coatings . composites and adhesives to proteinaceous substrates consisting either entirely . or in part of keratin . are disclosed . the invented materials comprise a non - aqueous solvent capable of adjusting the ph of the surface of the substrate to a ph of 8 .',\n",
       " 'a furniture item for suspending a user &# 39 . s feet comprises a suspended foot rest . the foot rest comprises a first attachment portion at a first end of the suspended foot rest and a second attachment portion at a physically opposite second end of the suspended foot rest . the first attachment portion comprises a first structural attachment member that is attached to a first pillar .',\n",
       " 'a household electric fryer having : a case having a bottom and a side wall and enclosing a warming chamber . the side wall having a lateral opening permitting access to the warming chamber . a bowl contained in the case above the warming chamber . the bowl having a bottom . electric heating elements for heating the bowl to frying temperatures .',\n",
       " 'the present invention is a mechanism for releasing a positioning device from a locked position . the positioning device has a moveable wedge urged against a rotatable cammed member which permits rotatable travel of the cammed member in only one direction . the releasing mechanism comprises a lever attached to the wedge and engageable with the cammed member .',\n",
       " 'a stadium seat cup holder for use with a stadium seat having an upper seating panel and multiple other panels includes a bracket that is configured to form an attachment to a stadium seat wherein the bracket affixes to one or more seat panels of the stadium seat . at least one recess on the bracket receives a panel of the stadium seat .',\n",
       " 'the present invention pertains to a mechanical milking procedure for animals . especially cows . in particular . the present invention is a method for milking animals that includes the step of sequentially stimulating the teats of the animal before milking the stimulated teats . this method results in a quick and uninterrupted milking of the animal .',\n",
       " 'compounds and methods are provided for modulating in vitro and in vivo processes mediated by selectin binding . more specifically . selectin modulators and their use are described . wherein the selectin modulators that modulate a selectin - mediated function comprise particular glycomimetics alone or linked to a member of a class of compounds termed basas or a member of a class of compounds termed bacas .',\n",
       " 'a flexible . body attached device is disclosed for dispensing skin treatment and topically - absorbed medicinal treatments . the device comprises a dispensing reservoir that is caused to dispense treatment through a slit - based diaphragm valve upon the application of simple pressure to the device . various embodiments of the invention include variations in the structure of the valve .',\n",
       " 'a co - sleeping apparatus which facilitates parents sleeping with infants and / or pets is devoid of ground contacting support members . thus eliminating obstacles to vacuuming . allowing for simpler construction . portability and transport . etc . various embodiments of the present co - sleeper provide for one or more of the following : adjustable height sidewalls .',\n",
       " 'a temporary knee implant to be placed at the position of the human knee joint for maintaining the tibia and femur at the knee joint aligned during healing of infection in the surrounding tissue . an elongated femur rod is formed with one end of a breadth sized and shaped to extend into the medullary cavity of the femur of a knee .',\n",
       " 'tile for use in forming a toy roadway . each tile having a roadway pattern formed on it and each tile having an engagement structure for interlocking with similar adjacent tiles to form a complete system . the pattern of the roadways of the complete system may be varied by simply changing the orientation of one side of the toy roadway tile or by changing the alignment of an edge of one or more tiles .',\n",
       " 'the present invention is antibiotic compositions . ventilator - based systems and methods relating to ventilator - associated pneumonia and ventilator - associated tracheal bronchitis . antibiotic combinations of fosfomycin and an aminoglycoside . preferably amikacin . are administered via an inline nebulizer within the airway of the ventilator . humidified conditions create an improved aerosol mist to treat vap and vat .',\n",
       " 'an intraocular lens system includes an optic . a pair of haptics located on sides of the optic . and hinge portions at each of the optic haptic junctions . the hinge portions have stressed and non - stressed configurations . one or more restraining elements are provided to maintain the stressed state configuration of the hinge portion during implantation and during a post - operative period during which the capsular bag of the eye heals about the lens .',\n",
       " 'a noble gas - chlorine gas mixture having broad - spectrum effectiveness against bacteria . viruses . mold . fungi . algae including spore forming microorganisms . termites . roaches . mice and other organisms . the noble gas . preferably argon / chlorine gas mixture is introduced into an enclosed area where the bacteria . virus . mold . fungi . etc .. are found and allowed to remain so that the gas composition can penetrate completely into the space including cracks and crevices .',\n",
       " 'the present application is directed to an image - guided . vacuum assisted . percutaneous . coring . cable driven breast biopsy instrument which may be conveniently mounted to an x - ray machine wherein the biopsy instrument incorporates a rotation knob at the proximal end of the instrument to manually rotate the distal end of the probe .',\n",
       " 'a latch for a collapsible stroller includes a primary latch structure and a secondary latch structure which operate differently . thus providing improved safety characteristics . the primary latch structure is locked until the secondary latch structure is actuated . operation of both the primary latch structure and the secondary latch structure is easily performed with one hand .',\n",
       " 'the water softening system hereof employs a treatment tank containing a mineral bed of ion - exchange resin granules . a brine tank . and valve means for periodically cycling water through the mineral bed for removing hardness and other undesirable factors therefrom . then passing a saturated brine solution through the bed counter - current to its normal service flow to recondition it .',\n",
       " 'an apparatus and a method for detecting the material of a surface of flat objects on a stack . in particular of objects individually separated from one another in the stack by interlayers . preferably of printing plates . the object is to reliably detect the material of the surface of the object that was taken from the stack before it is provided for further processing .',\n",
       " 'a grinding apparatus is housed in a casing . the grinding machine with its grinding pin is journalled in a rotatable attachment such as to be imparted a rocking motion . the apparatus is carried by a pair of arms which are freely movable in a generally horizontal plane . the one arm being mounted for vertical movement on a stand .',\n",
       " 'a life preserver comprising a buoyant toroidal body having spaced yieldable strap members surrounding at least a portion of the toroidal body . a length of rope extending around the inner periphery of the toroidal body and passing through the central portions of the strap members whereby the rope is maintained in a normal stowage position substantially adjacent the inner periphery of the toroidal body .',\n",
       " 'a device for increasing the uniformity of solids within a solids fabrication system . such as a direct light fabrication system in which gas entrained powders are passed through the focal point of a moving high - power light which fuses the particles in the powder to a surface being built up in layers .',\n",
       " 'an attachment mount for the front end of a truck . which can fit trucks with full - width or tapering chassis . the attachment mount may include a front member for supporting a front - end truck attachment . and a distribution member . the distribution member may be attached to the vehicle chassis and to the front member .',\n",
       " 'an end member for a container . the end member has a central panel wall with a public side and an opposing product side . the public side includes a means for opening a frangible panel segment . the member also has a score groove and a coin segment . the score groove is located on the public side of the end member and defines an outer perimeter of the frangible panel segment and separates the frangible panel segment from a non - frangible portion of the public side .',\n",
       " 'an ink jet head is provided with testing or inspection to facilitate efficient testing of the circuitry to determine whether any short - circuit or open circuits exist . the ink jet head includes plural ejection outlets for ejecting ink . a corresponding number of heat generating resistors disposed corresponding to the ejection outlets .',\n",
       " 'an apparatus for spraying liquidous mixtures via compressed air is described . the design allows extensive use of plastic in its construction . employs a minimum of parts and allows complete assembly and reassembly with only a minimum of hand tools . the device incorporates an automatic air shut off valve that stops the flow of air upon release of the trigger .',\n",
       " 'a method for handling waste in a system having multiple and operatively interconnected stations . each station has a closed hopper unit . a removable storage unit . and a compactor unit having a reciprocally driven compactor unit means . the method comprises the steps of : sensing the presence of an adjacent vehicle and opening the hopper unit and depositing waste therein .',\n",
       " 'this invention is a pre - made . re - closable . three - ply bag that has a clear serial number viewing window and is made from flexible packaging materials that collectively prevent corrosion from occurring on assets packaged within the bag while in transport or long - term storage . a vci chemistry emitting film is used as the inner ply which surrounds the asset with corrosion preventive vapors .',\n",
       " 'a method and apparatus for dispensing pheromones . semiochemicals . and other materials that can control the behavior or physiology of insects and other pests are described . the dispensers use electronic dispensing technology such as that used in ink jet printing . the units have a self - containing reservoir for the to - be - dispensed chemical .',\n",
       " 'disclosed herein is a crash pad for an automotive interior . including a passenger air - bag door . which may have a main resin layer including a door region having a hinge portion and a tear line for a deployment of an air - bag and a crash pad region at least partially surrounding the door region .',\n",
       " 'a sheet separating machine automatically separates and removes a sheet of a dry nonextendable film from a printed circuit panel . the machine comprises a plurality of feeding rollers carrying the panel with the films attached to either or both sides thereof through the machine . the stop lever interrupts a movement of the panel at a predetermined location for a selected time interval .',\n",
       " 'a process for reducing the concentration of perchlorate in an aqueous concentrated multi - component salt solution comprising treating the salt solution with an amphoteric ion - exchange resin to provide an adsorbed perchlorate and multi anion - containing resin and a perchlorate depleted solution . and removing the perchlorate depleted solution . the multi - anion are selected from chloride .',\n",
       " 'the invention relates to a regulating device . in particular a motor vehicle parking brake with a regulating unit having a power - operated drive . to provide a regulating device which enables simple cable balancing . it is proposed that a hollow shaft be moved against a torsionally resistant stop as a function of the spring force of an elastic element .',\n",
       " 'the invention disclosed herein comprises a trailer capable of transporting . storing . launching and recovering an aircraft . such as a helicopter or rotorcraft . the trailer includes a movable landing pad from which the aircraft is launched or lands upon and a sliding curtain wall which covers . extends and retracts to provide for secure storage of the aircraft while in transit .',\n",
       " 'an injection molding apparatus comprising : an injection molding machine . a heated manifold . a nozzle . the downstream end of the nozzle comprising an inner tubular member having a central flow channel and an outer circumferential surface and an outer tubular member having an inner tubular surface . the outer tubular member forming a seal surrounding the gate .',\n",
       " 'a plastic container includes a plastic body having a polygonal sidewall contour with rounded corners on a cylinder of revolution and flat panels extending between the corners chordally of the cylinder of revolution . in the preferred embodiments of the invention . a label is disposed on an exterior surface of at least one of the flat panels .',\n",
       " 'a locking system for a mold includes a first mold half . a second mold half . and a lock assembly that is coupled to one of the mold halves . the lock assembly includes a wear plate . that is disposed between the first mold half and the second mold half . and an adjustment element .',\n",
       " 'a system and related methods for providing stall recovery guidance symbology via a head - up display or similar avionics display element detects stall or near - stall conditions and provides symbology to guide the pilot through recovering from the stall by prioritizing pitch correction and disengagement of the autopilot system . pitch correction symbology guides the pilot toward reducing the aircraft angle of attack and establishing level flight .',\n",
       " 'a bicycle includes a frame . a charging circuit carried by the frame and configured to capture energy associated with movement of the bicycle . a power module carried by the frame . and a switch disposed electrically between the charging circuit and power module . the power module . in response to an indication that the bicycle is travelling downhill .',\n",
       " 'a device for controlling trimming flaps of a watercraft . preferably having two trimming flaps and in each case at least one hydraulically operated for adjustment of the inclination angle of the associated trimming flap . the invention provides that the or each hydraulic system has an associated flowmeter which detects the flow of hydraulic fluid in the hydraulic system in order to determine the inclination angle of the associated trimming flap .',\n",
       " 'a collapsible insulated jacket for a beverage container is formed from the same material as that of the carton in which the beverages are sold . a plurality of insulated jackets are secured together along a perforated line . the plurality of insulated jackets can be formed as a portion of the carton or as a separate item removable secured to the carton .',\n",
       " 'an open - end rotor spinning machine having at least two identical work stations . wherein each work station comprises an open - end spinning device for producing a yarn . a winding device with a creel . a yarn cross - winding device for producing a cheese . a vacuum - chargeable . pivotably seated suction nozzle having a yarn catch element arranged thereon .',\n",
       " 'to form stacks of printed products such as books . magazines . newspapers . brochures . etc .. a plurality of printed sheets is delivered by a conveying section and assembled thereon into preliminary products . which are then formed into stacks . where the process for collating the printed sheets into preliminary products is controlled as a function of the size of the stack of printed products to be formed .',\n",
       " 'an aircraft including a wing and a pylon . wherein the pylon provides an airfoil inverted for an airfoil of the wing . and an improvement and method for improved flight dynamics for 20 and 30 series learjet ® is provided . the improvement includes an increased distance between a leading edge of a wing and an intake of an engine of the aircraft .',\n",
       " 'the invention relates to a stabilizer for a motor vehicle . known one - piece stabilizers are designed either solely for operation in road traffic or solely for off - road operation . two - piece stabilizers that comprise an engaging and disengaging clutch have disadvantages regarding quality and safety . the invention provides a clutch .',\n",
       " 'an insert carrying cartridge filtering element for use in converting a liquid filter from a bag - type filter where fluid entering the filter flows into a bag and is strained through the bag to a cartridge - type filter where fluid entering the filter passes through the cartridge filtering element and exits the filter .',\n",
       " 'a process for controlling a drive train with an internal combustion engine . a transmission and an automatically actuated brake system . in the event of a defect of the transmission . retardation is effected by means of the automatically actuated brake system in order to avoid impermissibly high speeds in the drive train .',\n",
       " 'a method of intermittently dressing the ring - shaped surface or active rim of an axially adjustable dished grinding wheel of a gear grinding machine and which active rim acts upon a workpiece . the position of the active rim is controlled and the grinding wheel adjusted such that the ring - shaped surface or active rim is retained at the same location independent of its wear .',\n",
       " 'a data recorder is provided including a roller platen carriage adapted to be manually reciprocated and normally locked in a home position by a manually releasable interlock mechanism . a release lever is associated with the interlock mechanism . with manual release of the lever being required to free the carriage before each reciprocation .',\n",
       " 'there is disclosed a process for producing elongated metal articles by atomizing molten metal in an inert atmosphere and cooling the particles to remove at least some heat of fusion . but not below 40 % of the solidus temperature on the centrigrade scale . while they fall onto a bed of particles on a moving support .',\n",
       " 'a high speed machine that inserts about twelve thousand sheets or stacks of sheets of paper per hour into the same number of envelopes . a first table delivers an elongate horizontal queue of thousands of envelopes to an envelope hopper . a second table . parallel to the first table . includes a plurality of independently - controllable sheet feeders and delivers individual groups of stacked sheets to an envelope insertion station that is transversely spaced apart from the envelope hopper .',\n",
       " 'honeycomb shapes are extruded from plasticized ceramic powder mixtures by methods that include reducing the core temperature of the charge of the plasticized mixture during transit through the extruder . such methods being carried out utilizing apparatus comprising twin - screw extruders incorporating actively cooled screw elements . whereby temperature - conditioned charges of plasticized material that exhibit reduced core - to - periphery temperature differentials are delivered for extrusion .',\n",
       " 'an apparatus and method for vacuum evacuation and pressure filling of a lubricant reservoir are provided which includes a sequence timing and shutoff mechanism for controlling evacuation . testing for air leaks . and filling with lubricant . visual indication of mechanism performance is provided . a charging gun is adapted for sealingly mating with an opening in the reservoir .',\n",
       " 'a vehicle seat adjustable slide structure comprises two slides . interengaging a locking lever pivotally supported by a tab cut out of the outer slide which is folded over and extends through an opening in the lever with a clearance which allows the movement of the lever between a seat locking position and a seat releasing position for movement of the seat in translation .',\n",
       " 'a strainer for an emergency core cooling system in a nuclear power plant comprises a perforated strainer element that is immersed in a reservoir of cooling water . which is drawn through the strainer element into the emergency core cooling system . the side of the strainer element in contact with the cooling water has a contoured configuration for disrupting the formation of a flat bed of fibrous material that can trap small particulate material intended to pass through the strainer element .',\n",
       " 'in order to make it easy to change the size of a cam device in the course of press mold design . there is provided a cam device including : a cam holder . a cam slider . and a cam driver . wherein the cam devices are grouped depending on the basis of width dimensions in combination of hardness of a sliding contact surface of the cam holder and a sliding contact surface on the cam slider end .',\n",
       " 'a brewing method including the steps of providing a capsule . introducing the capsule into a brewing module with an injector for introducing a brewing liquid into the capsule and a discharging device for discharging a brewed product . closing a brewing chamber of the brewing module so that at least one injection - side perforation element of the injector pierces a capsule injection - side covering surface along a cutting line .',\n",
       " 'a device for placing in contact at least two products which are packaged separately in two compartments . the device includes a first compartment delineated by a container and a second compartment at least partially delineated by a body connected by an intermediate part to the container . the body is designed .',\n",
       " 'the present invention relates to a technique for an elevator car to perform an emergency operation during a power failure . and in particular to a method for controlling a rescue operation of an elevator car which can rescue passengers by performing an emergency operation with an electromotive force of a permanent magnet - type synchronous motor during the power failure .',\n",
       " 'an improved procedure for making molybdenum / ethylene glycol complexes useful as epoxidation catalysts wherein the cycle time necessary for catalyst preparation is significantly reduced by preparing a mixture of undiluted ethylene glycol with undiluted ammonium dimolybdate in the molar ratio of about 7 to about 20 moles of ethylene glycol per gram atom of molybdenum .',\n",
       " 'a workplace document shredder is located with its cutting mechanism . gear and electric motor in a self - supporting . integral casing which carries all the functional parts and circumferentially surrounds the same . the bearings of the cutting rollers are contained in bearing inserts . which are inserted from above in corresponding recesses of the casing .',\n",
       " 'a printhead and method of fabrication thereof provides that the printhead reservoir has substantially the same cross - sectional ink flow area as the total cross - sectional area of the plurality of individual ink channels which interconnect the reservoir with the printhead nozzles . since the flow area of the reservoir is substantially matched to the total flow area of the channels .',\n",
       " 'a system for pressure infiltration of liquid through the skin of fresh produce . the produce is subjected to vacuum pressure . and then coated with the liquid without submersion while continuing to subject the produce to the vacuum pressure . the application of liquid is continued as the vacuum pressure is progressively released to return the pressure surrounding the produce to atmospheric conditions .',\n",
       " 'a bicycle rim includes side portions with an outer portion extending between the side portions to form a pair of outer corners . and a spoke attachment portion . the outer portion includes a pair of ridges spaced from the outer corners . the ridges preferably divide a pair of inclined surfaces . the side portions preferably include a pair of ground braking surfaces with a pair of sloping surfaces extending from the braking surfaces to a pair of outer side surfaces .',\n",
       " 'a floating vessel is equipped with perforated plates which exhibit both an added - mass effect and a damping effect . the addition of porosity to an added mass plate phase - shifts the added mass force so that it becomes at least partially a damping force which does not depend on large velocities to develop a large damping force .',\n",
       " 'a magazine for holding a plurality of microfiche carriers is provided with a pair of oppositely disposed side walls each of which is formed with an elongated arcuate protrusion . a top . a bottom and a front wall having a window therein . the back of the magazine is open to receive the microfiche carriers .',\n",
       " 'an ink containment and dispensing device for an inkjet printer is provided with a main reservoir in the form of a flexible pouch panel . which is typically maintained at ambient pressure . the main reservoir is coupled to a variable volume chamber via a one - way valve which allows the flow of ink from the reservoir to the chamber and prevents the flow of ink from the chamber to the reservoir .',\n",
       " 'a method of making a miniature chamber assembly that provides a miniature capillary environment in which a liquid medium containing microscopic size particulate material can be placed for study under a microscope includes the steps of forming components which are inadequate as to wettability relative to the liquid medium . altering the wettability of the components relative to the liquid medium so that they can provide a miniaturized capillary environment that can contain the liquid medium with particulate material for a time sufficient to prevent deterioration while being studied .',\n",
       " 'a constant printing pressure mechanism for a portable label printing and applying machine . the machine has a printing head which is interlocked with a hand lever and it has a platen that carries a label strip disposed opposite to the printing head . the constant pressure mechanism comprises : a constant pressure means to turn the platen up against the type faces of the printing head with a constant pressure in synchronism with the downward movement of the printing head .',\n",
       " 'a suspension system for improving the ride quality and service life of the tractor used in a tractor - trailer combination . an a - shaped sub - frame is connected at its front apex and with the tractor frame for universal pivotal movement and is rigidly connected at its back end with the rear axle of the tractor .',\n",
       " 'a method and apparatus of comminuting ore - like material to produce a disproportionately large volume of flakier product which is easily and more efficiently ground in a mill . wherein the method includes the application of a stream of liquid all around the inlet of a conical crusher . increasing the speed and reducing the throw of the crusher to produce a generally flaky product .',\n",
       " 'one evaporator includes a housing defining a generally enclosed interior area and a stepped cascade separating the interior area into an upper chamber and a lower chamber . the stepped cascade includes sequential trays and risers . at least one tray has a hole connecting the upper chamber with the lower chamber .',\n",
       " 'a single piece electrode comb or device includes two circuit boards having conductor paths and two separate rows of needle - like recording electrodes which are electrically connected to separate paths of the respective circuit board encapsulated in a single plastic resin body with the electrode rows extending to a recording edge formed in a rib along one edge of the body .',\n",
       " 'a safety braking system mounted to a bike . motorcycle or any other two - wheel linear type of vehicle adapted with a right and a left brake lever to respectively control applying a brake to a front wheel and a rear wheel of the vehicle to control a rear wheel brake to brake a rear wheel first before applying a brake to a front wheel when either brake lever is pulled on any side or simultaneously on both sides of the vehicle to prevent it from easily turning over .',\n",
       " 'there is described a turbine / compressor air cycle system including a source of bleed air . means for feeding the bleed air directly to a turbine . means for adjustably feeding a portion of the bleed air to a compressor and means for feeding used cabin air to the compressor . the amount of bleed air being fed to the compressor being dependent upon whether high or low pressure bleed air is extant .',\n",
       " 'a method of improving industrial production comprising the steps of arranging a plurality of full containers in a transporter . the container being arranged in a predetermined number of stacks of containers . each stack containing a predetermined number of containers . transporting the containers in said configuration to a destination . unloading the containers from the transporter and thereafter introducing the same .',\n",
       " 'a multi - beam image forming apparatus includes a beam generating unit 101 . an optical scanner 102 . an image processing unit 103 for dividing image data into several areas in a primary scanning direction . and image writing units 106 and 107 for writing an image while switching multiple laser beams in accordance with each of the areas in the primary scanning direction in a printing region based on the divided image data .',\n",
       " 'heat insulation blanket includes a layer of inner cells containing a phase change material . and opposed outer cells containing dead air or other undisturbed gas . when placed in an attic or other insulated area . the phase change material changes phase when the outside atmospheric temperature passes the phase change temperature .',\n",
       " 'according to an aspect of the present invention . there is provided a template including : a template substrate . patterns for forming device patterns on a wafer substrate . and a charging monitoring pattern . a size of the charging monitoring pattern being equal to a largest pattern in the patterns for forming the device patterns .',\n",
       " 'a storage container includes a base and a plurality of walls extending upwardly from the base . at least one of the walls includes a plurality of projections on its exterior at different heights . the interior of the wall includes a plurality of channels into which the projections of a like container would be slidably received when the empty containers are nested .',\n",
       " 'an apparatus is disclosed for the feeding of oval - shaped open end wire links seriatim . from an open - link feeding bar magazine . to a groove in a movable link - forming slide tool . subsequent upward movement of the link - forming slide tool carries the open oval - shaped wire link into internal surface contact with a fixed position link center - forming anvil .',\n",
       " 'a package for the delivery of products of various sizes and shapes to customers . and apparatus and a method of producing the package are disclosed . wherein a sealing and a cutting process is employed to produce a customized shipping package from a first and a second web of material . the package is readily adaptable to be reused by the customer to return the product to the original source .',\n",
       " 'unnecessary operations are eliminated in the calculation of a non - decompression limit at the current water dept . in this manner . the calculation of the non - decompression limit is made more efficient and the required computing time is shorten to the point where the function can be incorporated into a wrist worn device that provides timely data .',\n",
       " 'a portable machine is used to abrade the surface of a factory finished wooden floor so the abraded surface may be recoated with a fresh coat of wooden floor finish . abrasion of the surface provides anchor sites to achieve a strong bond between the pre - existing abraded finish and the fresh coat of wooden floor finish .',\n",
       " 'described herein is the use of a combination of organic additives that is particularly advantageous for the preparation of cementitious compositions having a high conservation of the degree of white . which contain in mass a photocatalyst that is able to oxidize . in the presence of light . air and ambient humidity .',\n",
       " 'tetraesters of pyromellitic dianhydride are disclosed wherein two ester moieties are saturated hydrocarbon groups and two ester moieties are halohydroxyalkyl groups . the compounds may be used as diluents for fluorinated pyromellitates that are useful as soil and water repelling agents . mixtures formed by dissolving the compounds of this invention and known fluorinated pyromellitates in a common solvent are capable of imparting soil and water repelling properties to various fibers that are essentially equivalent to soil and water repelling properties imparted to such fibers by fluorinated pyromellitates alone .',\n",
       " 'a continuous process for producing high - purity methyl chloroformate . by reacting liquid methanol with an excess of phosgene at no more than 20 ° c .. preferably about 15 ° c . phosgene is absorbed in a large circulating load of pre - formed chloroformate that has also methanol added to it . the product stream is treated to remove light ends .',\n",
       " 'the invention relates to a process for converting cycle oils produced in catalytic cracking reactions into olefinic naphthas . more particularly . the invention relates to a process for hydroprocessing a catalytically cracked light cycle oil . and then re - cracking in an out - board fcc reactor it in order to form a naphthenic blend - stock .',\n",
       " 'a process for preparing a copolyestercarbonate which comprises reacting interfacially a dihydric phenol . a carbonate precursor . and a saturated aliphatic alpha omega dicarboxylic acid having from 9 to about 40 carbon atoms wherein the said diacid is from about 2 to about 20 mole percent based on the dihydric phenol reactant content and wherein the initial ph is from about 8 to about 9 for about 70 to about 95 % of the carbonate precursor addition time period time period and is then raised to a final ph of from about 10 to 12 for the remainder of the carbonate precursor addition time period .',\n",
       " 'the present invention relates to cloning of novel gene sequences expressed and repressed during winter dormancy in the apical buds of camellia sinesis l . kuntze bush . particularly . relates to identification . cloning and analysis of novel 3 prime ends of the genes sequences that are expressed and repressed in winter - dormant apical buds of tea .',\n",
       " 'the present invention is directed to fluoro silicone acrylates that are used in reaction either alone or with other monomers to make polymers that can modify the surface of hair skin or pigment . this makes them ideal for incorporation into pigmented products in personal care applications like make up and lipsticks .',\n",
       " 'the present invention relates to an aqueous glycol - free heat transfer fluid comprising sebacic acid . benzotriazole . morpholine . and at least one of sodium nitrite and sodium molybdate dihydrate . wherein a sum of concentrations of sodium molybdate dihydrate . sebacic acid . benzotriazole . morpholine . sodium nitrite is equal to or less than 1 % .',\n",
       " 'a method of forming a material for reversible hydrogen storage within a storage tank includes charging a mixture of a metal amide and a metal hydride to the storage tank . and chemically reacting the mixture at a reaction condition within the storage tank to form a thermally conducting composite material situated in the storage tank and for reversibly storing hydrogen .',\n",
       " 'the invention is directed to compounds of formula i : wherein r is an aryl . cycloalkyl or polyhaloalkyl group . r 1 is chosen from the group consisting of alkyl . alkoxy . polyfluoroalkoxy . hydroxy and trifluoromethanesulfonyloxy . each of r 2 and r 3 independently is chosen from the group consisting of a hydrogen .',\n",
       " 'a method of fabricating an optical fiber incorporating a volatile constituent . involving : providing a preform comprising a cladding glass having an axial aperture and a core glass arranged in the axial aperture . wherein the working temperature of the core glass lies below the working temperature of the cladding glass . and drawing the preform into an optical fiber at a drawing temperature that lies between the working temperatures of the core and cladding glasses and above the softening temperature of the cladding glass .',\n",
       " 'an improved process for the production of streptokinase using a genetically engineered strain of escherichia coli which overproduces streptokinase intracellularly and more particularly . the overall process disclosed herein . concerns with an improvement in the fermentative production of streptokinase using an optimized growth medium mainly comprised of simple salts and trace - elements .',\n",
       " 'disclosed is a method for etching the inside of a tungsten cvd reaction room . in which tungsten deposited on the inside of the reaction room by a film - forming gas when a tungsten cvd reaction is conducted is removed by plasma . and which has the steps of : exhausting a remainder of the film - forming gas in the reaction room .',\n",
       " 'the invention provides novel imidazopyridin - 3 - yl - acetic acid hydrazides of formula wherein r 1 . r 2 and r 3 have different meanings . and pharmaceutically acceptable salts . polymorphs . hydrates . tautomers . solvates and stereoisomers thereof . compounds of formula are useful for treating or preventing . in a human or non - human mammal .',\n",
       " 'a process for producing a compacted graphite iron article . comprising the steps of : providing a cgi base iron having a composition comprising . in weight percentages . about 3 . 2 to 3 . 8 total c . 2 . 8 to 4 . 0 si and the balance at least fe and incidental impurities . treating . controlling and casting the alloy in a manner known per se .',\n",
       " 'the present invention relates to methods for controlling hybridization in plants and producing hybrid plants . the present invention also relates to nucleic acids encoding amino acid sequences for self - incompatibility proteins in plants . and the use thereof for the manipulation of si . including seed production . in plants . particularly of the poaceae family .',\n",
       " 'a microstructured optical component is formed from an optical preform fabricated to include one ore more internal regions of differing refractive index . the preform is drawn into a fiber and sliced into relatively long individual fiber segments . each segment thus forming a microstructured optical component . an optical signal may then be coupled through a sidewall of the component in a direction parallel to the endfaces of the segment .',\n",
       " 'the invention relates to derivatives of pyrrolidin - 2 - ylcarbonylheterocyclic compound of the general formula ## str1 ## in which r 1 represents c 1 - 6 alkyl . c 1 - 20 cycloalkyl . aryl or heteroaryl . r 2 represents a heterocyclic compound selected from the group consisting of 2 - thiazole . 2 - oxazole . 2 - imidazole . 2 - pyrrole .',\n",
       " 'the present invention relates to halogen free flame retardant polyamide composition for moulded articles formed therefrom . comprising one or more semi - aromatic polyamide and a flame retardant system comprising a phosphinate and / or disphosphinate flame retardant and an phosphate ester flame retardant . such halogen free flame retardant non reinforced polyamide compositions are suitable for making moulded articles for use in a variety of applications including electrical and electronic parts .',\n",
       " 'according to the invention . a metal salt and an oxygen source are applied to penetrate or impregnate a suitable substrate sequentially in effective amounts so as to react in contact with the substrate and produce a mineral compound fixed within the surface of the substrate . the inventive combination of a mutually compatible metal salt .',\n",
       " 'the present invention relates to processes for the preparation of purified solanesol . solanesyl bromide & amp . solanesyl acetone . solanesyl acetone has the chemical name — all — trans 6 . 10 . 14 . 18 . 22 . 26 . 30 . 34 . 38 - nonamethyl - 5 . 9 . 13 . 17 . 21 . 25 . 29 . 33 . 37 - triacontanonaen - 2 - one . of formula 1 and is used for synthesis of coenzyme q 10 .',\n",
       " 'novel organic compounds of the formula ## str1 ## where r 1 and r 2 are individually selected from the group consisting of hydrogen and alkyl . or r 1 and r 2 taken together are selected from the group consisting of ## str2 ## where n is an integer 3 - 6 . ## str3 ## where m is an integer 3 - 6 . and ## str4 ## and l is selected from the group consisting of -- o --.',\n",
       " 'a transparent low alkalinity bar soap based on a tetrakis ethylene diamine having the formula ## str1 ## wherein r is hydrogen or an alkyl group having one to four carbon atoms and n is one to four . the soap is prepared by adding the tetrakis ethylene diamine to a mixture of caustic soda .',\n",
       " 'a foam reduction agent consisting of dibasic esters is shown and a process using a liquid contact with polystyrene foam wherein the higher boiling temperature of the dibasic esters and contact with the liquid provides a volume reduction process and less evaporation loss as well as safer transportation of the chemicals and the polystyrene in its reduced state .',\n",
       " 'a process for granulating ammonium phosphate containing composition for use as a fertilizer which comprises feeding a slurry or melt of ammonium phosphate . wherein said slurry or melt is capable of further reaction with ammonia . into a kneading mill . feeding recycled particles from the subsequent classification and crushing procedure into said kneading mill .',\n",
       " 'the invention is directed to a polymer thick film silver composition comprising a conductive silver powder . and an organic medium comprising three different resins and organic solvent . wherein the ratio of the weight of the conductive silver powder to the total weight of the three different resins is between 5 : 1 and 45 : 1 . the composition may be processed at a time and energy sufficient to remove all solvent .',\n",
       " 'disclosed herein is a species of peptide and non - peptide inhibitors of akt . an oncogenic protein . beginning with a residue of akt target substrate gsk - 3 . the functional domains of the gsk - 3 residue were characterized . functionally homologous non - peptide groups were substituted for the amino acids of the gsk - 3 creating a hybrid peptide - non - peptide and non - peptide compounds capable of binding to akt .',\n",
       " 'a process is described for producing an aluminum alloy sheet having excellent bendability for use in forming panels for automobiles . an aluminum alloy containing 0 . 50 to 0 . 75 by weight mg . 0 . 7 to 0 . 85 % by weight si . 0 . 1 to 0 . 3 % by weight fe . 0 . 15 to 0 .',\n",
       " 'in processing thermoplastic yarn a value is monitored to determine whether said value is above or below a predetermined value . the monitored value is related to the denier of the yarn and associated with a yarn plug . the interval for the monitored value associated with said yarn plug to oscillate with respect to said predetermined value is timed and the yarn is processed in response thereto .',\n",
       " 'a device for melt spinning . treating and winding synthetic threads includes a spinning unit . a treatment unit and a winding unit . the spinning unit . the treatment unit and the winding unit are arranged in tiers one above the other and form a plurality of single - thread or multi - thread production positions along the longitudinal side of a machine .',\n",
       " 'disclosed is a method of producing tubular knitted articles for ready - to - wear clothes pieces . on a flat knitting machine with at least two oppositely located needle beds and a carriage with at least three knitting systems . in a first carriage passage narrowing of a knitted piece suspended on a front needle bed in one edge region .',\n",
       " 'a method and system for cleaning lignin and other gums from lignocellulosic fiber is disclosed . lignocellulosic fiber is rapidly depressurized to a pressure lower than atmospheric pressure . the fiber is exposed to ionized air during the rapid depressurization . the fiber is then repressurized to a pressure equal to or greater than atmospheric pressure .',\n",
       " 'the device for embossing and perforating foils for tobacco goods includes : a pair of embossing rolls . one of the embossing rolls having teeth for perforating the foil . the counter roll to the embossing roll with the perforating teeth being a matrix roll which has recesses that correspond to the teeth on the patrix roll .',\n",
       " 'the invention provides a more effective optical brightener composition for coating paper substrates . the invention includes an optical brightening agent and a glycerol based polymer . this combination results in a composition that provides a surprisingly large whitening effect and does not degrade the shade of the paper . as a result extremely high degrees of whiteness can be achieved without being frustrated by the greening effect .',\n",
       " 'an agent and method for treating biodegradable synthetic yarns fabricated from a polymer comprising lactic acid as a main component . which enable improved lubricity . cohesion . etc . to be so imparted to the biodegradable synthetic yarns that the yarns can be prevented from fuzzing and breaking at every step from spinning to down - stream step .',\n",
       " 'an improved replaceable filtration unit for high viscosity fluids . of the self sealing semi - disposable type and having inert granular material supported by a screen within a housing . wherein the improvement comprises having the screen &# 39 . s rim swaged into the housing . preferably with an interference fit within the range 0 .',\n",
       " 'a warp - knit cloth for a surface fastener . comprising : a foundation design knitted of pile knitting yarns and foundation yarns so as to form pile loops . which serve as engaging elements of the surface fastener . on wales . a marquisette design in which inlaid yarn extend in the wale direction and course direction so as to form squared meshes .',\n",
       " 'a drier drum . in particular for papermaking machines . for textile machines and the like . comprises a drum cylinder . end flanges carrying the drum cylinder . a drive system mechanically coupled to at least one of the flanges to rotate it and heating means . the drum comprises a fixed refractory material cylindrical sleeve covered with a heat reflecting coating disposed coaxially inside the drum cylinder and heating means comprising main electrical heating elements of elongate shape adapted to be energized continuously during functioning thereof and profile correcting electrical heating elements of elongate shape adapted to be energized selectively .',\n",
       " 'a single or double cylinder circular knitting machine is adapted to effect renewal of a needle selection at one or more successive yarn feeds without requiring a respective pattern selection device therefor . the pattern jacks which have been selected . by a preceding pattern selection device . not to bring their respective needles to knit are moved radially inwards by a guiding cam .',\n",
       " 'fold - away ironing device comprising a frame attached to the wall and in which there is an ironing board surrounded by a mobile frame . in a first position . the ornamental front part is visible in the frame fixed to the wall and the ironing board is folded away . and in the second position .',\n",
       " 'a procedure for the selection of the moveable hooks of a shed - forming mechanism of a jacquard type loom comprising at least one catch displaced by a knife between an upper dead point position . in which . or in the proximity of which . the hook may be immobilized by a selector device .',\n",
       " 'a method for installing a fabric body onto a paper machine includes providing a self - aligning fabric loading harness having a leading edge and a plurality of spaced empty grommets disposed approximate to the leading edge . securing a pull rope through the loading hardness and a line receiving device . pulling the pull rope .',\n",
       " 'a chemical contamination monitoring system is provided for monitoring and decontaminating protective clothing that has been exposed to toxic chemicals . the system includes a decontamination chamber in which the clothing is supported and a spray assembly . including a plurality of suitably directed spray nozzles . for spraying the clothing with a wash - solvent .',\n",
       " 'an apparatus for the manufacture of an air laid web in which individual cellulose fibers or textile fibers or their blends can be conveyed and distributed by air uniformly to any desired width onto a forming zone composed of either a foraminous screen or a fibrous polymer matrix on top of a consolidating vacuum box .',\n",
       " 'a method for forming a web structure having a pore size gradient which utilizes a spunbond process for producing fibers . the fibers are deposited on a contoured collection surface . preferably . the surface is shaped as an elongated dome . having the central zone at the apex and the peripheral zones along the curved sides .',\n",
       " 'the present invention is directed to a device for dispensing a unit dose water - soluble pouch containing a laundry additive during the spin cycle of a washing machine process having a spinning wash drum . the device is attached to the vertical center post of a washing machine and holds a water - soluble pouch above the high water level .',\n",
       " 'apparatus and method for severing the needle and looper threads of a chain stitch formed by a sewing machine having an in - line looper system . the sewing machine has a needle plate and a needle carrying the needle thread through the material and the needle plate to form a needle loop of needle thread therebelow that has a needle side running to the needle .',\n",
       " 'a spring - type embroidery hoop or knitting ring includes a plastic annular member with an interiorly - grooved surface . a spring - loaded member that fits securely with the free ends of said spring - loaded member projecting radially outwardly . and a locking member that restrains the free ends of the spring - loaded member from separating from one another more than a fixed spacing distance .',\n",
       " 'a method for the production of a composite material comprising nanofibrillated polysaccharide . the method comprising the following steps : providing a liquid suspension of the nanofibrillated polysaccharide . bringing said liquid suspension in contact with at least one additive . thereby forming a composite material suspension . wherein the composite comprises the nanofibrillated polysaccharide and the at least one additive .',\n",
       " 'a coater for a web of material . especially a web of paper or cardboard . that travels around a backing roll . with a doctor blade that presses against the backing roll and with components for adjusting the pressure that are distributed along the doctor and affect different areas along it . the adjusting components are piezotranslators .',\n",
       " 'in a front - serviceable appliance having a base frame supporting internal components . the base frame having a front member and side members and a rear panel attached thereto . a removable cabinet has a front bottom flange overlapping and extending beneath the front base frame member . and receptacles for receiving upwardly extending tabs from the side members to position the cabinet with respect to the base .',\n",
       " 'a spinneret pack comprising a filtration assembly and an outer ring surrounding the spinneret plate . when it is clogged with unprocessed plastic material . is preheated by induction heating to separate the outer ring by slight pressure in a first processing step . then a second induction heating treatment separates the spinneret plate from the attached filtration assembly .',\n",
       " 'a fiber blending . opening and cleaning arrangement which includes a feed section for delivering a blend of fibers onto a first opening and blending operation . comprising an array of parallel opening and blending rolls rotating in one direction and arranged along an incline and in adjacent positions . the fibers are passed over the rolls in a first direction and under the rolls in a section direction while being also moved along a sinusoid path .',\n",
       " 'a device for drainage of a pulp web . particularly a tissue web . having a first pressing zone having a first pressing zone length through which the pulp web is fed horizontally between a circulating . permeable band and a circulating . permeable support band . the first pressing zone is designed such that a fluid can flow through the band .',\n",
       " 'a work material feeder for a sewing machine includes a work material holder which is movable within the plane perpendicular to a passageway where a needle is moved up and down . a first pulse motor which reciprocates the work material holder in one direction within the plane synchronously with the vertical movement of said needle .',\n",
       " 'the shirt press of the present invention is formed to comprise a collar iron buck on which a collar is mounted while being expanded and a press iron for depressing against the buck . the upper surface of the buck corresponds to a central part of the collar and is notched in an inverse triangle shape .',\n",
       " 'a hanger clip assembly for use in releasably securing an article to a support structure includes a clip unit and a resilient cord unit . the clip unit is a clamp assembly configured to releasably secure the article to the hanger clip assembly . the cord unit defines a closed loop that extends from the clip unit and permits the hanger clip assembly to be releasably secured to any existing support structure .',\n",
       " 'a mixture of specified long chain aliphatic alcohols is contacted at atmospheric pressure and at an elevated temperature with ammonia in the presence of a hydrogenation - dehydrogenation catalyst while continuously removing water of reaction and excess ammonia . to produce a mixture of aliphatic amines predominating in secondary amines . such amine product is quaternized to yield corresponding mixtures of fabric softening quaternary ammonium compounds capable of providing aqueous dispersions thereof exhibiting outstanding stability characteristics at low concentrations of active content .',\n",
       " 'a method of making a moldable . nonwoven composite material . the method includes blending a mix of first fibers and second thermoplastic fibers . the second fibers have a melting point lower than that of the first fibers and comprise approximately 40 - 80 percent of the blend . the blend is then processed into a fibrous batt .',\n",
       " 'a coloring system for temporarily or permanently dyeing fibers uses polyhydric alcohols to soften starch and cellulose derivatives in an organic acid solution to form glycolate modofied derivatives . hydrophobic pigment particles are mixed with the glycolate modified derivatives after reducing the acidity of the solution with a base . resulting in a water removable temporary dye system that may be converted into a permanent dye by adding a latex suspension .',\n",
       " 'the start and end timing of fabric feed in a sewing machine greatly affects the tightening of needle thread . that is . the sewing quality . among the electronically controlled zigzag sewing machines . those equipped with feed means directly driven by a pulse motor supplied with command pulses . it has become possible to control freely the start and end timing of fabric feed .',\n",
       " 'in the production method according to the present invention . the binding speed and efficiency of vegetable dyes to cotton and other fibers is increased using an rem technique . such that organic denim and gabardine fabrics can be industrially manufactured in mass production . the method according to the present invention makes it possible to react vegetable dyes with cotton .',\n",
       " 'a process for knitting an article of ladies &# 39 . underwear in one piece of tubular knitwear is provided . the article is knitted with a basque that extends along edging the lower part of the cups of the article . the process includes knitting the basque by holding a plurality of contiguous stitches substantially aligned relative to the direction of the weft .',\n",
       " 'an inter - labium product capable of disintegration in water . fitted to the inter - labium part . and a surface - side sheet for inter - labium product that simultaneously realizes comfortability at wearing of the inter - labium product and capability of water disintegration such that the inter - labium product is disintegrated when thrown in flush water of water closet after use .',\n",
       " 'a textile processing system is disclosed in which a chute feeder is juxtaposed with a card as a web supply device for the card . and the card . in turn . is juxtaposed with a coiler device . typically a dual coiler . for coiling sliver into cans . from the output of the card .',\n",
       " 'the present disclosure relates to a wire rack for mounting an iron on a wall and method of use thereof . and more specifically . to a wire rack for mounting an iron on a wall . the wire rack having a retractable rail for adjusting to different sizes of irons and equipped with an ironing board holder and a product holder .',\n",
       " 'a tufting machine modular gauge assembly that allows damaged or broken gauge elements to be replaced individually . the modular gauge assembly consists of a gauge bar with a plurality of modular blocks removably attached to the bar . the modular blocks are six sided with a detent and fastener mechanism for attaching the block to the gauge bar .',\n",
       " 'sugarcane bagasse consists of mainly three polymeric components . namely cellulose . hemicellulose . and lignin . a process is herein disclosed for fractionating sugarcane bagasse into cellulose . hemicellulose and lignin with high purity α - cellulose . which is a useful raw material for preparing cellulose esters like cellulose triacetate and other high value - added cellulose plastics .',\n",
       " 'a feed screw for feeding lignocellulosic material to a rotary disc refiner is disclosed . the feed screw includes at least one peripheral thread for feeding the lignocellulosic material axially towards the disc refiner and the feed screw feeds the lignocellulosic material from its upstream end towards its downstream end through the center of the opposed grinding surfaces of the disc refiner .',\n",
       " 'in a washing machine according to the present invention . if a washing step is ended . a distribution step that the inner tub containing the washing water is rotated in one direction and fabrics is distributed to a side wall of the inner tub and the washing water is discharged to outside is performed .',\n",
       " 'an improved jet dyeing apparatus is provided which enables the user to dye either lightweight or relatively heavy weight fabrics in the same apparatus with improved efficiency and product quality . the apparatus includes a fabric plaiting mechanism mounted to the exit end of a transport tube and a downwardly directed outlet nozzle .',\n",
       " 'this invention relates to washable coloring compositions comprising specific low - molecular weight styrene - maleic anhydride copolymers . such copolymers provide excellent washability enhancing performance in association with colorants and inks . also . these specific compounds exhibit low viscosities which allow for greater amounts of washability enhancing copolymers to be added within colorant and ink formulations while simultaneously permitting the retention of sufficiently low overall viscosities of the target compositions .',\n",
       " 'a device for needling a prebonded web . comprises at least one needle board reciprocatingly movable in a stitching direction . a stitch base between a feed roller and a discharge roller . which stitch base is located directly opposite the needle board and forms a web guide that is convex in a direction of web movement .',\n",
       " 'a method for additionally conducting the hot air for finishing the articles of clothing along the articles of clothing in counterflow to the transporting direction . this leads to more effective finishing of the articles of clothing with greater energy efficiency . and therefore the tunnel finisher according to the invention consumes less energy .',\n",
       " 'a method of manufacturing a newsprint paper for offset printing . includes : selecting a filler or fillers having an average grain size of 0 . 5 to 5 μm and a zeta potential of 0 mv or above . providing a pulp slurry for making a base paper . adding the filler or fillers to the pulp slurry in an amount of more than 15 percent by weight but less than 40 percent by weight as ash relative to the dry weight of the base paper .',\n",
       " 'an elbow for use in connecting the exhaust vent of a clothes dryer to an exhaust duct . the elbow having a depth equal to or less than the exhaust duct diameter while maintaining a constant exhaust airflow velocity . preferably . the elbow comprises a rectangular portion connected to the dryer exhaust vent and an adapter portion extending from the rectangular portion and connecting to the exhaust duct .',\n",
       " 'a blend of cellulose acetate and starch acetate used to make fibers . filaments . yarns . fabrics . plastic materials and other uses is disclosed . additionally . the invention relates to the process of making said blend . cigarette filters made from tow composed of said blend . cigarettes made with filters made from tow of said blend as well as acetate flake and other compositions containing said blend .',\n",
       " 'the present invention relates to a process for the continuous production of a multi - layer web comprising an exterior covering and a nonwoven material disposed underneath . according to the present invention . a nonwoven material which has been prebonded is used as the starting product . and the steps of additional bonding .',\n",
       " 'a motor - driven sewing machine and method of making the same that includes a needle movable between advanced and retracted positions through a sewing station . a mechanism for controllably advancing the peripheral portion of a work piece past the sewing point and a mechanism for causing the sewing machine to apply stitches to the work piece border as the work piece automatically moves through the sewing station .',\n",
       " 'a wall adapter that can be incorporated in a wall that separates a soiled laundry room and a clean laundry room . the adapter is constructed in such a manner that it coacts with the tilting action of a tilt type washer - extractor machine whereby the latter can be utilized in a hospital laundry .',\n",
       " 'method and apparatus are provided for controlling the advancement of a strand by directing a fluid along the strand in a first direction opposite to the direction of advancement of the strand to retard the advancement of the strand sufficiently to create slack in the strand . and directing a fluid in a second direction transverse to the first direction to control slack in the strand .',\n",
       " 'an electric smoothing iron is provided which has a soleplate which has a low heat capacity and which is heatable by means of light energy produced by lamps . reflectors being provided to reflect the light to the soleplate . and the temperature of the soleplate being monitored by means of a sensor .',\n",
       " 'a clothes dryer including a cabinet . a drum rotatably mounted in the cabinet . ductwork connected to the drum for circulating air . a heating element for providing heat to the drum . and a control system for operating the clothes dryer . the control system includes a warning indicator and a control module .',\n",
       " 'a lubrication device for a rotating hook in a sewing machine . having a hook shaft provided with a hollow interior axially thereof . an inlet and an outlet communicating with the hollow interior for prevention of oil pressure build - up therein as oil is supplied from an oil reservoir . a restriction between the inlet and the outlet for decreasing the diametrical extent of the hollow interior .',\n",
       " 'the invention relates to a thermally bound non - woven material containing a low - shrinkage dual - component core - sheath fiber consisting of a crystalline polyester core and a crystalline polyester sheath which has a melting point at least 10 ° c . lower than the core . the heat - shrinkage characteristic of said fiber being less than 10 % at 170 ° c .',\n",
       " 'a fabric bulk bag and a method for constructing the same . the bag including a continuous sidewall . a top portion . and a bottom . all defining a bulk storage space therein . the bottom further comprising eight sides which define an octagonal shape having an enlarged footprint so that the bag wall is sewn to the bottom in less time than a round shaped bag .',\n",
       " 'a portable drying rack is provided which comprises frames of unitary construction for hanging articles and support members for supporting the rack in an upright position . the support members are pivotably attached to the frames to permit the drying rack to be collapsed for storage . the pivotable attachment between the frames and support members is accomplished by means also of unitary construction .',\n",
       " 'a circuit for detecting disturbances in yarn travel at a textile machine . comprising a probe delivering an electrical signal in the presence of such disturbances . the probe being operatively coupled by means of discriminator stages with a pre - selection counter structured for setting the maximum permissable number of disturbances . the pre - selection counter is operatively coupled with a multivibrator which .',\n",
       " 'a stocker for wire healdes comprising a housing constructed and arranged such that a plurality of wire healds can be stacked on top of one another in a vertical direction and be arranged so as to longitudinally extend in a horizontal direction . the housing includes a heald refilling aperture at an upper portion and a heald drawing opening at a lower front portion .',\n",
       " 'a wire cloth for a filter has a twill lace weave which is formed in patterns alternating in the direction of the twill line . the alternation is provided substantially in the region of weft wires . at least one intermediate weft wire is introduced in the region of discontinuity of the twill line whereby the position of the weft wires in each pattern of the twill weave is fixed and a mesh size in the weave can be accurately determined .',\n",
       " 'the present invention relates to a method and apparatus for the continuous discharge of water from suspension . especially from fibrous pulp . whereby pulp is caused to thicken without having the water to be removed through a thick uncontrollably gathered fiber mat . in accordance with the invention the suspension to be thickened is fed into a filtering chamber .',\n",
       " 'the invention concerns a dryer - section concept of a paper / board machine and a method in the drying of a paper / board web . the dryer section comprises a number of drying cylinder groups . which comprise a single - wire draw . on whose support the web is guided so that it meanders as loop - shaped from a drying cylinder onto a suction cylinder .',\n",
       " 'a method and apparatus for monitoring the momentum of a meltspun jet thermal core used for making thermoplastic filaments is presented to aid in the uniformity of formation and elimination of waste in thermoplastic filament nonwoven web formation . the apparatus is easily and economically constructed and is relatively insensitive to positioning variations in the air stream of the filament formation apparatus .',\n",
       " 'a method of fitting a generally cylindrical corrosion protective and / or aesthetic sheath on a cable . which method includes the steps of fitting a sheath unit on one end of a cable . shifting the position of the fitted sheath unit toward the other end of the cable . fitting a fresh sheath unit similarly on the cable in continuation from the preceding sheath unit .',\n",
       " 'a door of a drum washer and an assembling method for the same are disclosed . in which a structure of a door is improved to facilitate assembly of the door and make appearance of the door good . the door of a drum washer includes an upper cover having a hollow .',\n",
       " 'method in the washing of alkaline . cellulosic pulp . for example sulphate pulp . ctmp and cmp pulp . the washing being effected in at least one stage . by an addition of carbon dioxide . there will be realized greatly reduced washing losses of . primarily . inorganic ions . as well as improved washing - out of substances which give rise to chemical oxygen demand .',\n",
       " 'the disclosure relates to an apparatus and method for producing nanofibers and non - woven nanofibrous materials from polymer melts . liquids and particles using a two - phase flow nozzle . the process comprises supplying a first phase comprising a polymer melt and a second phase comprising a pressurized gas stream to a two - phase flow nozzle .',\n",
       " 'a portable security lock for an inwardly opening door . matching short and long locking blocks are held together by screws or other suitable fasteners . a locking bar having an insertion section that can be placed in the strike plate of the door jam is provided . the locking bar further has a row of teeth that face the insertion section .',\n",
       " 'disclosed is releasable plugging apparatus for selectively closing a tubular member to permit fluid pressure buildup therein . when the fluid pressure is then decreased . a sealing device of the apparatus may be released . and the tubular member subsequently opened . holding apparatus secures the sealing device in place until a compressed spring is permitted to move a piston so as to permit the holding apparatus to release the sealing device .',\n",
       " 'a novel and practical track - filling apparatus for smoothing rutted soil formed by the repeated passage of wheels . this apparatus includes a frame . a system for attaching the frame to a tractor . and a soil moving blade assembly mounted to the frame . this blade assembly has laterally disposed and spaced apart left and right blades .',\n",
       " 'a bridge overhang system which enables forms to be secured to a bridge girder member without the necessity of a construction worker standing under the girder to secure the form to the girder . more particularly described . a funnel bracket unit connected to the form has guide surface which enables a hanger rod to be guided to a securing member of the overhang bracket unit from above the girder member .',\n",
       " 'a method is disclosed for producing viscous petroleum from subsurface deposits . the method employs a vertical well and a horizontal well through the petroleum deposit . a combination of injection procedures through the horizontal and vertical well heat the viscous petroleum in the annulus around the horizontal well . successive completion intervals are installed in the horizontal well to produce the heated petroleum .',\n",
       " 'systems and methods are disclosed for disposing of aggregate material in the mine caverns from which these materials were originally obtained . in an apparatus for combining aggregate material . for example . chat or tailings . with water . an emulsion is formed . the water is drawn from the cavern . through a casing . the emulsion is pumped back into the cavern below ground level .',\n",
       " 'a door closure delay system produces a first signal when a person approaches a doorway housing the door . the first signal is applied to a timing system and a voltage comparator so that a second signal is produced to limit closure of an open door . the second signal is maintained for a predetermined and adjustable time period after the first signal has been removed .',\n",
       " 'an apparatus for protecting a boat from harmful contact with the piling of a dock is provided . the apparatus comprises a generally rigid . vertical . elongated tube . preferably made of pvc pipe and a hollow sleeve . the sleeve is preferably made of concentric layers of resilient and strength imparting material and has a hollow core aligned with the elongated axis of the tube .',\n",
       " 'an improved nozzle for unloading dry bulk particulate material by suction through the nozzle . a transport medium such as air is drawn by the suction to mix with and thus fluidize the material so that the material may be drawn up through the nozzle . the nozzle is tapered at its first or intake end to cut down on dust emission .',\n",
       " 'a furniture hinge includes a fitting part and a hinge cup that is pivotably connected thereto by way of at least one articulated lever . the articulated lever is connected to the hinge cup by way of an articulated axis . a cushioning apparatus can be actuated by an actuating element and is provided to cushion a relative movement between the fitting part and the hinge cup .',\n",
       " 'a tall wall construction for a multiple floor building is provided . the tall wall includes a bottom or first wall frame panel constructed to a standard wall height specification . a top or second wall frame panel constructed to a standard wall height specification . and a structural truss having a height equal to a corresponding floor system .',\n",
       " 'a venetian blind includes a headrail . a storage rail . a covering unit and a retainer . the storage rail has front and rear sidewalls . each of which is formed with a horizontal rib . the storage rail further has two ends and an upper end opening disposed between the two ends . the retainer is configured as an inverted u - shaped plate .',\n",
       " 'the invention provides a temporary portable shelter for an individual or individuals from the severe effects of a tornado or hurricane . the enclosure consists of an case . having six sides . which is constructed of polycarbonate thermoplastic of extremely high quality and of superior strength and endurance . the enclosure has a hinged door with door latch assemblies that may be operated from the inside .',\n",
       " 'a wear resistant cutter insert structure and method include a stud having at least one face . a primary tapered ridge and at least one secondary tapered ridge extending from the primary tapered ridge are formed in the face . a layer of abrasive material is disposed over the face covering the primary and secondary tapered ridges .',\n",
       " 'an apparatus for continuously controlling fluid flow in a sewer conduit . comprising : a ) moisture sensors detecting levels of fluid in this conduit . b ) an inflatable bladder . mounted in the sewer conduit for releasably sealing in fluid tight fashion a section of this conduit . a compressed air source for inflating the bladder .',\n",
       " 'the method of demolishing a building includes self - propelling a demolition machine into the building . operating the demolition machine so as to form a movement hole at a floor part of an upper story . moving the demolition machine to the upper floor via the movement hole . moving the demolition machine to the highest floor by repeating the aforementioned operation .',\n",
       " 'this invention provides a method for repair for poles which have been damaged by environmental effects . which is easily transportable . simple to install . and easily adaptable to many classes of poles . the method involves excavating around the pole . cleaning the surface of the pole . pumping a fumigant into the pole .',\n",
       " 'a method and device scatter preheated sand . urea . road salt . etc . from a spreading vehicle onto runways and roads to counteract slipperiness caused by snow . ice . sleet . mud and the like . preheating of the material is by an electronically controlled lp - gas driven burner in close association with feeding of the material from the spreading vehicle to the surface which is to be treated .',\n",
       " 'a hole cutting device for rapidly and accurately recovering metal targets discovered with a metal detector . without the grass damage commonly produced by presently available target recovery techniques . the hole cutting device includes a cylindrical cutting tube for cutting and capturing a plug of grass and soil according to the detected depth of a target .',\n",
       " 'a process of forming a visible textural surface on a decorative acoustical panel having a fibrous body portion is disclosed herein . this process includes coating an exterior surface of the body with a film of hardening liquid . distributing individual granules of particulate material generally uniformly over a substantial portion of the exterior surface to provide a granular texture to the surface .',\n",
       " 'a turbine - powered intensifier assembly is a part of a drill collar and attaches to the downhole end of a drill string . a drilling mud stream from the drill string branches . one branch is cleaned of solid matter by centrifugal cleaners . the clean fluid drives the turbines of several stages of turbine - pump intensification and a turbine drive of the centrifugal cleaners .',\n",
       " 'elongate bodies for use in providing architectural and structural features in pre - cast panels are provided . the elongate bodies may comprise a cross - section comprising a set portion . a hinged portion . and a hinge . the set portion and the hinged portion are configured to define an engagement . the hinge couples the set portion and the hinged portion such that the hinged portion is movable about the hinge to an engaged state and disengaged state .',\n",
       " 'method for maintaining the water balance in a property equipped with a drainage system for waste water . the waste water being conveyed via the drainage system to a waste water container . the fresh water that constitutes a part of the waste water is supplied from a fresh water container . and the water balance is maintained in the property by supplying a quantity of water to the system .',\n",
       " 'a down - hole gas separator for a pump provides for the pumping of liquids from the lower portion of an inclined or horizontal passageway . the separator includes a nozzle for connecting to a pump inlet . the nozzle has an inlet and an outlet . the nozzle outlet is connected to the pump inlet .',\n",
       " 'an energy efficient garage door construction comprising a plurality of interconnected door sections . each of the sections includes a pair of symmetrical metal panels forming the opposed sides and long edges of the section . an expanded polystyrene core to which the metal panels are adhesively bonded . and a pair of generally u - shaped end pieces nestingly received between the metal panels .',\n",
       " 'a combination valve and valve extension allows an operator to open and close a hose bib . a ball valve attaches to the free end of a hose bib . an extension member includes a coupling end that slides over the handle of the ball valve . a handle is provided at an opposite end of the extension member to allow torque to be exerted on the ball valve handle to open and close it .',\n",
       " 'a method for drilling a drainhole through a subsurface formation without intersecting upper or lower boundaries thereof in which a directionally sensitive measurement while drilling device carried on the drainhole string is used to measure a formation property which indicates proximity to a formation boundary . upon detection of such proximity .',\n",
       " 'an annular seal for a setting tool in a packer tieback extension comprises a downhole oriented packer cup assembly . as the tool is run in the hole the packer cup flexes as the rising hydrostatic pressure equalizes across the cup into what started as a zone with atmospheric pressure inside the packer tieback extension .',\n",
       " 'a wraparound enclosure has two sections . joined by a hinged strap member . which telescopingly engage when applied around an article to form a right rectangular parallelepiped . a microwave detectable tag is secured on the interior to one wall of the enclosure . the sections are interlocked in the closed condition by three pairs of latches and strikes .',\n",
       " 'the device has an elongate net with an extended . open mouth . the net forms a channel - shaped volume in which floating debris from a swimming pool can be collected . a tubular frame member extends lengthwise across the mouth of the net . and floats are provided to support the net and the tubular frame member at the surface of the pool water .',\n",
       " 'the disclosure relates to a support railing for a curved conveyor path . the support railing is of the type which follows the radius of the curved conveyor path . the support railing is secured in brackets . with at least one bracket in each end of the support railing . the support railing further displays a flexible intermediate section with fixed end pieces in each end of the intermediate section .',\n",
       " 'the present disclosure includes a tool operated channel latch used to secure a panel against a structure . the latch includes a bracket which mounts to a movable panel and includes an actuating mechanism to open and close the latch . a bolt is pivotably retained relative to the bracket for engaging against the structure closed by the panel .',\n",
       " 'a high performance . multiple rotor . hydraulically driven riding trowel for finishing concrete includes a rigid trowel frame with two or more downwardly - projecting . bladed rotor assemblies that frictionally engage the concrete surface . the rotor assemblies are tilted with double acting hydraulic cylinders to effectuate steering and control . double acting hydraulic cylinders also control blade pitch .',\n",
       " 'a slip system includes a set of drive slips having wickers thereon . substantially all of which being truncated in cross - section . a set of gripping slips operatively interengagable with the set of drive slips . a drive slip end ring in operable communication with the set of drive slips . and a gripping slip end ring in operable communication with the set of gripping slips .',\n",
       " 'a leg assembly for a compliant offshore tower provides a structure allowing foundation drive piles to be driven and attached entirely externally to the space frame of the tower . and simultaneously providing restraints on bending forces within the drive pile — flex leg connection structure . allowing for ease of construction and assembly and greater strength and life - expectancy for the structure .',\n",
       " 'a cutting structure for a rotary drill bit includes a cutting element 30 having a front layer 32 formed of polycrystalline diamond . bonded to a backing layer 33 formed of tungsten carbide . the cutting element is bonded to a carrier 33 which is formed of a number of detachable individual elements having means holding them in position such that .',\n",
       " 'a replacement drain catch with internal cross bars to replace defective . damaged or missing pop - up stoppers or other missing partially occluding drain protective devices used in drains for sinks or tubs . the drain catch has a flange which sits atop the plumbing drain of the sink . and includes a pair of perpendicular bars to catch objects that may fall within the plumbing drain or that may be in the fluid passing through the drain catch .',\n",
       " 'a hole opener for use in the horizontal directional drilling industry is provided having an interchangeable sleeve reamer . the hole opener is in the form of a three - piece tool comprising a top shaft member . an interchangeable sleeve member and a bottom sub member . the interchangeable sleeve member being configured to be securely and removably mounted onto the top shaft member such that is does not rotate freely about the axis of the shaft member .',\n",
       " 'a tool for retrieving animal waste is effective in complete removal as it deploys at its end a row of tines that are inserted beneath the solid waste so that is can be lifted from the ground as the first step for proper disposal . the waste is then removed from the tines by a plate that pushes it off into a waste receptacle .',\n",
       " 'a controller for controlling the pump unit of an oil well includes a sensor having a first and second probe for placement in the flow of oil from the well bore . each of the probes contains a heater . a constant power source is selectively connected to one of the heaters .',\n",
       " 'a drillpipe line installation system . the drillpipe string being composed of drillpipe sections which are added and removed to increase and decrease the length of the drillpipe . and a length of cable is disposed within the drillpipe string . the length of this cable is greater than that of the drilipipe string when the cable is put in the drill pipe .',\n",
       " 'a rain - gutter cleaning system has an agitator head that is mounted to the top end of a long suction tube and pole and supported aloft by them . a vacuum pump on the ground is connected to bring rain - gutter debris down the suction tube and into a collection bag .',\n",
       " 'a new and improved type of aluminum stoplog for use in stoplog gates . the stoplog is made of extruded channel members . has lifting hooks on its top end to facilitate removal . and has a recessed region running along its bottom end to accommodate the lifting hooks of an adjacent and lower stoplog of like design .',\n",
       " 'a method for evaluating wellbore integrity including introducing a drill to a surface of a casing encompassing an annulus . enclosing the drill in a housing hydraulically isolating the surface . drilling through the casing and into cement surrounding the casing . observing a pressure of the fluid . and using the pressure observation and a drill position to evaluate a presence of a defect and a location of the defect .',\n",
       " 'a two sided colonial grid assembly for a closure and an assembly . such as a glass pane door or window . wherein the grid structure incorporates both real and false muntin bars as well as integral and false glazing beads . the assembly is structured to allow a snap - fit type of attachment of the glazing beads into the grid assembly and in engagement with the glass panes such that the entire assembly is structured to facilitate and reduce cost of assembling and manufacturing while providing an authenticate and aesthetically pleasing appearance .',\n",
       " 'a flume for diurnally storing and releasing municipal sewage in its conveyance network of sewers and interceptor piping to reduce peak flow rates in a sewer system and the downstream wastewater treatment plant . the disclosed invention reduces peak flow rates without affecting flow rates below a selected threshold . maintaining minimum flow rates while storing wastewater in sewers and providing features that protect against sewer backups during high flows .',\n",
       " 'an elongate gutter cover adapted to be positioned over the open trough of a conventional rain gutter . the gutter cover is configured to deflect leaves and other debris away from the gutter . the rain water . however . follows the contour of the gutter cover into the gutter itself . the gutter cover is made from materials that are substantially entirely deformation reversible between two extreme configurations .',\n",
       " 'this invention relates to an impact compactor including a wheeled chassis structure and at least one non - round roller carried on an axle assembly . the axle assembly is rotatably mounted on a drag link . which is pivotally mounted on the chassis structure . the compactor includes also a lifting arrangement for lifting the roller from the ground .',\n",
       " 'a house design which incorporates a pedestal type foundation capable of facilitating construction on sites of the varying types of using a post and beam technique . the house design utilizes a central core as an essential focal point of the entire house structure . the design makes it possible to increase the size of the lower level of the structure up to 60 - 75 %.',\n",
       " 'the instant disclosure relates to a system and method of constructing drilling and production platforms that are particularly useful in remote . inaccessible and / or environmentally sensitive operating environments . according to one aspect of the invention . an arctic drilling platform is provided wherein various methods and means of interlocking neighboring platform modules are provided .',\n",
       " 'a periodically shieldable solar structure comprises a cavity formed between a pair of light transmitting members . a foam insulation / shading system is provided for periodically filling the cavity with degradable foam . the foam insulation / shading system comprises a series of foam generators mounted within the cavity and distributed therealong to provide multiple foam generating points therewithin .',\n",
       " 'a polycrystalline diamond compact comprising a diamond table is formed in a high - pressure . high - temperature process using a catalyst . the catalyst being substantially removed from the entirety of the diamond table . and the diamond table attached to a supporting substrate in a subsequent high - pressure . high - temperature process using a binder material differing at least in part from a material of the catalyst .',\n",
       " 'a hybrid wellhead system is assembled using a plurality of threaded unions . such as spanner nuts or hammer unions . for securing respective tubular heads and a flanged connection for securing a flow control stack to a top of a tubing head spool . the tubing head spool is secured by a threaded union to an intermediate head spool .',\n",
       " 'a specially designed rotary indexing system and associated operational methods are incorporated in a downhole control device . representatively a sliding sleeve valve . having an outer tubular member in which an annular plug seat is coaxially disposed . the plug seat is resiliently expandable between a first diameter and a larger second diameter and is illustratively of a circumferentially segmented construction .',\n",
       " 'a subsea wellhead assembly has the capabilities of communicating from the outer surface of an inner wellhead housing to a casing annulus . a connector . adapted to attach to a riser . connects to the outer surface of the inner wellhead housing . thereby communicating with the casing annulus . the wellhead housing has a passage extending from the casing annulus to its outer surface .',\n",
       " 'a slip - type gripping assembly comprises an outer body defining a longitudinal through opening for receipt of the object . a number of slip bodies are circumferentially spaced about the through opening and are radially movable toward and away from the locus of the object . each slip body is pivotable about a generally longitudinal axis generally circumferentially centered with respect to the slip body as well as about a tangential axis .',\n",
       " 'a vapor blow through avoidance method . process and system for oil producing wells developed based on an innovative theory of vapor blow through pump . the system consists of casing gas remover . dynamic fluid level detector and downhole pump . process includes adjusting casing gas remover and or pump rate based on result of comparison of the detected dynamic fluid level with the pre - set target dynamic fluid level .',\n",
       " 'a ribbed roof t - joint or butt joint patch is provided for application to intersecting and overlapping portions of a single ply membrane of different heights . when applied to the joint formed by the intersecting and overlapping membranes . the ribbed joint patch having an adhesive layer conforms to the void formed by the joint and assures a water tight seal .',\n",
       " 'a method of preventing intrusion of fluid into a horizontal well bore . a quantity of liquid composition capable of gelling and containing a breaker is introduced into a horizontal well bore up to a point corresponding to the bottom of the intrusion zone . after the liquid composition gels into a temporary gel .',\n",
       " 'disclosed is a privacy slat for insertion into the channels of a chain link fence that engages the knuckles of the fence wire by providing an elongated body member having a pair of longitudinal fins along the outside edges thereof in which at least one notch is provided in at least one of the fins for engagement with a knuckle of the fence .',\n",
       " 'a method for controlling the gears of a vehicle that has an automatic transmission that is arranged to change gear according to a plurality of gear modes that differ in that changing to a higher gear is carried out at different minimum engine speeds or . if the changing is carried out steplessly .',\n",
       " 'a connector is disclosed which allows standard hardware pieces to be easily connected to round or other substantially non - planar surfaces or surfaces with minimal planar aspects . currently . direct connection of standard hardware to round or other substantially non - planar surfaces is cumbersome . or not practical or possible since existing hardware is generally configured to attach only to planar surfaces .',\n",
       " 'a climbing stick apparatus includes a plurality of stick members . each of which includes a fastener reception portion at each stick member end and a plurality of foot - support - reception channels . a plurality of member - to - member couplers and fasteners are provided for erecting a plurality of stick members in a longitudinal arrangement .',\n",
       " 'a shut - off valve is disclosed for use in a downhole string of tools in a well . the valve has a housing adapted to be connected between adjacent tools of the string . defining a bore and a passage for hydraulic communication between the adjacent tools . the passage is arranged to intersect the bore .',\n",
       " 'a hollow profile formed of a flat material having a width has at least one groove provided on an outer side of at least one of the plurality of walls of the profile and having a bottom spaced form the outer side by depth and two opposite . substantially flat side walls extending substantially perpendicular to the bottom .',\n",
       " 'purified water production system from condensation of air humidity . system which is electronically controlled and composed of a appliance with an air entrance with filter . cold coil . for the condensation of air water vapor . collector and condensed water storage tank or primary storage tank . provided with a level sensor to recover the water condensed by the coil .',\n",
       " 'apparatus for constructing modular buildings in which a reuseable framing structure is expanded to a shape desired of a building . building material is removably attached to the framing structure . fluent concrete is introduced to the building material . the framing structure is retracted with the building and removed . the framing structure has means for expanding its height and width .',\n",
       " 'a bang - bang servo system controls motors which provide drive for trucks on each end of a fabric support beam structure . a plurality of such truck / beam / fabric units comprise a retractable roof separation of inner and outer truck guiding tracks / support platforms may be wide and somewhat variable . the radius of curvature of the inner and outer tracks may vary widely over the beam excursion path between open and closed roof conditions .',\n",
       " 'a lock . suitable for use in a car door . has a rotary latch which cooperates with a locking wedge . or the like . and can be locked by a locking pawl in a locking position . the pawl is actuatable by a setting device for bringing the rotary latch at least into an open position .',\n",
       " 'this application describes a device to convert an existing pool skimmer assembly into a pressurizable pool skimmer assembly which allows the existing pool skimmer assembly to act with this existing pool pump in emergency situations . such as assisting firefighters with pool water for extinguishing local wildfires or house fires . this method utilizes a removable plug cap and o - rings to allow the pool pump to draw the pool water from the poolmaid drain using the existing pool skimmer .',\n",
       " 'a drag bit having a plurality of blades or ribs on its end face has one or more pockets milled into the top surfaces of said blades using a ball - nosed end mill to create a plurality of pockets . each having a spherical or a semi - spherical first end and a second end having a semicircular configuration that intersects with the leading edge face of the rib .',\n",
       " 'right rectangular parallelepiped construction modules including a system of latitudinal tangs and grooves and inner and outer shoulders which cooperate to interlock stacked or staggered construction modules . the construction modules can also include reliefs in their tops . sides and bottoms for receiving rebar supports . electrical lines . plumbing lines . or other means .',\n",
       " 'methods and apparatus for controlling a barrier movement operator having a timer - to - close feature are disclosed . the methods and apparatus include arrangements for conveniently inhibiting and re - activating the timer - to - close feature and for providing a mid - stop position during movement toward the closed position . additionally . the embodiments include methods and apparatus for reversing barrier operation .',\n",
       " 'a cleaning apparatus for cleaning the inner surface of an oil or gas production tubing is disclosed . the cleaning apparatus includes a tubular body . one or more cleaning elements mounted on the outer surface of the body and an elastically deformable stabiliser . the elastically deformable stabiliser is rotatably mounted on the body to centralise the apparatus in the tubing whilst also allowing the body to pass though areas of reduced diameter in the production tubing .',\n",
       " 'this invention discloses a pocket door . the pocket door is capable of pivoting on hinges between a frame that holds the pocket door and allows it to slide in and out of a pocket to open and close a passageway . more specifically . the pocket door is hinged to the moving frame and also includes a two - part panel .',\n",
       " 'a compact and aesthetically - pleasing self - closing door hinge comprises a gravity - assist feature and preferably a spring - assist feature . wherein the spring may be easily adjustable . replaceable . and even left out of the hinge . the preferred embodiment is reversible for easily changing from a right - opening to a left - opening door .',\n",
       " 'an anti - ram system and method of construction having a shallow mounted base pad from which extend a plurality of bollards . very little or only a shallow excavation is required for the base of the bollard system . which can be partially or fully assembled prior to bringing it to the installation site .',\n",
       " 'the technology of the present application provides a collapsible canopy shelter having one or more side awnings that are pivotally coupled to the canopy frame . the canopy shelter for this has reinforced eaves for additional structural integrity . as well as at least one collapsible ventilation flap in the canopy cover that is capable of moving between a closed position and an open position to ventilate air from beneath the canopy cover as desired .',\n",
       " 'a pull - out water sprayer comprising a water conveyance body provided . at its inlet end . with a coupling to a flexible hose and comprising a switching device that is adapted to provide access of the water selectively to a first duct . which is connected to a central discharge port . and to a second duct .',\n",
       " 'a cover for in - ground meter enclosures used in traffic loading conditions employs a relatively thin plate member formed of a ductile iron alloy and is dimensioned to extend laterally across a top opening of an in - ground meter enclosure . a plurality of relatively thick rib members of the ductile iron alloy are formed with and extend generally normal from the bottom side of the plate member .',\n",
       " 'a pet waste vacuum and disposal device is disclosed herein . the device advantageously takes the form of a walking stick fabricated using phosphorescent plastic materials to aid a pet owner taking a pet for a walk at night . the pet waste vacuum and disposal device integrally includes a vacuum which is operable via a button located conveniently on the outside of the walking stick .',\n",
       " 'method and apparatus for fishing for and / or communicating with subsurface apparatus . in a preferred embodiment . a subsurface logging - while - drilling or measuring - while - drilling apparatus is placed in tandem with a drill string near the bottom of a borehole . the lwd apparatus includes a surface retrievable component such as a nuclear source carrier with a fishing head facing upwardly .',\n",
       " 'an exothermic cutting electrode or burning bar having an oxidizable metal fluid conduit surrounded by alternate layers of wire wound helically in opposite directions . the entire structure covered with an outer oxidizable metallic tube . either end of the electrode being adapted for connection to a source of oxidizing fluid and electric current .',\n",
       " 'an improved concrete lining machine is provided for lining the walls of a bored tunnel . the machine typically consists of three separable machine sections each having a frame and a plurality of supporting plates rotatable in an endless loop chain . fresh concrete is sealed from the second machine section by a plurality of adjoining main and auxiliary plates which remain in place relative to the concrete until the concrete is at least substantially cured .',\n",
       " 'a retrievable tension - set packer . by itself . and in conjunction with retrievable tension - set bridge plug for use in field testing of oil well casings is disclosed . the retrievable tension - set packer is constructed to be set and sealed above an area of the oil well casing to be tested .',\n",
       " 'a self - propelled drilling tender has mounted therewith a drilling rig and a jack - up platform adapted to be mounted on the drilling tender or ship for transportation from one drilling site to another site . thereafter drilling operations occur with the drilling on the ship thus enabling the ship to operate as a drilling ship or the platform legs can be lowered to jack the platform off the ship to thereby enable the platform to operate independently as a drilling platform .',\n",
       " 'the technology of the present application provides a collapsible canopy shelter having reinforced eaves for additional structural integrity . as well as at least one collapsible ventilation flap in the canopy cover that is capable of moving between a closed position and an open position to ventilate air from beneath the canopy cover as desired .',\n",
       " 'the invention concerns a device for rinsing a fluid - storage space that is provided with a rising chamber fillable with a fluid arranged in the region of the high point of the storage - space floor . which chamber . when the storage space runs empty . abruptly lets the fluid run out through a rinse opening as a rinsing torrent .',\n",
       " 'a temporary sign support stand that is mountable to a concrete barrier in a manner that affords high resistance to toppling from high winds or wind turbulence caused by vehicles passing close by . the support stand comprises an inverted u - shape saddle and a support on the saddle for supporting a post for a sign or other member .',\n",
       " 'the invention describes a system for capping an abandoned well having production casing and surface casing . the system enables the effective sealing of the production casing volume from the surface casing volume such that any gases leaking from either volume can be independently released from independent valves . the system is particularly effective in improving the safety of re - entering an abandoned well .',\n",
       " 'an open - close portion structure of a vehicle body includes : an open - close member which opens and closes an opening of the vehicle body . a first hinge member provided on the vehicle body . a second hinge member provided on the open - close member . being pivoted with the first hinge member .',\n",
       " 'a hydraulic oil well pumping arrangement employs a compensating type hydraulic pump . a directional valving arrangement and a proportioning valving arrangement . when the directional valve is energized . oil is directed to the rod end of the hydraulic cylinder . in one embodiment . a time delay halts the movement of the sucker rod or pumping string to allow accumulation of oil in a slow following well .',\n",
       " 'embodiments of the present invention generally relate to an apparatus for supporting a tubular that more evenly distributes stress along the contact length of a tubular than prior art designs . in one embodiment . an apparatus for supporting a tubular is provided . the apparatus includes a bowl having a longitudinal opening extending therethrough and an inner surface for receiving a gripping member .',\n",
       " 'the invention relates to a venting band with at least two side strips extending parallel to one another and a center strip . parallel to the side strips extend venting bands formed by continuously connected walls or webs . the venting bands can therein have diverse forms . at least one venting channel is provided .',\n",
       " 'an open hole packer uses mandrel expansion and a surrounding sealing element that can optionally have a swelling feature and further a seal enhancing feature of a ring with an internal taper to match an undercut on the mandrel exterior . as a swage progresses to the taper at the transition between the ring and the extending flat fingers .',\n",
       " 'a protective device installed to or around an offshore drilling platform for oil or gas and the device when in operation to encircle or enclose the platform with a floating containment device and attached oil containment curtain hanging from the device to the ocean floor . the pollution containment device to be submerged normally and activated to the surface when needed .',\n",
       " 'a universal blade mount is provided for securing or attaching the rearward ends of push tubes of a blade structure to the a - arm suspensions of an atv . the mount includes a pair of telescoping tubes which enable the mount to be narrowed or widened depending upon the particular atv being utilized .',\n",
       " 'improved techniques are provided for drilling a deviated borehole through earth formations utilizing a rotary bit powered by a drill motor . and for obtaining information regarding the borehole or earth formations . a sensor permanently positioned in the drilling string between the drill bit and the drill motor detects a downhole parameter .',\n",
       " 'material is first formed into a flat ring . ball retaining pockets are then formed in the flat ring leaving bridge material between adjacent pockets . bearing balls are inserted into the ball retaining pockets and bridge material between adjacent pockets is then reshaped such that the bridge material wraps partially around the balls .',\n",
       " 'a high pressure fuel system includes tapped high pressure flows with restrictors to provide low pressure flows with which . via a valve to enable either a low pressure flow to bias a main . high pressure fuel cut off valve to close at a steady given rate . or a high pressure flow across a further valve .',\n",
       " 'a night - light adapted to illuminate a toilet bowl and located in the toilet &# 39 . s flush - handle . the light shuts off automatically and remains unobtrusive and clean during use . a semiconductor circuit built into the flush - handle extinguishes the light after a certain length of time . powered by a lithium battery .',\n",
       " 'an ejector and method of reducing jet engine noise are disclosed wherein the primary combustion gas stream of the jet engine is ejected into a mixing section or zone of the ejector and into which a secondary gas stream is also injected at a velocity sufficient to create a choked or mach 1 .',\n",
       " 'a controllable clutch includes a plurality of piston members . a plurality of oil passages communicating with the piston members and a plurality of grooves for receiving a roller from the piston members . the piston members are disposed in one of an inner race and an outer race . the pistons in the piston member can extend in the same rotational direction to form a one - way clutch in that direction .',\n",
       " 'a thermostat or controller for controlling water circulation in a solar heating system is disclosed as including a resistant bridge circuit with a solar panel temperature responsive resistance and a storage tank temperature responsive resistance in opposite arms joined at one power input node with a differential comparator connected across the sensing nodes of the bridge .',\n",
       " 'an improved solar apparatus for heating above 100 ° c . is disclosed . said apparatus comprises a solar collector means for heating a heat transferring gas . ducting means extending from said solar collector means for permitting moving of said gas past a heat storage medium whereby heat in said gas will be transferred to said heat storage medium by directly contacting said heat storage medium .',\n",
       " 'the casing of a pump defines a threaded hole into which is inserted an outer block for reacting radially directed forces transmitted by a second inner block from a movable . pressurized cam ring surrounding the pump rotor . the blocks have mutually parallel mating surfaces arranged generally parallel to a plane tangential to the ring .',\n",
       " 'a motor vehicle hydraulic pump is provided comprising a gerotor rotor set or planetary rotor set and at least two output stages . a first output stage of the hydraulic plump is connected to a lubricant . in particular . a clutch lubricant . a second output stage of the hydraulic pump is connected to at least one clutch of the actuation thereof .',\n",
       " 'the invention relates to a brake device for braking a moving brake body by means of pressing a brake element onto the brake body . wherein a conversion device is provided for converting a rotational movement of a brake drive shaft into a translational movement of the brake element in the direction of the brake body .',\n",
       " 'a remote control wire apparatus including a control wire . a coil spring formed in at least one end of the control wire and a socket for mounting on a working part or a control part and for locking engagement with the coil spring whereby a simple adjustable connection is made between the control wire and the working part or the control part .',\n",
       " 'a hydraulic control system for distributing pressurized fluid to a multi - mode hybrid - type power transmission is provided . as well as a method for regulating the same . the hydraulic control system includes an engine - driven main pump in fluid communication with a main regulator valve . and an electrically - driven auxiliary pump in fluid communication with an auxiliary regulator valve .',\n",
       " 'a method for exploiting the net torque exerted by a conveyed fluid on the valve plate of a butterfly valve to facilitate control of the valve . and a butterfly valve adapted for use with the method are disclosed . the method employs translational movement of the valve plate to facilitate rotational movement of the same and to effect dynamic torque balancing .',\n",
       " 'the arrangement according to the invention provides a sealing ring fastened to the end ring in a manner secure against removal by pulling or twisting . this sealing ring is provided with thickened extended arms and is fastened by snapping in the thickened arm sections behind an internal radial shoulder through openings in the flange of the end ring .',\n",
       " 'a target system for receiving a target having a target body and target projection extending therefrom . the target system comprises a main frame and a target attachment system . the main frame comprises an elongated target receiving member defining an elongated target receiving member surface and two vertically distant projections extending from the elongated target receiving member surface .',\n",
       " 'a self - modulating scroll compressor includes a pair of valves . a first valve moves to a low capacity position when the pressure differential is below a predetermined amount . a second valve moves to a low capacity position when the suction pressure is above a predetermined amount . low capacity operation will only occur when both valves are open .',\n",
       " 'a valve of an accumulator device . which is formed by an accumulator cylinder and an accumulator piston guided therein . includes a valve sealing body . the valve sealing body is configured to selectively open and close a valve opening at a valve seat . the valve also includes an opening mechanism configured to selectively raise the valve sealing body from the valve seat .',\n",
       " 'the present invention relates to a system for supplying an air - fuel mixture to a two - stroke internal combustion engine . comprising a carburettor having a throttle valve and a choke valve . the system further has a transfer passage between a crankcase chamber and a combustion chamber of said engine . a supply conduit for additional air is having an air valve for said additional air .',\n",
       " 'a detection and alarm system comprises a piezoelectric film sensor and associated circuitry . the sensor detects acoustic emission signals from metallic objects under stress upon which it is affixed . the associated circuitry receives electronic signals from the sensor . creates and evaluates a sensor output value including rate ratio and frequency content of such signals within preset time limits .',\n",
       " 'a structural support system for the aft end of advanced design combustion transition duct members of specially configured to withstand high temperature gradients and mechanical loads developed in heavy - duty cannular gas turbine combustion systems . a composite element support system is provided for each transition duct member wherein one end of a cylindrical base element is contoured for and welded to the outer wall of its associated transition duct member .',\n",
       " 'the apparatus and method convert the fuel system of an internal combustion engine in a pre - existing vehicle to operate on a mixture of fuels from a single fuel tank . the apparatus includes a fuel composition sensor installed in the fuel line and an electronic control unit with at least one fuel injector driver circuit for controlling an output signal to at least one fuel injector for controlling the air to fuel ratio of the engine .',\n",
       " 'a vehicle having an engine that drives a transmission includes a pump that provides fluid to the transmission and a temperature sensor that monitors a temperature of the fluid . the temperature sensor generates a temperature signal . a control module receives the temperature signal and operates the pump to provide the fluid at a first pressure when the temperature signal is below an upper temperature limit .',\n",
       " 'three way valves forming a fuel cut - off valve are arranged across respective injection pipes connected to injection nozzles associated with preselected cylinders of the engine . in a first valve position . the three way valves connect the injection pump body or bodies of the fuel injection pump to the respective injection pipes .',\n",
       " 'the present invention relates to a hose for collecting rain water or draining water . and a telescopic hose is described . the pipe wall of the telescopic hose is formed by a plurality of wrinkling parts coiled in a stretching direction of the telescopic hose . the telescopic hose has the advantages as follows : the problem that the hose is difficult to be kept in a folded or extended state is solved .',\n",
       " 'a mud saver valve adapted to be connected below a kelly including an elastomeric sleeve that opens and closes within a housing . the sleeve defining a flow passage within it and closing against a barrier located within the flow passage . the sleeve closing against the core at low positive differential pressures .',\n",
       " 'a centrifugal pump conveys a fluid from a rotor wheel inlet opening via a rotor wheel outlet opening into a pressure nozzle . the fluid has a velocity profile between the outer flow line and the inner flow line . the method allows a fluid to be conveyed with a centrifugal pump in such a manner that the velocity profile is continuously changed in dependence on the delivery flow which means that an abrupt change of the velocity profile when transferring from one load condition .',\n",
       " 'a reflective insulative blanket for use in construction applications . such as curing concrete . thawing frozen ground and other insulative purposes . the blanket comprises at least one moisture - impervious layer attached to an insulative layer . the insulative layer includes a plurality of hollow . insulative elements . the moisture - impervious layer may close the insulative elements and / or the space surrounding the insulative elements .',\n",
       " 'a hybrid power transmission integrated system includes a first planetary gear train . a second planetary gear train . a first transmission - connecting set and a second transmission - connecting set . a control method includes : arranging the first transmission - connecting set to provide a first power input end . arranging the second transmission - connecting set to provide a second power input end .',\n",
       " 'an exhaust brake incorporates a slide valve with a decreasing returning or opening effort without also having an increased working or closing effort of its valve elements incorporated therein . the brake system includes a first valve piston connected to a closing slide valve and adapted to move in reciprocating motion inside a cylinder under an operating pressure supplied thereto .',\n",
       " 'this invention details a lubrication system for an automatic transmission . specifically the bearings of the planetary pinion gears . the planetary carriers have grooves formed in spider and flange sections thereof to carry the lubricating material from the inner diameter of the planetary carrier to the inner diameter of each pinion gear bearing mounted in the planetary carrier .',\n",
       " 'a tensioner comprising a base . a shaft connected to the base . an eccentric adjuster coaxially engaged with the shaft . an arm pivotally engaged with the shaft . a pulley journalled to the arm . a torsion spring engaged between the arm and the base . the arm comprising a first receiving portion and a second receiving portion disposed axially opposite from the first receiving portion .',\n",
       " 'the toroidal - type continuously variable transmission comprises a hydraulic loading mechanism of an oil pressure type for pushing an input disk toward the disposition side of an output disk to thereby transmit the rotation power of the input disk to the output disk . and a countersunk spring incorporated in a hydraulic chamber formed in the loading mechanism for elastically pushing the input disk toward the disposition side of the output disk .',\n",
       " 'this disclosure relates to a improved thermodynamic cycle with power unit and venturi . a method of producing a useful effect therewith using a greater pressure gradient created locally in a fluid using the venturi . and more particularly . the use of a first portion of the fluid in the thermodynamic cycle as driving force for a venturi .',\n",
       " 'a method is provided for cooling an engine driven . electrical generator set and for reducing the fan noise associated with operation of the same . the method includes positioning a fan on the first side of the radiator . the temperature adjacent a first side of the radiator is monitored and the fan is rotated in response to the temperature of the air on the first side of the radiator exceeding a threshold .',\n",
       " 'the present invention provides a pre - embedded / pre - built - in hole creating apparatus for buildings . including : a pipe casing for a pipe or a pipeline system of the building to pass there through . at least one thermal - expandable foam detachably accommodated within the pipe casing . an inspection annulus detachably joined with the pipe casing .',\n",
       " 'a gas turbine component with a layer of ceramic material defining a wear surface . in which an array of cross - shaped depressions formed in the wear surface define a continuous labyrinth of orthogonal walls of the ceramic material . and reduce the area of the wear surface by about 50 %. within a representative area of the wear surface .',\n",
       " 'a multipoint fuel delivery system for an internal combustion engine includes fuel metering device such as fuel injector associated for selectively controlled injection of the second fuel to corresponding combustion chamber of the internal combustion engine . a fuel supply manifold associates with fuel injector for directing the second fuel to each fuel injector .',\n",
       " 'a free floating wave energy converter includes a flexible pine and an inlet . the flexible pipe floats on water surface . following the wave form . slugs of water and air enter . one after the other . through the inlet . because the flexible pipe follows the shape of the wave . water is transported through a manifold to a pressure chamber connected to a generator .',\n",
       " 'a system is set forth to increase the capacity of an lng - based liquefier in a cryogenic air separation unit wherein . in a low production mode . the nitrogen that is fed to the lng - based liquefier consists only of at least a portion of the high pressure nitrogen from the distillation column system while in a high production mode .',\n",
       " 'a cylinder with position feedback sensor . including a barrel . a piston rod and piston . markings associated with a central portion of the piston rod are readable by a sensor . in practice . the freedom of slidable movement of the piston rod is such that the markings are retained at all times entirely within the barrel during use so that the external environment cannot influence the markings .',\n",
       " 'in a device for separating oil from the blow - by exhaust vapors of a combustion engine . a filter stack is mounted in a canister having an inlet port for the intake of vapors from the engine . a gas outlet port for connection to a source of suction for causing the vapors to flow through the canister .',\n",
       " 'valve operating apparatus is disclosed in which intake or exhaust valves of an internal combustion engine are operated by rocker arms driven by cams having different cam profiles and hydraulically operated coupling mechanisms for selectively connecting or disconnecting adjacent rocker arms to vary the operation of the valves under different engine operating conditions .',\n",
       " 'a device and method for controlling the conditioning of air in the zones of a forced air hvac system . the device comprises thermostats located in at least two different zones . air ducts and dampers located therein to control the flow of air to the different zones . the microprocessor receives signals from the thermostats corresponding to perceived temperatures in the zones and compares the perceived temperatures to predetermined temperatures and determines a trajectory for each of the zones .',\n",
       " 'the present invention provides for a system for calibrating operation of a compressor unit in a heating . ventilation . and air conditioning system . a measuring device measures an operating parameter of the hvac system at a position where the measuring device is mounted on a refrigerant line of the hvac system .',\n",
       " 'a lighting assembly that has a light fixture and an led light module is provided . one or more resilient members generate a compression force when the led light module is removably coupled to the light fixture to thereby exert a generally axial force on the led light module to resiliently maintain the led light module in resilient contact with the light fixture or socket of the light fixture to thereby resiliently couple the led light module to the light fixture or socket of the light fixture .',\n",
       " 'the trajectory correction kit is a completely self - contained retrofit kit that is externally and fixedly mounted as an add - on to the rear of an existing . unguided rocket . the tck continuously measures the pitch and yaw of the rocket as it is released from the launch tube and during the initial seconds of the flight and calculates the trajectory correction that is necessary to eliminate the measured pitch and yaw .',\n",
       " 'in order to increase energy efficiency in an industrial furnace operated by heating gas and protective gas for thermally treating materials . a first burner is actuated for heating with priority over a second burner . the second burner is engaged additionally and operated when the output from the first burner falls below the level necessary to heat the industrial furnace up to a temperature setpoint .',\n",
       " 'a retractable arrow rest activated on the initial movement of an arrow is provided . the arrow rest has a retractable pin which is an articulated pin or alternatively a telescoping pin . having a spring - loaded retract mechanism . by moving the articulated pin to an extended overcenter position . the pin is locked to support an arrow .',\n",
       " 'the present invention relates to electrically heated steam generators and means for preventing and removing incrustations due to hard water in such generators . according to the invention this is achieved by means of a superimposed direct current the polarity of which is periodically changed whereby gas bubbles . mainly carbon dioxide and hydrogen .',\n",
       " 'an improved apparatus for conditioning the temperature of the air in a substantially confined space . such as a room . is disclosed . the conditioning system is complete and integrated in a portable unit suitable for insertion in a wall opening . such as a window . the operative elements are divided between two separate enclosures .',\n",
       " 'a shower device made of lightweight . easily assembled parts that can be adapted to a water source for hand - held or stationary water delivery at varying heights of water distribution . this sort of water delivery device enables one with compromised height . e . g . a handicapped person . to enjoy the full extent of water delivery during a shower .',\n",
       " 'a personal computer . video monitor or other electronic equipment mounted directly on a camera tripod by a tray offering a cantilever technique of support by having a rear end supported by two clamps individually positioned at the same height on two of the tripod legs . and a front end locked by a third clamp at a higher elevation on the remaining leg of the tripod .',\n",
       " 'a system for pressurizing transmission control elements includes an accumulator for containing pressurized fluid . first and second check valves . a booster valve supplied with accumulator pressure . and an actuator that causes the booster valve to open a fluidic connection between the accumulator and the control elements through the check valves in response to an engine restart signal .',\n",
       " 'an auxiliary power unit for an aircraft with reduced weight . but which at the same time meets all fire - related airworthiness standards . the apu comprises a metallic housing having mounts for attaching the housing to an external structure . the apu further comprises at least one temperature sensor suitable for detecting temperature under fire conditions .',\n",
       " 'an acceleration device of a carburetor for a two cycle engine with a rotary dual valve which controls air flow through both a scavenging passage and a separate air intake passage each extending through a carburetor body . the carburetor body houses a metering fuel chamber and an air reference chamber defined by a diaphragm between them .',\n",
       " 'a wire - binding device for binding together at least two objects comprises a handle part via which the wire - binding device can be held by an operator . pushing forward the handle part causes a v - shaped wire clip to be guided along the inside of two closing jaws of a mouth until the wire clip encloses the two objects which are to be connected .',\n",
       " 'the present invention is a holding device for a rope . cable . wire and the like hereafter referred to as rope and more particularly a sliding cam rope cleat comprised of a holding device . a slideable cam member controlled by a sliding handle and two passageways therethrough for the rope member .',\n",
       " 'a fuel nozzle assembly for a gas turbine includes a plurality of circumferentially spaced vanes with holes for flowing fuel from plenums within the vanes through holes in the vane walls for premixing with air . to tune the nozzle assembly . the holes are resized by reforming the existing holes to a predetermined hole size .',\n",
       " 'a method for reconditioning a hot gas path part of a gas turbine in order to flexibly adapt an operation regime of said gas turbine for subsequent operation intervals is disclosed . the method includes providing a hot gas path part to be reconditioned . removing a predetermined area of said hot gas path part .',\n",
       " 'disclosed is an apparatus . including a shaft . a scoop . coupled to a distal end of the shaft . for collecting and holding a bolus of a compressible medium . the compressible medium retaining a post - compressed shape when operated from a proximal end of the shaft . and a former . coupled to the scoop and mating with the scoop .',\n",
       " 'a method for regulating an internal combustion engine where engine measurement and engine adjustment values is provided . and adaptation values modify the engine parameters . comprising measuring a first engine measurement parameter representative of a first physical engine parameter . measuring a second engine measurement parameter representative of a second physical engine parameter .',\n",
       " 'a low - drag seal arrangement for a thermal management valve including a housing having a chamber and at least one bore for flowing a fluid medium through the at least one bore between a location exterior of the housing and the chamber of the housing . a rotor is configured to rotate within the chamber of the housing relative to the bore .',\n",
       " 'a housing of a centrifugal blower for use in an air conditioner is provided that includes a rotatably supported fan wheel . an inlet opening disposed in the axial direction of the fan wheel and an outlet opening disposed in the radial direction of the fan wheel . a widening diffuser is disposed downstream from the outlet opening in the flow direction .',\n",
       " 'a process of utilizing combustion products from fossil fuels to produce hydro - electric power through a process of allowing such products to displace water from a tank for operating a turbine or pelton wheel . the process allows hydro - electric power to be generated at a greatly increased efficiency . preferably . two tanks are used to receive combustion products which exert pressure to displace the water .',\n",
       " 'a hot water supply apparatus comprises a thermodynamic circuit having a compressor . a condensor for heat exchange between the thermodynamic fluid in the circuit and a high temperature source . that circuit further includes an evaporator arranged for heat exchange with a non - freezable heat carrying fluid which is circulated in a solar energy collecting circuit .',\n",
       " 'a compressor includes a shell . a compression mechanism . a motor . a base member . and a mounting foot . the compression mechanism is disposed within the shell and the motor is drivingly engaged with the compression mechanism . the base member is coupled to the shell and a mounting foot is fixed to the base member .',\n",
       " 'an endless driving belt of the kind adapted for entrainment between at least two pulleys in a v - belt continuously variable transmission . has a plurality of links . means for connecting each link to a next link to enable articulated movement of the links . a plurality of primary blocks engaging the links and positioned one each between adjacent pins .',\n",
       " 'a fastener assembly for attaching roofing insulation to roof decks . a washer with a broad load - distributing flange has a crushable region which is deformed as the fastener becomes fully seated . this region insures that the joint is loaded with a predetermined force before the depth - sensitive driver disengages reducing the likelihood of overdriving or underdriving .',\n",
       " 'a transmission configuration includes an automated dual - clutch transmission having two transmission sections with respective input shafts . respective output shafts and respective motor clutches . the motor clutches are connected . on a motor side thereof . to a drive shaft and to a respective one of the input shafts on a transmission side thereof .',\n",
       " 'a locking device includes an operating lever . a base and a repulsion generating member . wherein the operating lever has a releasing position and a locking position relative to the base . and the repulsion generating member is arranged between the base and the operating lever and generates a repulsion force for application to the operating lever during movement from the releasing position to the locking position .',\n",
       " 'an electrical connector that avoids some of the disadvantages associated with electrical connectors in the prior art . in particular . the illustrative embodiment of the present invention uses spring - loaded contacts to maintain connection in the presence of the vibration associated with a rocket launch . and also includes an environmental seal and electromagnetic shield so as to provide an environment for the electrical contacts that is isolated from the ambient environment and external electromagnetic radiation .',\n",
       " 'to allow for easier opening of a refrigerator door . a pressure relief system is provided to relieve a pressure differential or vacuum that develops due to operation and use of the refrigerator . the pressure relief system includes a check valve having an orifice with a flexible membrane . an insulation portion of the pressure relief valve .',\n",
       " 'an apparatus for removing oil from air in an air compressor that has a piston reciprocable in a cylinder to compress the air . includes an oil removal chamber associated with the compressor . an unloader valve has an unactuated condition and an actuated condition disabling flow of compressed air out of the compressor and establishing fluid communication between the cylinder and the oil removal chamber .',\n",
       " 'the invention relates to an electromotor comprising a housing which consists of a ferromagnetic material and a rotationally driven shaft which is located in said housing . said housing comprises at least one bearing shield . with a bearing for the shaft . the bearing has sensor means for determining the state of rotation of the shaft .',\n",
       " 'a hinge assembly for pivotably connecting the display portion and the body portion of the portable computer comprises a first fastening portion for attaching to the display portion . a second fastening portion for attaching to the body portion . and a pivot portion for pivotably connecting the first fastening portion with the second fastening portion .',\n",
       " 'systems and methods enable yaw offsets on wind turbines in a wind farm . a wind turbine yaw controller receives a present wind direction signal from a local wind direction sensor and aligns the wind turbine in a substantially perpendicular direction based upon the present wind direction signal . a yaw controller is retrofitted between the wind direction sensor and the yaw controller to provide an adjusted wind direction signal to the yaw controller based upon the present wind direction signal and a yaw offset signal .',\n",
       " 'the invention is a replacement for a conventional incandescent or halogen light bulb . besides providing regular illumination . it has advantages over a conventional bulb while maintaining the bulb &# 39 . s decorative function . such as visual effects associated with the bulb &# 39 . s envelope or shade . the invention comprises a connector equivalent to a standard light bulb base .',\n",
       " 'a solar tracking system having particular utility for insuring that a relatively lightweight solar collector is properly positioned with respect to the sun . a parabolic reflector surface is included to provide a line of focus of the sunlight directed toward a cylindrical energy absorption tube . photovoltaic cells provided on either side of the energy absorption tube are directed toward the parabolic reflector surface .',\n",
       " 'a faucet assembly with a vertical riser that is easier to install both for an initial installation and a retrofit installation . the faucet assembly has a main faucet body that defines an axially extending cavity . a positive locking mechanism in the form of a resiliently compressible star lock washer is disposed to rest on the bottom of the cavity .',\n",
       " 'a modular luminaire which uses led light sources . the basic frame comprises two end pieces compressed together by through bolts . at least one elongated heat sink is compressed between the end pieces . each heat sink may bear a plurality of leds mounted on a printed circuit board which may have an integral metallic backplate .',\n",
       " 'a pre - stressed cartridge of the invention generally comprises a cylindrical liner wrapped with a plurality of layers of wound fibers or high tensile wires . these high tension wrapped windings put the walls of the cartridge liner into compression . thus pre - stressing the cylindrical liner . a cartridge constructed in this fashion may develop an ultimate strength in the circumferential direction which approaches ten times the ultimate strength of a typical solid metal cylinder alone .',\n",
       " 'the present invention is a self - leveling follower for an ammunition magazine . side extensions provide greater stability to the follower and aid in its self - leveling feature . the follower according to the present invention is also manufactured to facilitate removal from and insertion into the magazine casing when maintaining the magazine .',\n",
       " 'the present invention relates to an electric immersion heater utilized in heating liquids contained in a cylindrical container . such as a boiler . the immersion heater is affixed to the side of the container with the heater elements extending through the side of the container through an access hole . the heater elements are contoured so as to allow more than one heater to be installed at a given level through the side of the container .',\n",
       " 'in a fuel supply system for an internal combustion engine with direct fuel injection including a fuel supply pump and . downstream thereof . a high pressure pump for supplying high pressure fuel to a plurality of injectors and . parallel to the high pressure fuel pump . a hydraulic transmission operated by the low pressure fuel of the fuel supply pump for generating initially high pressure fuel to the fuel injectors so as to permit instant engine startup upon actuation of a valve disposed in the fuel supply line from the fuel supply pump to the hydraulic transmission .',\n",
       " 'an electric probing - test machine comprises a probe card having a plurality of probes contacted with chips of a semiconductor wafer and serving to apply test signal to a tester which judges whether circuits on the chips of the wafer are correct or deficient . a main chuck for holding the wafer at a test temperature .',\n",
       " 'an apparatus and a method for sealing a conduit . the apparatus includes a housing . a tube for reciprocably extending through the housing bore . a rod reciprocably extending through the tube . a seal assembly associated with the tube and the rod . wherein the seal assembly includes at least one seal element which expands radially in response to an axial setting force .',\n",
       " 'a multiple output and effect grenade is provided . in which an exothermic delay column is utilized to initiate a series of primers via the application of heat to the strike faces thereof . thereby providing a reliable and relatively safe grenade to ship and store . in particular . a multiple output and effect grenade comprised of an exothermic delay column disposed within a central cavity .',\n",
       " 'a piston for a piston cylinder unit . particularly a gas spring . is to be provided with a piston ring and comprises a portion extending at least from the piston ring groove to a free end and consisting of a plurality of segments separated from one another by longitudinal slots . this portion is provided with a bore the diameter of which is at the free end smaller than the diameter of the related portion of the piston rod .',\n",
       " 'a pump for pumping an incompressible liquid comprising a housing having an inlet and an outlet . a pumping chamber in said housing . and a positive displacement pumping member mounted for movement in the pumping chamber . the housing has an inlet passage which leads from the inlet to the pumping chamber and an outlet passage leading from the pumping chamber to the outlet .',\n",
       " 'a fuel metering system of an internal combustion engine is controlled by an analog computer circuit which delivers injection pulses to actuate the fuel injection valves of the engine . the duration of these pulses is directly related to the amount of injected fuel and depends partly on the inherent electrical characteristics of the components of the analog computer circuit .',\n",
       " 'a cam mechanism for converting rotary motion into a constant velocity reciprocating motion includes a driven shaft rotatable about an axis of rotation . first and second cam members mounted to the driven shaft for conjoined rotation therewith . a first pair of followers is in contact with the first cam member on opposite sides thereof .',\n",
       " 'an apparatus and method to clean flue gases . as shown in fig . 1 . a condenser 10 is provided having two packed beds and two condensate loops . the condensate loops are configured such that anti - corrosive agent may injected . corrosives are removed from flue gases as condensate containing anti - corrosive agents passes over the flue gases .',\n",
       " 'a method for calibrating an output signal of a mass airflow sensor in operative communication with an induction system of an internal combustion engine is provided . the method comprises the steps of determining an engine speed value . determining a maximum maf output signal value at the engine speed value . detecting a mean maf output signal value at the engine speed value .',\n",
       " 'a carpet of wave energy conversion device mechanically couples an absorber carpet to one or more energy converters . thereby allowing for wave energy extraction from passing waves . the absorber carpet may be flexible material of a composite material that has a low elastic modulus in a longitudinal direction . and a relatively higher elastic modulus in a transverse direction .',\n",
       " 'a fuel injection device of for internal combustion engines . particularly a unit fuel injector . having a pump piston preferably driven via a drive cam and having a free piston hydraulically driven by the pump piston . the free piston divides a pump chamber from a pressure chamber . from which a pressure line leads to an injection nozzle of the engine .',\n",
       " 'a method of lighting for use in motion picture and video production including . in various embodiments . the steps : providing lighting modules . each having one or more manual controls for controlling light output characteristics such as the intensity and hue of light produced and each capable of wirelessly communicating with other lighting modules over a wireless data network .',\n",
       " 'control system capable of controlling the refrigeration capacity of a refrigeration system adapted for cooling a fluid medium . the refrigeration system being of the type including a refrigerant . an absorbent having an affinity for the refrigerant . an evaporator for bringing the refrigerant into heat transfer relationship with the fluid medium .',\n",
       " 'a system for non - destructively measuring the strength of a cement slurry sample includes an elongate sample container for receiving a cement slurry sample . the elongate sample container has a mass mounted at its first end . a transducer mounted at a second end of the elongate sample container vibrates the elongate sample container and mass .',\n",
       " 'a purchase card maximization apparatus . method . and program product enhances efficiencies realized by an organization through performance metrics and reporting by analyzing applicable purchases through a cost center hierarchical display . measuring performance against baseline targets . highlighting areas in need of improvement . and providing reports that list specific steps to improve purchase card program performance .',\n",
       " 'a method and apparatus for inspecting defects includes emitting an ultraviolet light from an ultraviolet light source . illuminating a specimen with the ultraviolet light in which a polarization condition of the ultraviolet light is controlled . controlling a polarization condition of light reflected from the specimen which is illuminated by the polarization condition controlled ultraviolet light .',\n",
       " 'an image display apparatus includes display control means for displaying a map image and a real image on a display screen on the same scale concerning the same region based on map data and real image data . the display control means has a function of superposing on either of the map image and the real image as a background .',\n",
       " 'in the past . user authorization based on biometric information was conducted by correlating a single instance of biometric information against a template . by using this method . a percentage of the population is difficult to authenticate . further . due to skin damage and injuries . sometimes biometric information is not suited to identification .',\n",
       " 'the invention relates more particularly to a pressurized water nuclear reactor in which the heat exchange between the primary and secondary circuits takes place by means of steam generators . a reserve tank is placed in the secondary circuit parallel to the steam generator and inside or outside the latter . it is pressurized directly by the secondary fluid in the gaseous phase leaving the generator .',\n",
       " 'a method for performing a decimal floating point operation including receiving a first operand having a first coefficient and a first exponent into a first register . a second operand having a second coefficient and a second exponent are received into a second register . an operation . either addition or subtraction . associated with the first operand and the second operand is received .',\n",
       " 'an integrated circuit architecture includes a bit mask register and a serial access memory which share address decode and clock circuitry within a multiport random access memory chip . the integrated circuit also includes a random access memory and circuitry for performing a bit masked transfer between the serial access memory and the random access memory .',\n",
       " 'the present invention is directed to radiolabeled n - substituted - 6 - iodo - 3 . 14 - dihydroxy - 4 . 5α - epoxymorphinans . intermediates for producing the same . and a process for the preparation and methods of detecting opioid receptors . the radioimaging agent of the present invention has the following formula : ## str1 ## wherein i is selected from the group consisting of 123 l and 125 . and where r is alkyl .',\n",
       " 'a method for identifying the orientation of an interesting object in a digital medical image comprises steps of creating a rectangular interesting image mask that covers the interesting object . based on the original digital medical image . generating a rough image based on the interesting image mask . the rough image coarsely describing the interesting object .',\n",
       " 'in a recording and reproducing apparatus of cd or the like . it is adapted such that the time difference between an edge of a pll clock synchronized with an efm signal and a transition point of the efm signal is measured in a time difference measuring circuit . a focus bias voltage to bring the time difference to a minimum is established in a bias voltage generator .',\n",
       " 'a method and system for processing speech misrecognitions . the system can include an embedded speech recognition system having at least one acoustic model and at least one active grammar . wherein the embedded speech recognition system is configured to convert speech audio to text using the at least one acoustic model and the at least one active grammar .',\n",
       " 'embodiments relate to computing . and in particular . to methods . apparatuses and systems for operating on a database . certain embodiments implement a consumption services reference by an sadl design - time tool that allows users to create sadl use modes based on existing business objects . business object entities and associations . the consumption service can provide a design - time tool or user with indications of a particular bo entity &# 39 . s availability based on a particular consumption scenario within a given sadl mode .',\n",
       " 'a sensor for determining the position of shock wave pulses of a shock wave source comprises a device for holding a metal foil in the region of focus for the shock wave source . the metal foil is held to extend perpendicular to the main propagation direction of the pulses and the incidence of the pulses on the metal foil will cause a bulge - like deformation of the material to be formed at the point of incidence .',\n",
       " 'the present invention features a material handling vehicle identification system . the material handling vehicle has a universal system processor for controlling the vehicle speed . acceleration . direction and motion of a plurality of different vehicles . a semiconductor memory device is permanently affixed to the chassis of the vehicle during the manufacturing process .',\n",
       " 'computer - implemented methods and systems support financial decisions by searching for securities or portfolios similar to one or more reference securities or portfolios . alerting a user when the number of references to a selected financial instrument on at least one selected web site exceeds a predetermined amount . and / or enabling a user to graphically display financial entities and dynamic relationships between them .',\n",
       " 'the present invention relates to a high - density disk that is structured to prevent a collision of an optical pickup &# 39 . s objective lens with the high - density disk if the disk is placed upside down in a disk device that is able to record and reproduce signals to / from the high - density disk .',\n",
       " 'this invention . the motor - wing gimbal aircraft is an aerial vehicle and waterborne craft . it launches and lands vertically from the ground and water . in flight . it transitions from vertical . hovering and forward flight to horizontal flight . the mga embodies multiple configurations and arrangements of motor - wings . propulsion systems and hybrid engine combinations .',\n",
       " 'an acceleration sensor has a mass movably linked to a peripheral attachment section to which at least one stopper is attached to stop the motion of the mass in a certain direction . in the absence of acceleration . the mass rests at a distance from a first surface of the stopper .',\n",
       " 'the invention relates to a system for protecting a solar module against theft or unauthorized use by an authorized consumer . said system comprises an interruption device on the solar module side and a release device on the consumer side . the interruption device transmits a first signal to the release device via a power line and interrupts the transfer .',\n",
       " 'a phase change medium . a device and a method for driving a phase change medium are proposed that allow writing at high speed and erasing at low speed . the proposed low - speed erasing option must be seen as a formatting option that can be applied to the whole medium so as to put the medium back to a virgin state .',\n",
       " 'a hybrid spectrophotometric instrument utilizing absorption and fluorescence observations requires different cell parameters for optimal performance . the ability to have an instrument with a variable optical path length with a single set of optical surfaces and one detector to reduce system variance is unique . a zero angle photon spectrometer with the additional hardware and software to support a variable path length instrument is described .',\n",
       " 'a method for controlling an electric amplifier is provided . the method includes monitoring a closed - loop control signal of a regulator . which triggers an end stage of the amplifier . adjusting the closed - loop control signal as a function of an output signal of the end stage . comparing the closed - loop control signal with a reference signal .',\n",
       " 'a single - panel matrix display has rows of pixels continually illuminated by scanning red . green and blue light bands . the transmissivity of the rows is modulated for each colored light band in turn by sequentially driving a group of closely - spaced rows of the pixels which are about to be illuminated by the color light band .',\n",
       " 'the present invention provides for a multiple station rf coil array comprised of multiple three concentric surface coil arrays for achieving a large field of view and high imaging resolution . yet another embodiment of the invention provides for an rf coil array comprising three coil elements without sharing the same plane .',\n",
       " 'in a conventional quantitative plan simulation . it is practically impossible to prepare a spreadsheet - type data input template applicable to all types of plans . thus . a quantitative plan simulation system is required to handle a plurality of spreadsheets containing variously - formatted data . therefore . the present invention provides a simulation system .',\n",
       " 'this invention relates to methods and reagents for selecting a desired protein or nucleic acid molecule by linking mrna . with known or unknown sequences . to its translated protein to form a cognate pair . the cognate pair is selected based upon desired properties of the protein or the nucleic acid . this method also includes the evolution of a desired protein or nucleic acid molecule by amplifying the nucleic acid portion of the selected cognate pair .',\n",
       " 'a rinsing and drying apparatus of a clinical analyzer probe drain station is provided . the rinsing and drying apparatus has a group of nozzles that are offset from a longitudinal axis of a probe passage and may be inclined and oriented to provide tangentially oriented fluid - jet trajectories exiting into the sample probe passage .',\n",
       " 'a heater control system has a phase control circuit coupled between a power supply and a heater to control the phase of current to be supplied to the heater . a short circuit device is connected to short circuit the phase control circuit to allow current from the power supply to flow directly to the heater .',\n",
       " 'a voice coil type lens drive assembly for adjusting the focus of a lens is provided which can prevent the occurrence of trouble in the event of exertion on an external force on the lens not only in a completed state of assembly but also during assembly or during disassembly for repair and is applicable also to a downsized lens drive assembly .',\n",
       " 'an electrographic apparatus has a transparent photoconductor on which visible images are formed by applying toner to a latent electrostatic image . the toned image is subsequently transferred to a copy sheet and fused to the sheet . a post - development erase lamp is located on one side of the photoconductor . the density of toned images on the photoconductor is measured by light rays from the erase lamp traveling through the photoconductor and a toned control image thereon to a photodetector on the opposite side of the photoconductor .',\n",
       " 'a system . method . and apparatus for dynamically and automatically transforming desktop web content into a mobile - optimized version for consumption by a variety of mobile devices . the system is delivered as saas platform on a hosting server . input may be provide by a user who interacts with the system by simply entering a website address .',\n",
       " 'the elongated glass filament used in the filament concentrator of a micro cleanup and concentration apparatus for trace residue analysis by gas liquid chromatography includes a jacket with an elongated filament freely suspended from a feed tube and terminating with a distal end situated adjacent the reduced drip tip of the jacket and being centralized thereby due to the inner wall of the flow tip being concentric with but slightly spaced from the outer surface of the distal end of the filament .',\n",
       " 'addition of coronands and cryptands to flc - mixtures makes it possible to bring the flc material into a homogeneous &# 34 . bookshelf &# 34 . or &# 34 . quasi - bookshelf &# 34 . geometry . when such a flc mixture is used . displays which have been shock - damaged can be regenerated by applying a suitable electric field for a short period of time .',\n",
       " 'a method of creating registration signature data for a computerized signature collation scheme . a plurality of signature data sets are averaged in order to calculate a candidate set of registration signature data . the candidate set of registration signature data is collated with each signature data set . when no unacceptable discrepancy is found as a result of collation between the candidate set of registration signature data and the signature data sets .',\n",
       " 'radiation - sensitive organo - halogen compounds having a photo - labile halomethyl - 1 . 3 . 5 - triazine moiety and at least one amine - containing moiety within one molecule . the compounds serve the dual purpose of photoinitiation and polymerization acceleration . thereby eliminating the need for the use of two separate compounds . the compounds of this invention are good photoinitiators .',\n",
       " 'a pedestrian detection system and method includes : dividing an image to a plurality of granules . and counting magnitude difference value of each granule in diagonal orientation to obtain features of hogg . and the hogg and the hog captured can work together to improve the detection rate and reduce the false alarm rate .',\n",
       " 'a self - contained decontamination vehicle containing a system for man - carried equipment washing down personnel at the site of a major chemical disaster . the vehicle contains equipment for decontaminating the equipment used by the emergency personnel so that such man - carried equipment can be brought back into service immediately . all contaminated liquids are either retained within the vehicle for later disposition in a safe manner .',\n",
       " 'a committed bidder auction is a system and a process that is an alternative to an english auction . in a committed bidder auction . one or more of the unsuccessful bidders is obligated to pay some amount . a fraction of their final and largest bid . the “ dollar auction ” well known to game theorists and management students .',\n",
       " 'a method of producing holes in a component . in particular of turbomachines . wherein each hole extends from a first . outer surface to a second . inner surface of the component and wherein the method has . for example . the following steps : producing a 3d model of the actual geometry of the component .',\n",
       " 'a document ejection device for a document conveyor having a document ejecting roller to eject a document sheet from the document conveyor to the outside of the conveyor . and ejecting speed reduction device which reduces the ejecting speed of the document sheet after the document is passed through the ejecting roller .',\n",
       " 'an x - ray detecting element detects an image produced by x - ray irradiation . an apparatus case capable of being inserted into a mouth has an x - ray irradiation face having different dimensions in two directions perpendicular to each other . and houses the x - ray detecting element . a cable is connected to the apparatus case to transmit a signal from the x - ray detecting element to the outside of the apparatus case .',\n",
       " 'if an inspection method for inspecting a patterned medium is intended for the nanoimprint process control . it is necessary to measure a correct shape of each pattern element . on the other hand . if the inspection method is intended for the quality control of products . it is necessary to inspect the products on a i00 percent basis .',\n",
       " 'embodiments relate to segmenting blood vessels in angiogram images . an aspect includes a method that includes receiving and preprocessing at least one angiogram frame and preprocessing . in one embodiment . at least one angiogram frame is received and preprocessed . bottom - up filtering of the preprocessed angiogram frame and top - down segmentation of the preprocessed angiogram frame are performed based on the results of the bottom - up filtering .',\n",
       " 'the present invention relates to a locking technology adapted to a place which requires an electronic locking apparatus such as a safe . an entrance door . a drawer . a cabinet . etc .. and in particular to an improved electronic locking apparatus capable of preventing an intruder from illegally unlocking a locking apparatus and implementing a complicated and variable communication signal system between an input apparatus and an opening and closing apparatus in an electronic locking apparatus which is formed of an input apparatus and an opening and closing apparatus for implementing an electronic locking apparatus as a reliable locking apparatus .',\n",
       " 'compositions containing a polymerizable . curable or crosslinkable component . a photoinitiator . a colorformer capable of changing color upon contact with a suitable activator and a latent activator containing an organic halide will become insoluble and change color under the influence of actinic radiation . the organic halide is a carbonylic compound such as an aliphatic or cycloaliphatic ketone or an ester or amide of a dicarboxylic acid .',\n",
       " 'a removable collar of flexible . absorbent material fits over the neck of a bottle . the collar absorbs liquids that drip from the bottle . the material is initially shaped as an isosceles trapezoid . the collar is formed into a truncated . generally conical shape by overlapping two opposing vertices at each end of the shorter parallel edge of the trapezoid to form a point at a lower end of the collar to produce the appearance of a “ cravat .” a vertex at the longer edge of the trapezoid overlaps a portion of the shorter edge of the trapezoid and is secured to the overlapped portion at a single point .',\n",
       " 'a reimagable medium and a method for “ writing ” to a reimagable medium are disclosed . the reimagable medium includes a liquid crystal layer . one or more photochromic layers and an electric field generating apparatus . the electric field generating apparatus supplies voltage levels across the liquid crystal layer causing the liquid crystal layer to transfer between a white and a transparent state .',\n",
       " 'disclosed is a secure system of authentication including a means for retrieving information about an authenticated individual . more specifically . the system allows a person to execute forms at any location across the world by submitting to a positive identification test . in turn . authorized personnel can receive all pertinent information associated with the authenticated individual .',\n",
       " 'the invention relates to a smart card reader . the inventive reader has a universal switch contained in a contact support . the universal switch contains two identical passive contact elements as well as an active contact element . by having two identical passive contact elements . an operator can choose between a close and an open final position without having to change to a completely different reader .',\n",
       " 'a camera is capable of using a film cartridge bearing code indicia indicating the film speed of the film contained in the cartridge . the camera comprises first means for detecting the film speed from the code indicia of the film cartridge loaded in the camera and generating a first corresponding signal .',\n",
       " 'a digital image processing - based system and method are disclosed for quantitatively assessing nucleic acid species expressed in a microarray . the microarray is a grid of a plurality of sub - grids of the nucleic acid species . the system includes a scanner that has a digital scanning sensor that scans the microarray and transmits from an output a digital image of the microarray .',\n",
       " 'a data storage control device including a dram and a storage device has an address bus common to the dram and the storage device . and a control device for selectively applying an address signal relating to the dram and another address signal relating to the storage device to the address bus .',\n",
       " 'a system and algorithms to authenticate a person where a system only has some standard personal text data about the person . and cannot have a real biometric template obtained using an enrollment procedure . the authentication allows access to restricted resources by the person . this method is especially useful when it is used as an auxiliary authentication service with other methods such as password or callback that dramatically lower the chances for an imposter .',\n",
       " 'a method for translating a virtual address into a physical address . in which page tables used in the translation process are referenced by virtual addresses . typically . a translation mechanism includes a translation buffer that . given a virtual address . can sometimes provide the corresponding physical address . a translation - buffer miss is said to occur when the translation buffer is presented with an address for which it can not provide the translation .',\n",
       " 'methods and apparatus . including computer program products . for updating information on a writable tag bound to an article . in one aspect . a method includes : receiving in a system first attribute information for a first article derived from data read automatically from a first tag bound to the article . similarly receiving second attribute information for a second article .',\n",
       " 'a robot teaching position method for easily modifying an original position of one of a plurality of taught points arranged on a straight line to a modified position moved a distance along the straight line from the original position . an operator selects one of the plurality of taught points . inputs a distance of movement along the straight line from the one taught point to the modified point .',\n",
       " 'a system for generating a secure document for conveying sensitive information includes a customer information receiving module . an encoding module in data communication with the customer information receiving module . and a printing module in data communication with the encoding module . the printing module is configured to provide printing instructions sufficient to generate a secure document from the customer information .',\n",
       " 'queuing operations are separated into distinct logical blocks despite the need to share information . preparatory operations such as queue status fetching . correctness check and random early drop operation may be performed in one or more logical blocks and the completion of the queuing operation . either enqueuing . dequeuing or both . may be performed in another logical block .',\n",
       " 'we propose a procedure for the determination of lactic acid or lactate in biological fluids . which is simple and low cost with respect to the known methodologies . this procedure can be used by unskilled personnel and it can be implemented in disposable test strips and portable measure devices . the procedure is based on the photochemical reaction of lactic acid with fe .',\n",
       " 'maximized multi - state compaction and more tolerance in memory state behavior is achieved through a flexible . self - consistent and self - adapting mode of detection . covering a wide dynamic range . for high density multi - state encoding . this approach borders on full analog treatment . dictating analog techniques including a to d type conversion to reconstruct and process the data .',\n",
       " 'method for controlling a matrix display screen enabling its contrast to be adjusted as regards a liquid crystals screen and its luminosity as regards a fluorescent micropoints screen . said method consisting of periodically applying line conductors addressing signals v1 having for a certain period a value vmax into an absolute value to be applied to column conductors of control signals .',\n",
       " 'a method for discriminating the operation type of a disk device uses an optical head carrying an objective lens . the gravity doesn &# 39 . t affect the control force of the optical head in the horizontal operation type . reduces the control force in a vertical operation type . and increases the control force in inverse operation type .',\n",
       " 'this invention is directed to an improved process for causing the development of electrostatic latent images on an imaging member comprising providing a development zone situated between a tensioned deflected flexible imaging member and a transporting member . adding conductive developer particles to the development zone comprised of toner particles and conductive magnetic carrier particles .',\n",
       " 'a focus detecting device of the kind using an area sensor which has a plurality of focus detecting areas necessitates setting a correction value for every one of the focus detecting areas and storing all the correction values thus obtained . whereas . according to the invention . the correction value for each of the focus detecting areas of the area sensor is obtained by an arithmetic operation using .',\n",
       " 'a method for determining rhythm units in audio data forming a musical piece . the audio data is split among a plurality of determination paths wherein it is subdivided into predetermined frequency bands . the data is analyzed for transients in order to determine attack events . in addition . the time intervals between two successive attack events are measured .',\n",
       " 'an automated system and method for calculating healthcare provider claims metrics and generating reports comprising claims metrics . the automated system and method facilitates provider claims analysis for providers that belong to a healthcare system or network . a computer user enters identifying information for a healthcare provider . the healthcare provider identifying information may be used to generate a report for the individual provider and a system report for the system or network to which the provider belongs .',\n",
       " 'the method provides for the fitting of a different distribution to the tail of a distribution of continuous data . than that distribution fitting to the rest of the distribution . by fitting a distribution to this set of occurrences only . better distributions shapes are obtained for that part of a distribution which might otherwise be overly sensitive to individual or small numbers of occurrences .',\n",
       " 'a method for providing one or more outputs at one or more respective time instants is provided . the method comprises generating a data object executable to provide an output . placing the object in a position in a sequence . and executing the object at said position in said sequence to provide said output .',\n",
       " 'a memory interface circuit is provided . comprising : a first signal output circuit configured to output a first signal via a first signal line to a first i / o terminal . a second signal output circuit configured to output a second signal via a second signal line to a second i / o terminal .',\n",
       " 'an image forming apparatus has a fixing unit that fixes a developer transferred onto a print medium . the apparatus includes a temperature detector and a movement detector . the temperature detector has a thermistor that detects a temperature of or near a fixing member . the movement detector detects that the thermistor has moved relative to the fixing member .',\n",
       " 'a method for correcting and / or calibrating magnetic fields . particularly intended for magnets in nuclear magnetic resonance imaging equipment . involves the mathematical description of the field generated by a magnet structure with a harmonic polynomial expansion and the determination of the number . position and magnetization distribution parameters on a predefined distribution grid .',\n",
       " 'a multi - processor array organization is dynamically configured by the inclusion of a configuration topology field in instructions broadcast to the processors in the array . each of the processors in the array is capable of performing a customized data selection and storage . instruction execution . and result destination selection . by uniquely interpreting a broadcast instruction by using the identity of the processor executing the instruction .',\n",
       " 'an ion exchange membrane for use in sensors which measure dissolved gases . disclosed is a method for using ion exchangers in gas permeable membranes to maintain optimal conditions in the electrolyte contained within the sensor . this can greatly extend the lifetime and improve the stability relative to sensors of similar size and electrolyte volume that have been constructed using prior art .',\n",
       " 'in an automated savings and investment system . a service provider negotiates agreements with each one of a plurality of parties defining terms under which funds can be transferred from the respective party to the service provider on behalf of a subscriber . the service provider defines enhanced services under which deposit amounts can be supplemented with additional funds .',\n",
       " 'the present invention proposes to use optimally a location method based on a wifi type short - range telecommunication system and a satellite location system . the short - range telecommunication system is used to locate the terminal accurately within the building in which it is situated . the method uses a cartographic representation of the buildings in order to deduce from the position of the terminal a set of satellites that could be received by the terminal .',\n",
       " 'an optical fiber wavelength demultiplexer including an optical fiber mounted and adhered to a curved surface having a clad single fiber core . a planar surface extending partially into and along the fiber through the cladding . a prism mounted on the surface having a reflective diffraction grating surface positioned to receive signals from the fiber travelling in one direction and demultiplex such signals .',\n",
       " 'a financial transaction card includes a substantially biodegradable substrate . a plurality of seeds . and an account identifier . the plurality of seeds is coupled with the substantially biodegradable substrate such that the plurality of seeds is embedded within and substantially surrounded by the substantially biodegradable substrate . when the financial transaction card is inserted into a planting composition .',\n",
       " 'a power supply connector including a spring loaded member that enhances a connector &# 39 . s ability to engage various power receptacles . this enhanced engagement of the connector and the power receptacle may reduce a contact resistance between the two components and heat dissipation associated therewith . thus . the power supply connector reduces the risk of damage to the power supply due to heat dissipation in the power receptacle .',\n",
       " 'a controlling device for an automobile motor driven antenna including a motor for extending and retracting an antenna by the power from a battery . and a control circuit for controlling the power . the control circuit includes a current detector for detecting the power flowing into and out of the motor and a current breaker which breaks the current when it is over a predesignated level so that a pair of relay contacts in the circuit changes the direction of the current so that the motor may make a forward or reverse rotation for extending or retracting the antenna and automatically make a stop of such rotation .',\n",
       " 'an aqueous printable electrical conductor is defined as a dispersion comprising metal powder dispersed into an aqueous acrylic . styrene / acrylic . urethane / acrylic . natural polymers vehicle or in a film forming reactive fatty acids mixture without a binder resin . the aqueous printable dispersion can be applied to substrates through different printing processes such as flexography .',\n",
       " 'a rotatable substrate supporting mechanism for use in a chemical vapor deposition reaction chamber of the type used in producing semi - conductor devices is provided with a susceptor for supporting a single substrate . or wafer . for rotation about an axis normal to the center of the wafer . the mechanism is provided with a temperature sensing system for producing signals indicative of sensed temperatures taken at the center of the susceptor and at various points about the periphery thereof .',\n",
       " 'a display system and method created by adjusting the properties of one or more displays to obtain coarse control over display behavior . by using sensors to optimize display parameters and meet a quality target . the display may construct a display map by selectively driving the display and sensing the optical image created .',\n",
       " 'a battery pack which provides for the making of internal connections within the battery pack includes a plurality of apertures having battery pack contacts in register with the apertures and are located on top of corresponding metal tabs . the invention allows for a welding tip to be passed through the aperture in order to weld the battery pack contacts to their corresponding metal tabs .',\n",
       " 'a method and system for provisioning remote user data access over digital subscriber lines through connection - oriented packet networks is described . according to a preferred embodiment . dsl terminal units are directed to train at a rate that is not substantially greater than the subscribed data rate . thereby avoiding network congestion due to data rate mismatches between the dsl connection and a corresponding permanent virtual circuit channel through the connection - oriented packet network .',\n",
       " 'a method of reducing gated diode leakage in trench capacitor type field plate isolated dynamic random access memory devices is disclosed . trenches are etched into a face of a body of semiconductor material . storage nodes surrounding the trenches are created . a polysilicon layer is formed on the trench walls . a storage dielectric layer is formed on the trench walls .',\n",
       " 'a method and system are provided for encoding a picture . the method includes encoding the picture into a first encoded picture using a first universal quantizer . if a size of the first encoded picture is greater than a maximum picture size . the method includes encoding the picture into a second encoded picture using small quantizers for smooth regions of the picture and large quantizers for complex regions .',\n",
       " 'an ozone processing device includes : a mounting base on which a substrate is mounted . a heating device to heat the substrate on the mounting base . a plurality of plates facing the substrate on the mounting base and equipped with discharge openings on the surface facing the substrate that discharge ozone gas in the direction of the substrate .',\n",
       " 'an unwanted portion of a radio frequency signal spectrum appearing on a signal line is adaptively canceled by first sampling the unwanted portion of the spectrum . and thereafter filtering the sample . typically at an intermediate frequency . to reduce signal losses . the first sample is then processed to yield a cancellation signal .',\n",
       " 'the present invention relates to a method for recovering a downloading section that has been interrupted . in a device comprising an interface with a network enabling access to a remote server and means for implementing a downloading session with the said server . comprising the steps for starting up a downloading session of a content from the remote server .',\n",
       " 'a method for fabricating a capacitor having a fin - shaped electrode on a dynamic random access memory cell having increased capacitance was achieved . the capacitor is fabricated on a silicon substrate having an active device region . the device region contains a metal - oxide - semiconductor field effect transistor . having one capacitor aligned over and contacting the source / drain of the mosfet in the device region .',\n",
       " 'the invention relates to a rotor for an electrical machine . specially a transversal flow machine . having at least one pole structure . the pole structure encompasses two adjacent rows of magnet arrangements which are alternatively magnetized in the peripheral direction . the rows are separated by an intermediate layer made of magnetically and electrically non - conductive material .',\n",
       " 'a dielectric insulation medium including a hydrofluoro monoether . the hydrofluoro monoether containing at least three carbon atoms . the insulation medium according has high insulation capabilities . in particular a high dielectric strength . and at the same time a low gwp . the invention further includes an insulation medium which is chemically and thermally stable also at temperatures above 140 ° c .. which is non - toxic or has a low toxicity level .',\n",
       " 'a system of surge suppressor units is connected at multiple locations on a power transmission and distribution grid to provide grid level protection against various disturbances before such disturbances can reach or affect facility level equipment . the surge suppressor units effectively prevent major voltage and current spikes from impacting the grid .',\n",
       " 'disclosed are a method and apparatus for embedding or detecting watermarks in a text . which belong to the field of document protection . the method and apparatus overlay an additional layer of shade in a document for recording a large amount of information from watermarks . the shade comprises the dots arranged under certain rules .',\n",
       " 'a method of manufacturing an array substrate comprising . depositing an amorphous material on a transparent substrate . and changing the amorphous material to a polycrystalline material by irradiation of energy beams through a photo mask . the mask including a transparent region permitting the energy beams to pass through and a shutoff region surrounding the transparent region and interrupting the energy beams .',\n",
       " 'varistors with modified response are made by rearrangement of electrical conductors in contact with them as on a circuit board . the rearrangement involves graduated separation of hot and ground leads so as to provide graduated paths through the varistors . the resulting circuit boards are useful in transient voltage surge suppression .',\n",
       " 'an apparatus for remotely controlling audio / video devices from different manufacturers . first code signals are directly input to the remote controller apparatus when it is in a learning mode by way of a cable or an infrared light - emitting unit from a peripheral audio / video device . the first code signals are stored in specified locations of a conversion table in the lookup table memory .',\n",
       " 'the invention provides a modular base station for use in a plurality of telecommunications systems where the systems operate according to different standards . the base station comprises a chassis having means for removably mounting system components to allow system components to be removed and replaced for operation in telecommunications systems operating according to varying standards .',\n",
       " 'this invention relates to an image scanning apparatus and more particularly to the scanning apparatus for use in a digital copier which obtains a negative image from an image of an original . a color image signal is generated from an image sensor by sensing a reflected light from an original through a scanner and an optical filter .',\n",
       " 'the present invention relates to creating and managing electronic documents . in one implementation . a method includes obtaining electronic data corresponding to an application document to obtain a driver &# 39 . s license . analyzing the electronic data to detect steganographic indicia encoded therein . the steganographic indicia comprising a plural - bit identifier . and associating the plural - bit identifier with a plurality of different records associated with an applicant or the application document .',\n",
       " 'a forming press for leads of semiconductor packages comprises a package supporting die and a punch . the punch comprises a package securing component movable along a first line of movement . for temporarily securing the package to the die . and a pair of lead bending components . movable . relative to the package securing component .',\n",
       " 'the present invention discloses a driver for amplifying an operating voltage of a low driving - voltage luminary . the driver includes a driving circuit providing a first signal . and a negative multiple voltage circuit electrically connected to the driving circuit and the luminary respectively for transforming the first signal into a second signal to be transmitted to the luminary .',\n",
       " 'a photovoltaic power generation system that includes a steerable light receiver with one or more photovoltaic cells for collecting light . and a supplementary light source operable to provide supplementary light under predetermined conditions . the receiver is steerable to a docking position at which the light receiver can receive light from the supplementary light source .',\n",
       " 'a multidomain plate acoustic wave device is provided having one or more single piezoelectric crystalline plates with differently polarized ferroelectric domains . where the domains have diverse directions of their axes of polarization . the device may consist of a multidomain plate acoustic wave transducer . a multidomain plate acoustic wave delay line .',\n",
       " 'apparatus and method for authenticating that a sender has sent certain information via a dispatcher to a recipient is disclosed . the method includes the steps of : providing a set a comprising a plurality of information elements a1 . . . . an . said information element a1 comprising the contents of said dispatched information . and said one or more information elements a2 . . . . an comprising dispatch - related information and comprise at least the following elements : a2 — a time indication associated with said dispatch .',\n",
       " 'a power amplifier circuit comprising first and second modules . a current source and a push - pull module . the push - pull module comprises two intermediate transistors and two output transistors . the circuit also comprises third and fourth modules . operating in current mirror mode . inputs of the third module are respectively connected to one main electrode of one of the intermediate transistors and to a node internal to the first module .',\n",
       " 'methods and apparatus for testing real - world performance of an system under test are disclosed . the system under test is loaded with interactive transactions . a realistic mix of network traffic is simulated on the communications network . the performance of the system under test under load is tested . accordingly . a real - world test of the system under test is provided .',\n",
       " 'an authentication apparatus decides whether a sender of an e - mail received is an authentic user . the authentication apparatus includes a confirmation mail transmission unit that transmits a confirmation e - mail to the sender demanding the sender to reply to the confirmation e - mail . and an authentication deciding unit that decides whether the sender is an authentic user depending on whether the sender replies to the confirmation mail .',\n",
       " 'in a contact - type image sensor for use in a facsimile equipment or the like . the surface of the sensor is provided with a transparent film which is electroconductive and of which the surface that is in contact with the sensor elements is formed as a roughened surface capable of scattering light .',\n",
       " 'a claw - pole machine has a stator and a rotor . and an exciter coil that is wound on a solid core in the rotor . the solid core extends in the radial direction into two claw magnet wheels that end in a plurality of claw - pole fingers . having a plurality of solid .',\n",
       " 'an antenna having an em feed . a rear parabolic twist reflector and a front transreflector . the transreflector is closer to the parabolic twist reflector than the focal point of the parabolic twist reflector . and the twist reflector is defined . mounted . or otherwise formed on a parabolic surface of a base .',\n",
       " 'a packet data session release method for ultra mobile broadband access network is disclosed . and which includes : s 402 . when releasing the packet data session . an access gateway sends a proxy mobile ip registration revocation message to the data attachment point of the ultra mobile broadband access network and the evolved base station which has one reverse proxy mobile ip tunnel to the access gateway .',\n",
       " 'a semiconductor integrated circuit according to the present invention . comprising : a buried insulation film formed in a substrate . a first metal layer formed on a top face of the buried insulation film . a vertical transistor having a channel body formed above the first metal layer and in a vertical direction of the substrate .',\n",
       " 'a communications system may include a plurality of communications devices connected together in a network and having a plurality of user accounts associated therewith . at least one of the communications devices may process requests using an http client application associated therewith . the system may also include an application server for accessing the user accounts via the http client application .',\n",
       " 'an acoustic device configured for use with an audio source . the acoustic device includes a stem portion and multiple branches forming a cavity for passage of an audio signal when connected to an audio source . an array of multiple acoustic devices or nodes may be physically connected to form a tree - like structure for providing amplified sound in an aesthetically and tonally pleasing manner which fills its surrounding with sound .',\n",
       " 'the present invention provides a low - cost . steerable antenna formed with a dielectric medium separating a pair of conductive plates and a centrally located signal feed . switches selectively interconnect the conductive plates through the dielectric medium in patterns . which determine the direction of operation of the antenna . the directionality of the antenna may be fixed or rapidly changed .',\n",
       " 'embodiments of the invention relate generally to creating semiconductor junctions with reduced contact resistance . in one embodiment . the invention provides a method of forming a composition of material . the method comprising : providing at least two populations of semiconducting materials . layering the at least two populations of semiconducting materials to form at least two layers .',\n",
       " 'a radiation hardened mosfet is fabricated by forming a dielectric layer of boro - phosphosilicate glass over the field oxide layer of the mosfet . the bpsg covers only a small part of the gate electrode of the mosfet . the gate electrode of the mosfet is formed from two layers of polycrystalline silicon so as to prevent contamination of the gate oxide by the bpsg dopants .',\n",
       " 'a device is disclosed which includes a die comprising an integrated circuit and an interposer that is coupled to the die . the interposer having a smaller footprint than that of the die . a method is disclosed which includes operatively coupling an interposer to a die comprising an integrated circuit . the interposer having a smaller footprint than that of the die .',\n",
       " 'apparatus . and an associated method . for providing wlan service through a fixed wireless access communication system . wlan transceivers are fixed in position at subscriber stations of the fixed wireless access communication system . each wlan transceiver defines a coverage area . through appropriate positioning of the wlan transceivers at the subscriber stations .',\n",
       " 'a battery separator for use in flooded cell type lead acid batteries comprising a backweb of a porous . acid resistant . embossable material with a plurality of ribs extending from at least one planar surface of the backweb . the ribs are located across the width of the backweb and extend in a direction substantially parallel to the longitudinal dimension of the backweb .',\n",
       " 'a clocked comparator circuit comprises an input stage and a sample - and - hold circuit and an amplifier - latch circuit coupled to the output of the input stage . the sample - and - hold circuit provides an accurate offset - voltage compensation and the amplifier - latch circuit provides a high operating speed by means of a switchable current source .',\n",
       " 'electrical components having generally parallel leads extending in one direction from one side of their bodies . respectively . are successively transferred to a conveyor means movable through sequential processing stations to prepare the leads for circuit board connection or sequencing preparatory to such connection . spaced lead grippers on the conveyor means control lead portions adjacent to the bodies of the components .',\n",
       " 'a method for the control of a wound rotor synchronous motor comprises measuring a plurality of electromagnetic entities indicative of the operation of the motor . generating voltage on a stator of the motor to obtain a stator current . further generating a further voltage on the rotor to obtain a rotor current .',\n",
       " 'a code vector comprising 2n data elements is generated in response to n input data elements . the first n data elements of the code vector represent a replica of the n input data elements . and the second n data elements of the code vector comprise n parity data elements . the combination of the first n data elements and the second n data elements forms a kerdock code vector .',\n",
       " 'analyte ions . particularly biopolymer ions . stored in an rf ion trap are ergodically fragmented by bombarding the analyte ions with collision ions . for example medium - mass . mono - atomic ions having a charge of opposite polarity to the charge of the analyte ions . since the analyte ions are not fragmented by accelerating and / or exciting them to oscillations .',\n",
       " 'the present invention provides a frequency synthesizer comprising a noise - shaped quantizer and a divider . the noise - shaped quantizer is utilized for quantizing a period control word to a time - varying value . the divider is used for generating an output signal by of dividing a reference signal by the time - varying value .',\n",
       " 'a vertical voltage - controlled bidirectional monolithic switch formed between the upper and lower surfaces of a semiconductor substrate surrounded with a peripheral wall . including : a first multiple - cell vertical igbt transistor extending between a cathode formed on the upper surface side and an anode formed on the lower surface side .',\n",
       " 'an image sensor having an array of pixel cells . each including a photo - conversion device . the array has first . second . and third groups of pixel cells . the first group of pixel cells receives light and the second and third groups are shielded from light . each pixel cell of the second group is configured to output a black reference signal for determining a black level of the array .',\n",
       " 'a method and device for detecting an error rate of a receiver of data transmitted to a device that is to be checked is provided . a test device generates a data block having a first length and a test signal generated based on the data block is sent . the device to be checked receives and evaluates the test signal .',\n",
       " 'this invention adds to the art of replacement source - drain cmos transistors . processes may involve etching a recess in the substrate material using one equipment set . then performing deposition in another . disclosed is a method to perform the etch and subsequent deposition in the same reactor without atmospheric exposure . in - situ etching of the source - drain recess for replacement source - drain applications provides several advantages over state of the art ex - situ etching .',\n",
       " 'a corrugated plate structure having a solar panel is used for mounting at least one solar panel . the corrugated plate structure has at least one corrugated plate . the corrugated plate has a bottom plate portion and side plate portions bent from two opposite sides of the bottom plate portion . and an accommodation space is formed between the two side plate portions .',\n",
       " 'a digital camera is presented having protection from impact by falling . including a miniature hard drive having an actuator assembly . and a zoom lens and a zoom lens retractor mechanism . the miniature hard drive includes a detector that senses when the digital camera is falling by either reading a motor current signal .',\n",
       " 'a semiconductor device can output a reference voltage for an arbitrary potential and can detect the voltage of each cell in a battery including multiple cells very precisely . the device includes a depletion - type mosfet 21 and an enhancement type mosfet 22 . and has a floating structure that isolates depletion - type mosfet 21 and enhancement type mosfet 22 from a ground terminal .',\n",
       " 'a cable supporting and spacing device utilizes a block of insulating material to space apart two cables . when the device and portions of the cables are partially encased within a closed loop formed by a flexible strap . the device is provided with at least a pair of projections extending outwardly from the surface thereof for &# 34 . snap - in &# 34 . like engagement of the strap to the block .',\n",
       " 'in an encapsulated semiconductor module in which a semiconductor chip . having a major surface with terminals thereon . is deposed within the encapsulating material . a plurality of self - supporting . unitary . discrete . and continuous lead frame conductors formed of metal sheet stock are positioned at various locations around the chip and cantilevered out of the encapsulating material .',\n",
       " 'methods of controlling dynamic host control protocol communication on a network are presented including : receiving a data frame on a network switch . and if the data frame is a dhcp offer frame that is not received from an authorized dhcp server port . dropping the data frame . in some embodiments . methods further include if the data frame is not the dhcp offer frame .',\n",
       " 'a channel for multicarrier high speed downlink packet access and a method for allocating the carrier resource include : the wireless network controller configures the multicarrier high speed downlink packet access resource of a multicarrier cell . the multicarrier high speed downlink packet access resource includes the high speed physical downlink shared channel resource .',\n",
       " 'handling of els req and rsp packets that contain addresses in the payload is shifted to the edge fabric switches connected to the node devices issuing and receiving the els req packet . the ingress and egress switches . this allows the els req and rsp packet payload address modification operations to be removed from the tasks handled by the router processor .',\n",
       " 'some embodiments discussed relate to an apparatus comprising a power amplifier module . the power amplifier module includes a plurality of sensors . and a first digital communication port configured to provide a monitor signal from at least one of the plurality of sensors . the apparatus includes a transceiver module coupled to provide an signal to an input of the power amplifier the transceiver module including a second digital communication port configured to receive the monitor signal from the first digital communication port .',\n",
       " 'a dry etching method and apparatus are described . a workpiece supports silicon nitride and silicon dioxide . the workpiece is exposed to a plasma containing at least one of sulfur hexafluoride and nitrogen trifluoride and ammonia to selectively remove the silicon nitride in relation to the silicon dioxide . in one feature .',\n",
       " 'an electrical enclosure for an electrical component includes a housing having a bus bar portion and an electrical component portion arranged to receive the electrical component . at least one shutter is moveably arranged between the bus bar portion and the electrical component portion . a shutter interlock is arranged in the electrical component portion .',\n",
       " 'an improved dc electrical starting motor and method for starting internal combustion engines that reduces starter motor noise in the period after the engine starts by damping the vibrations caused by motor cogging as it coasts to a halt . is done by reducing cogging torque and or rigidifying the starter motor housing .',\n",
       " 'a radio communication apparatus including an operator control section with at least one actuator for appointing a function setting that may be recorded in a first data structure and thereafter detected and recorded in a second data structure wherein a microprocessor may compare the two settings and issue a modification notification indicating that the initial setting has been changed .',\n",
       " 'a typical coaxial circuit which couples a negative resistance diode to the cavity of a power combiner consists of a metallic rod which is biased by a spring against the diode supported by a carrier which is effective to vary the position of the diode along the longitudinal axis of the rod .',\n",
       " 'a leash with a non - elastomeric extendable portion . an elastomeric extendable portion . and a storage pouch . the elastomeric extendable portion is connected to the non - elastomeric portion and the non - elastomeric extendable portion is folded or rolled several turns upon itself . the storage pouch holds the non - elastomeric extendable portion in the folded or rolled relationship of its turns .',\n",
       " 'according to the invention . a system and method for integrating call routing and workforce management functions in contact centers . enabling them to work together without opposing the influence of one against that of the other . is disclosed . in an embodiment of the invention . a feedback mechanism is provided between the routing system and either the forecasting engine or the adherence module of the workforce management system .',\n",
       " 'a building automation system comprising a plurality of end devices . at least one communication network . and a server engine comprising a communication state manager for actively managing the state of various devices in building automation system and an associated reconnect manager to reestablish communication with off - line devices . the communication manager and the reconnect manager coordinate the interaction between the server engine and the devices in order to minimizing the load on the communication network .',\n",
       " 'the present invention is directed to an electrical wiring protection device that includes a housing assembly having at least one line terminal and at least one load terminal partially disposed therein . a first conductive path is electrically coupled to the at least one line terminal . a second conductive path is electrically coupled to the at least one load terminal .',\n",
       " 'methods for forming structures to use in atomic force probing of a conductive feature embedded in a dielectric layer and structures for use in atomic force probing . an insulator layer is formed on the dielectric layer such that the conductive feature is covered . a contact hole penetrates from a top surface of the insulator layer through the insulator layer to the conductive feature .',\n",
       " 'a method of server operation including connecting a plurality of clients to the server and establishing a profile for each of the plurality of clients . a first virtual community is formed with a first group of clients out of the plurality of clients based on the profile for each of the plurality of clients .',\n",
       " 'the disclosure relates to a method and apparatus for noise suppression in an lvds receiver by providing improved common mode noise immunity through a bypass circuit . in one embodiment . the disclosure relates to an apparatus for providing low voltage differential signaling . the apparatus includes a preamplifier circuit for receiving a dc component of a first signal and providing a first processed dc signal .',\n",
       " 'this invention relates to a key telephone apparatus which includes a key telephone main unit which accommodates a plurality of extension terminals each having a display via extensions and is connected to a network via an office line . and has an acd function of forming a group of the plurality of extension terminals .',\n",
       " 'disclosed are a plasma display panel . apparatus for fabricating the same . and fabrication process thereof enabling to reduce the time for a product process and prevent panel characteristic reduction and panel damage by preventing the generation of impurity gas and achieving the plates - combination at a room temperature . the present invention includes a passivation layer formation means .',\n",
       " 'the present invention discloses a method and a device for color correction for solving a problem of low color correction processing speed for images input into a computer in the prior art . a main technical solution includes : an input image is divided into no less than one image blocks . various color component values of all pixels in each image block are compared with each other .',\n",
       " 'solder balls are offset in the horizontal direction from fixing portions while their positional accuracy is ensured . and signal paths are shortened in a ball grid array ic socket . contacts fixed to contact hosing apertures of a housing include base portions . contact arms . and terminal portions that extend from the lower ends of the base portions toward a circuit board .',\n",
       " 'an improved radio - frequency or network connection including a basic module having two or more basic signal coupling surfaces . and a network module having two or more network signal coupling surfaces . the basic module has a basic ground coupling surface . and the network module has a network ground coupling surface .',\n",
       " 'a code division multiple access receiver for receiving an encoded cdma signal is disclosed . the receiver comprising an analog to digital converter for sampling a received signal and passing the thus sampled and digitized signal to a cdma decoder . the converter receiving a sampling clock signal at a sampling frequency .',\n",
       " 'methods . apparatus . and systems may operate to more efficiently utilize data stored in an array of storage blocks organized as rows and columns of contiguous blocks . where non - linearity is present in the data . activities may include organizing data to discard useless elements from storage blocks when transferring the data to a memory buffer .',\n",
       " 'a fabrication process is provided for reducing leakage current in a field emission display having at least one electron emitter electrically coupled to a ballast resistor coupled to a cathode metal . wherein at least one defect extends to a gate electrode from a region electrically coupled to the ballast resistor .',\n",
       " 'a method and system for menuing on a voice response unit or the like that avoids creating customer confusion on low volume calls that results in customer service representatives having to spend time clearing up that confusion without otherwise adversely affecting the system . for example . a menu for non - bankruptcy reaffirmation account and the like is included in the menus of a credit card vru system .',\n",
       " 'the present disclosure relates to a method for regulating a pump power of an optical amplifier . where a multiplexed broadband optical signal having several channels is amplified at a certain gain value while a change in power is detected at the input or output of the amplifier . a new pump power is calculated and adjusted based on a previously provided stable gain state of the optical amplifier after detecting the change in power such that deviations of the gain value remain minimal as planned temporary interface transients during a specific interval .',\n",
       " 'methods for cryptographic delegation and enforcement of dynamic access to stored data are disclosed . an example method includes generating for a first modified data block . a new per - block hash value using as a hash function input data contained in the first modified data block or a new per - block hash message authentication code using as hash function inputs a new per - block hash key and data contained in the first modified data block .',\n",
       " 'a method of fabricating an integrated circuit package . the method includes providing a first leadframe and a second leadframe . laminating the second leadframe to a portion of the first leadframe in order to create a multi - layer laminated leadframe . and mounting a semiconductor die on another portion of the first leadframe .',\n",
       " 'a sectional floor mat system of floor mats and edging sections or pieces that are removably engaged with the floor mats . the floor mat system includes at least one mat and sufficient edging to border at least one of the side edges of the at least one mat . in many embodiments .',\n",
       " 'a seat belt locking clip . in accordance with the preferred embodiment of the present invention . prevents relative movement of the lap and shoulder portions of a typical automotive seat belt system with respect to the buckle . thereby maintaining seat belt tension . of one piece construction . the clip consists of a main body having a centrally located handle for positioning and applying rotary force during installation .',\n",
       " 'a band saw . a band saw assembly . and a method of spatially positioning a band saw blade are suggested . the band saw comprises a band saw blade against which a sawing material is adapted to be guided in a feed direction . a guide for the band saw blade has at least one magnet exerting a force on the band saw blade determining the spatial position thereof .',\n",
       " 'the present invention provides an irrigation control system in which a device automatically modifies irrigation schedules of installed irrigation controllers to affect irrigating of the landscape based on the water requirements of the landscape plants and comprises : providing an irrigation controller programmed to execute irrigations on watering days by closing an electrical circuit connecting the controller and at least one irrigation valve .',\n",
       " 'a joint suitable for construction castings having a frame and a lid or cover . such as manholes . grates . trench drains . hatches and the like . and construction castings incorporating the same . no tools are necessary to separate the joint . an enlarged head located on a cover fits into a socket located on a frame or adjacent lid .',\n",
       " 'a power sheet punching apparatus is provided in which a reversing drive operates initially to drive punches through a stack of sheets and thereafter to reverse direction of the drive to withdraw the punches from the sheets . should the drive be insufficient to drive the punches through the sheets and a jam occurs .',\n",
       " 'treatment of water - containing reservoirs with a cleaning composition including a water - dissipatable polyester polymer . the polyester polymer concentration in the reservoir being in an amount effective to capture heavy metal ions . thereby inhibiting staining . in a preferred embodiment . the polyester complexes a perfume . the perfume being released in dilute solution as in the reservoir .',\n",
       " 'a method of biooxidizing sulfide minerals in a nonstirred bioreactor is provided . according to the disclosed method . a concentrate of sulfide minerals is coated onto a plurality of substrates . such as coarse ore particles . lava rock . gravel or rock containing a small amount of mineral carbonate as a source of co 2 for the biooxidizing bacteria .',\n",
       " 'the invention concerns an adjustable tool for use in machine tools . with a slide which can be fitted with at least one cutting tool and which can be displaced relative to the rotating main body perpendicularly to the axis of rotation . the invention also calls for a device for the direct measurement of the displacement of the slide .',\n",
       " 'an artificial spine for use in an expansion of a vertebral canal which comprises an intermediate section having a pair of contacting surfaces in both ends thereof . the contacting surfaces being disposed along each outer end of a pair of divided spines . an inner side section extending from the intermediate section to between said pair of divided spines and having a width .',\n",
       " 'a wafer transfer method using a robot arm for sucking the front - side of the uppermost one of a plurality of wafers stored in a cassette . and for transferring the wafer having a tape adhered to the front - side thereof to a semiconductor tape - peeling device for tape - peeling . although the wafer warps .',\n",
       " 'a grinding mechanism for a food waste disposer includes a grinding ring defining a plurality of window openings therethrough . a backing member receives the grinding ring and defines a plurality of cavities therein corresponding to the window openings . a plurality of stacked disks form a rotatable shredder plate that is situated to rotate relative to the grinding plate .',\n",
       " 'a surface wave filter is provided with digital structures formed of strip - shaped coatings which are photolithographically produced . the digital structures have groups allocated to them which are also formed of strip - shaped coatings and which follow a respective digital structure . by use of such groups . which do not produce interfering reflections .',\n",
       " 'a shuttle change system for use in a wrapping apparatus for wrapping an associated item is disclosed . the wrapping apparatus includes a shuttle that moves along the inner periphery of a track dispensing a wrapping material . the shuttle change system includes a carrier and a pair of track sections mounted to the carrier .',\n",
       " 'a system of fairings to streamline the underside of a vehicle . including airfoil - shaped fairings to streamline elements of the vehicle &# 39 . s axle / suspension system . such fairings may be pivotable and linked to the frame or body of the vehicle in such a way that they adaptively provide down - force or lift .',\n",
       " 'an automated system for providing different services within a house includes an appliance coordination data network for communicating relatively low speed appliance digital data within a house . a high capacity data network for transferring high speed digital data within the house . an energy distribution system for distributing energy throughout the house .',\n",
       " 'a person to whom a telephone call is directed is called at an extension either by voice only or by voice during each silent period of an audible ringing signal . a plurality of telephone sets are provided where each telephone set includes a receiver for receiving a telephone call and a called person signal representative of a called person to whom the telephone call is directed .',\n",
       " 'the invention provides a freezer system having a freezer . a thermoelectric device . and a controller . the freezer may include a compressor and a compartment . where the compartment may store subfreezing air . the thermoelectric device may be a temperature sensor positioned in thermal communication with the compartment . the controller may be coupled to the compressor and the thermoelectric device .',\n",
       " 'an apparatus for sequentially fractionating a centrifuge tube includes a capillary tube and a means for applying positive pressure . the capillary tube has an o - ring at the lower end thereof . as the capillary tube is placed within the centrifuge tube . the o - ring forms a seal within the tube .',\n",
       " 'a portable hunting blind for retrofitting to hunter &# 39 . s tree stands features arch - shaped concealment panels comprising a reconfigurable camouflage material attached via flexible rods to a lightweight support base . at the points of attachment to the support base . elbows permit the concealment panels to be variably inclined so that the enclosure size and the width of any openings can be varied .',\n",
       " 'a backflow resistant stop valve for an aircraft galley plumbing system comprises a valve body defining an inlet . and inlet chamber . a transfer chamber . an outlet chamber . and an exit . the valve incorporates an anti - backflow device at the exit to prevent backflow . and flow through the body is controlled by a pivoting paddle disposed within the valve body having an upper flap .',\n",
       " 'a self - locking type shutter device is provided . the device is arranged in a financial self - service equipment . so as to open or close a cash depositing / withdrawing port of the financial self - help service equipment . the device comprises a frame integrally welded . a gate and a power transmission mechanism .',\n",
       " 'a water - based sulfonated polyurethane composition and footwear manufactured using the composition as as an adhesive . coating and primer . the sulfonated polyurethane is a reaction product of a ) at least one polyisocyanate . b ) at least one alkylene diol . c ) at least one sulfonated polyester polyol wherein the sulfo groups thereof are present as alkali metal salts .',\n",
       " 'zinc glycinate as a non - irritating effective deodorant which chemically neutralizes odoriferous compounds and inhibits bacterial growth . deodorant compositions containing zinc glycinate as anhydrous or hydrated bis - zinc salt . and methods of deodorizing the body by application to sweat areas . the present invention relates to zinc glycinate as a deodorant active material having the dual function of chemically neutralizing body odors and inhibiting bacterial growth .',\n",
       " 'a pneumatic radial tire comprising a carcass and a belt comprising belt plies composed of steel belt cords wherein at least two circumferential grooves are constructed in the tread part continuously in the direction of the tire &# 39 . s equator . and lateral grooves in some parts defined by dividing the tread part in the direction of the tire &# 39 . s axis into approximately three .',\n",
       " 'a ball - and - socket joint for a multiarticulate arm includes two cylindrical bodies forming phalanges each ending in a pair of jaws which contact a hollow sphere limited by two parallel planes essentially equidistant from the center of the sphere . with the hollow central part of the cylindrical bodies and of the sphere serving as a passage for the device for synchronizing the movements of the phalanges .',\n",
       " 'a system . method . and computer program for direct sheet metal unforming comprising selecting a planar face on a part design . identifying a plurality of linear bends associated with said planar face . calculating a plurality of bend parameters corresponding to each of said linear bends . and converting said part design having said linear bends to a sheet metal partand appropriate means and computer - readable instructions .',\n",
       " 'a transducer comprising a piezoelectric measuring sensor element for measurement of mechanical values on hollow bodies . especially of the pressure distribution within pipes . the piezoelectric sensor element being a flexible piezoelectric film . the opposite surfaces of the film being in connection with electrically leading contact surfaces . and the measuring sensor element being at least partially and at least indirectly closely joinable to the surface of the hollow body .',\n",
       " 'a multilayered sheet is made by extruding a sheet and bringing it into immediate contact with a non - woven sheet before bringing the abutting sheets into a first nip formed by a pair of pressure rollers . the multilayered sheet then passes through a second nip formed between two pressure rollers and is cooled down through a series of additional chill rollers .',\n",
       " 'an isolated switched mode power supply comprises a transformer . with primary and secondary windings . and a rectification network connected to the secondary winding . the rectification network and the transformer are arranged such that . during a free - wheeling period of operation of the switched mode power supply . a magnetic flux from a first portion of a secondary winding of the transformer substantially cancels a magnetic flux from a second portion of the secondary winding between the first and second portions of the secondary winding .',\n",
       " 'a method of and an apparatus for rejuvenating a wastewater treatment system of the type including a septic tank . an aerobic treatment unit or the like connected by a pipe to a plugged downstream soil absorption system includes a wastewater treatment unit which is interposed between the septic unit / aerobic treatment unit and the downstream soil absorption system .',\n",
       " 'an improved crankcase gasket . for use in an internal combustion engine with a vertical crankshaft . having web portions that substantially cover the oil sump . the construction of the crankcase gasket baffles oil thrown around the inside of the engine by mechanical turbulence and prevents excess oil from reaching the cylinder bore .',\n",
       " 'methods and techniques are described for detecting the presence of cancer procoagulant activity in blood serum . the method provides a means of distinguishing persons or animals having cancer from those who do not have cancer . the method involves techniques for processing serum such that the activity of cancer procoagulant can be measured while the activity of other coagulation enzymes in the serum is minimized or eliminated .',\n",
       " 'a set of dies for embossing or debossing is disclosed . the set has a female die and a male die each which has a steel backing plate . one of the dies is strongly magnetically attracted to a base plate which results in a weak magnetic attraction between the two dies .',\n",
       " 'the invention can be used for transport means . sports cars and power plants . the inventive engine comprises a hollow toroidal working cylinder provided with a continuous circular slot embodied along the small diameter thereof . a nozzle or a spark plug and arc - wise extended input and output orifices embodied in the wall thereof for admitting air or air - fuel mixture and exhausting combustion gases .',\n",
       " 'a prophylactic system or kit that prevents the transmission of disease - producing microorganisms and spermatozoa by acting as a sexual barrier and sexual aid . the invention comprises an undergarment that allows sex acts while the garment is worn and that absorbs the fluids associated with the sex act . at least one pocket .',\n",
       " 'an electronic structure includes an electronic device . and a heat sink assembly in thermal contact with the electronic device . the heat sink assembly is formed of a piece of pyrolytic graphite embedded within a metallic casing and intimately contacting an interior wall of the metallic casing . the heat sink assembly is substantially fully dense .',\n",
       " 'an improved audio - output device coupleable to a computer system . in which a dsp operating under software control emulates a common command interface . the command interface has a set of registers that are made available to the cpu for reading and writing . even if there are no such physical registers available in the device .',\n",
       " 'a test meter system for testing a characteristic of a fluid . the test meter system including a test meter having a housing with an opening adapted to accept a test strip . an interrogation coil within the housing . a pick - up coil within the housing . and a test strip including at least one magneto - elastic - resonance sensor .',\n",
       " 'important features and improvements of a commercial coil batch laminating production line are disclosed for a successful . commercial . and economical operation . this invention addresses important processing sequences . operating parameters . control systems . designs . operating methods . and other novel features . this invention provides for a competitive cost structure meeting the needs of commercialization .',\n",
       " 'laser - induced phase - separation polymerization of a porous acrylate polymer is used for in - situ fabrication of dialysis membranes inside glass microchannels . a shaped 355 nm laser beam is used to produce a porous polymer membrane with a thickness of about 15 μm . which bonds to the glass microchannel and form a semi - permeable membrane .',\n",
       " 'an antitheft device for the steering column of a motor vehicle . in which a movable indexer includes a return spring for returning the movable indexer such that the indexer engages with at least one profile of a cam of the antitheft device . and in which the return spring of the indexer and a return spring of a bolt of the antitheft device are separate .',\n",
       " 'a method of stacking a flexible substrate is provided . the method includes the steps of : preparing a carrier substrate . stacking an adhesive layer on the carrier substrate . and stacking a flexible substrate having at least one image display device on the adhesive layer using a laminating or pressing method . thus .',\n",
       " 'apparatus and method for exchanging heat energy between a refrigeration circuit and a hot water system . water is heated in a combination refrigerant desuperheater - water preheater and then conducted to hot water storage . a co - axial fitting is disclosed for mixing heated water from the refrigerant desuperheater - water preheater with water in a hot water tank prior to discharging that water to a hot water system .',\n",
       " 'a powered lift mechanism for stowing and deploying scooters relative to the cargo area of a conventional suv . the lift mechanism comprises an l - shaped box - section boom which is pivotally attached to the d - pillar on the inside of the suv cargo area so as to leave the floor of the cargo area available .',\n",
       " 'a durable . broad - band low insertion loss rf feedthrough is formed of a straight conductor centrally supported by . hermetically sealed to and axially extending through the center of a strong . rigid . impervious ceramic disk . the ceramic disk is hermetically sealed . directly or indirectly . to the metal barrier through which the feedthrough is to propagate rf energy .',\n",
       " 'a method and product for sterilizing and drying waste products such as plant sludge . animal excrement and process wastes wherein the waste material is first settled or dewatered to a moisture content between 4 % to 60 % and then blended and reacted with alkaline earth metal oxides in the presence of an atmosphere of carbon dioxide .',\n",
       " 'a strip bucket utilizable in a cow milking operation is provided with a lid having a ball check valve to prevent bad milk from entering a bulk storage container . additionally . the ball check valve may be provided with integrally attached milk collection tubes which extend orthogonally outwardly therefrom . additionally . the ball check valve may be provided with an outwardly extending paddle member which operates to raise a signal flag once a strip bucket has been filled with milk .',\n",
       " 'i have invented a method of quarantine computer virus . cross reference to related application ser . no . 61 / 520 . 159 . filing or 371 date jun . 4 . 2011 . the “ on - on master switch ” controls the electrical voltage to the hard drives at different time . for home use one hard drive would be installed with operating program .',\n",
       " 'a method and device for sending downlink information are provided . specified information to be sent to user equipment is determined . and the specified information may include at least one of : system message change information . earthquake and tsunami warning system notification information . commercial mobile alert service notification information or extended access barring parameter change notification information .',\n",
       " 'a wireless bidirectional communication system and method for tracking smart tags affixed to assets located within a defined area . asset tracking is provided by a central processor operated by a user . the central processor combined with communication modules communicates with the system tags for deriving corresponding assets &# 39 . locations . communication is synchronized by way of broadcasting a clock generator signal over the communication link .',\n",
       " 'the present invention relates to a photographic flash device used with a common still camera in order to photograph a patient &# 39 . s operation under a shadowless lamp . specifically . the present invention is characterized in that the flash from a stroboscopic unit positioned with the still camera indirectly actuates a flash device housed in the shadowless lamp .',\n",
       " 'predictive maintenance systems and methods are described . a method includes measuring environmental conditions using a plurality of sensors within the ied . processing the environmental measurements to determine long - term exposure factors representing historical operating conditions of the ied . applying a reliability model to the long - term exposure factors . determining a numerical measure of ied life based on the long - term exposure factors and the reliability model .',\n",
       " 'an infrared sensor flushing control method and the plumbing fixture flushing system . the realization of flushing with two different jets is achieved by using the infrared sensor and mcu to control the electromagnetic - controlled valves . the mcu preinstalled with three different solid waste flushing procedures and one liquid waste flushing procedure .',\n",
       " 'this invention describes a method of treating papermakers &# 39 . forming and press belts made from polyethylene terephthalate mono or multifilament yarns so that the belts substantially resist the deposition of pitch on the belt yarns while in use in a papermaking machine environment . pitch - contaminated water and pulp mixtures in contact with the belts are subjected to suction and pressure pulses which remove water from the mixture .',\n",
       " 'an intercooler for a turbocharged internal combustion engine having a housing with opposite v - shaped side walls and a heat exchanger core inside the housing with straight pipes carrying heat conducting fins . the pipes pass a coolant lengthwise through the housing . triangular spaces between the heat exchanger core and the respective v - shaped side walls of the housing cause a substantial equalization of the air flow across all of the fins .',\n",
       " 'a linear actuator includes a housing formed of a first half shell and a second half shell and defining an accommodation chamber . a front opening in front of the accommodation chamber and a receiving chamber at the bottom side of the accommodation chamber . a driving mechanism having a push rod movably mounted in the accommodation chamber and extending out of the front opening .']"
      ]
     },
     "execution_count": 3,
     "metadata": {},
     "output_type": "execute_result"
    }
   ],
   "source": [
    "import pickle5 as pickle\n",
    "with open('/content/drive/MyDrive/Colab Notebooks/thesis_PQAI/verbosity_model/coref_links/snippets_test_start.pickle','rb') as handle:\n",
    "  a = pickle.load(handle)\n",
    "a['snippets']"
   ]
  },
  {
   "cell_type": "code",
   "execution_count": null,
   "metadata": {
    "id": "I_DsjAqgtgvX"
   },
   "outputs": [],
   "source": []
  },
  {
   "cell_type": "code",
   "execution_count": null,
   "metadata": {
    "colab": {
     "base_uri": "https://localhost:8080/"
    },
    "executionInfo": {
     "elapsed": 11996,
     "status": "ok",
     "timestamp": 1661691050212,
     "user": {
      "displayName": "Deepak Rastogi",
      "userId": "00835676360645435652"
     },
     "user_tz": -120
    },
    "id": "DyYn4cUO3k6O",
    "outputId": "843467bc-98c4-4855-b252-3e4b52ac73fc"
   },
   "outputs": [
    {
     "name": "stdout",
     "output_type": "stream",
     "text": [
      "Looking in indexes: https://pypi.org/simple, https://us-python.pkg.dev/colab-wheels/public/simple/\n",
      "Collecting transformers\n",
      "  Downloading transformers-4.21.2-py3-none-any.whl (4.7 MB)\n",
      "\u001b[K     |████████████████████████████████| 4.7 MB 4.3 MB/s \n",
      "\u001b[?25hRequirement already satisfied: requests in /usr/local/lib/python3.7/dist-packages (from transformers) (2.23.0)\n",
      "Requirement already satisfied: tqdm>=4.27 in /usr/local/lib/python3.7/dist-packages (from transformers) (4.64.0)\n",
      "Requirement already satisfied: numpy>=1.17 in /usr/local/lib/python3.7/dist-packages (from transformers) (1.21.6)\n",
      "Requirement already satisfied: regex!=2019.12.17 in /usr/local/lib/python3.7/dist-packages (from transformers) (2022.6.2)\n",
      "Collecting huggingface-hub<1.0,>=0.1.0\n",
      "  Downloading huggingface_hub-0.9.1-py3-none-any.whl (120 kB)\n",
      "\u001b[K     |████████████████████████████████| 120 kB 68.8 MB/s \n",
      "\u001b[?25hRequirement already satisfied: pyyaml>=5.1 in /usr/local/lib/python3.7/dist-packages (from transformers) (6.0)\n",
      "Collecting tokenizers!=0.11.3,<0.13,>=0.11.1\n",
      "  Downloading tokenizers-0.12.1-cp37-cp37m-manylinux_2_12_x86_64.manylinux2010_x86_64.whl (6.6 MB)\n",
      "\u001b[K     |████████████████████████████████| 6.6 MB 48.9 MB/s \n",
      "\u001b[?25hRequirement already satisfied: filelock in /usr/local/lib/python3.7/dist-packages (from transformers) (3.8.0)\n",
      "Requirement already satisfied: packaging>=20.0 in /usr/local/lib/python3.7/dist-packages (from transformers) (21.3)\n",
      "Requirement already satisfied: importlib-metadata in /usr/local/lib/python3.7/dist-packages (from transformers) (4.12.0)\n",
      "Requirement already satisfied: typing-extensions>=3.7.4.3 in /usr/local/lib/python3.7/dist-packages (from huggingface-hub<1.0,>=0.1.0->transformers) (4.1.1)\n",
      "Requirement already satisfied: pyparsing!=3.0.5,>=2.0.2 in /usr/local/lib/python3.7/dist-packages (from packaging>=20.0->transformers) (3.0.9)\n",
      "Requirement already satisfied: zipp>=0.5 in /usr/local/lib/python3.7/dist-packages (from importlib-metadata->transformers) (3.8.1)\n",
      "Requirement already satisfied: urllib3!=1.25.0,!=1.25.1,<1.26,>=1.21.1 in /usr/local/lib/python3.7/dist-packages (from requests->transformers) (1.24.3)\n",
      "Requirement already satisfied: idna<3,>=2.5 in /usr/local/lib/python3.7/dist-packages (from requests->transformers) (2.10)\n",
      "Requirement already satisfied: chardet<4,>=3.0.2 in /usr/local/lib/python3.7/dist-packages (from requests->transformers) (3.0.4)\n",
      "Requirement already satisfied: certifi>=2017.4.17 in /usr/local/lib/python3.7/dist-packages (from requests->transformers) (2022.6.15)\n",
      "Installing collected packages: tokenizers, huggingface-hub, transformers\n",
      "Successfully installed huggingface-hub-0.9.1 tokenizers-0.12.1 transformers-4.21.2\n"
     ]
    }
   ],
   "source": [
    "!pip install transformers"
   ]
  },
  {
   "cell_type": "code",
   "execution_count": null,
   "metadata": {
    "id": "628IBGUxSScI"
   },
   "outputs": [],
   "source": [
    "import pickle5 as pickle\n",
    "import pandas as pd\n",
    "import os\n",
    "import numpy as np\n",
    "from sklearn.preprocessing import StandardScaler,MinMaxScaler\n",
    "from sklearn.svm import SVC\n",
    "from scipy.stats import pearsonr\n",
    "import torch.nn as nn\n",
    "import torch\n",
    "from sklearn.linear_model import LinearRegression\n",
    "from sklearn.metrics import accuracy_score,r2_score,classification_report\n",
    "import matplotlib.pyplot as plt\n",
    "#from transformers import BertTokenizer, BertModel\n",
    "from nltk.tokenize import sent_tokenize\n",
    "from sklearn.metrics.pairwise import cosine_similarity\n",
    "from sklearn.decomposition import PCA\n",
    "from sklearn.cluster import KMeans"
   ]
  },
  {
   "cell_type": "code",
   "execution_count": null,
   "metadata": {
    "colab": {
     "base_uri": "https://localhost:8080/"
    },
    "executionInfo": {
     "elapsed": 1622,
     "status": "ok",
     "timestamp": 1661691062292,
     "user": {
      "displayName": "Deepak Rastogi",
      "userId": "00835676360645435652"
     },
     "user_tz": -120
    },
    "id": "BIjEKW3SEdls",
    "outputId": "55f63b96-a1d1-4a03-cde7-04f33af34334"
   },
   "outputs": [
    {
     "name": "stderr",
     "output_type": "stream",
     "text": [
      "[nltk_data] Downloading package punkt to /root/nltk_data...\n",
      "[nltk_data]   Unzipping tokenizers/punkt.zip.\n"
     ]
    },
    {
     "data": {
      "text/plain": [
       "True"
      ]
     },
     "execution_count": 5,
     "metadata": {},
     "output_type": "execute_result"
    }
   ],
   "source": [
    "import nltk\n",
    "nltk.download('punkt')"
   ]
  },
  {
   "cell_type": "code",
   "execution_count": null,
   "metadata": {
    "id": "-Jk_KwEJgXfp"
   },
   "outputs": [],
   "source": [
    "#For Queries\n",
    "\n",
    "with open('queries.txt','r') as file:\n",
    "  articles = file.readlines()\n",
    "\n",
    "article_sentences = []\n",
    "for text in articles:\n",
    "  sents = sent_tokenize(text.strip())\n",
    "  article_sentences.append(sents)"
   ]
  },
  {
   "cell_type": "code",
   "execution_count": null,
   "metadata": {
    "colab": {
     "base_uri": "https://localhost:8080/",
     "height": 783
    },
    "executionInfo": {
     "elapsed": 688,
     "status": "error",
     "timestamp": 1661203176571,
     "user": {
      "displayName": "Deepak Rastogi",
      "userId": "00835676360645435652"
     },
     "user_tz": -120
    },
    "id": "cmbnL5sl3k9Y",
    "outputId": "63bf4a62-13c6-48cd-dcfe-8f2db9539b4b"
   },
   "outputs": [
    {
     "ename": "LookupError",
     "evalue": "ignored",
     "output_type": "error",
     "traceback": [
      "\u001b[0;31m---------------------------------------------------------------------------\u001b[0m",
      "\u001b[0;31mLookupError\u001b[0m                               Traceback (most recent call last)",
      "\u001b[0;32m<ipython-input-5-417cb3b8ecec>\u001b[0m in \u001b[0;36m<module>\u001b[0;34m\u001b[0m\n\u001b[1;32m      3\u001b[0m \u001b[0marticle_sentences\u001b[0m \u001b[0;34m=\u001b[0m \u001b[0;34m[\u001b[0m\u001b[0;34m]\u001b[0m\u001b[0;34m\u001b[0m\u001b[0;34m\u001b[0m\u001b[0m\n\u001b[1;32m      4\u001b[0m \u001b[0;32mfor\u001b[0m \u001b[0mtext\u001b[0m \u001b[0;32min\u001b[0m \u001b[0marticles\u001b[0m\u001b[0;34m:\u001b[0m\u001b[0;34m\u001b[0m\u001b[0;34m\u001b[0m\u001b[0m\n\u001b[0;32m----> 5\u001b[0;31m   \u001b[0msents\u001b[0m \u001b[0;34m=\u001b[0m \u001b[0msent_tokenize\u001b[0m\u001b[0;34m(\u001b[0m\u001b[0mtext\u001b[0m\u001b[0;34m)\u001b[0m\u001b[0;34m\u001b[0m\u001b[0;34m\u001b[0m\u001b[0m\n\u001b[0m\u001b[1;32m      6\u001b[0m   \u001b[0marticle_sentences\u001b[0m\u001b[0;34m.\u001b[0m\u001b[0mappend\u001b[0m\u001b[0;34m(\u001b[0m\u001b[0msents\u001b[0m\u001b[0;34m)\u001b[0m\u001b[0;34m\u001b[0m\u001b[0;34m\u001b[0m\u001b[0m\n",
      "\u001b[0;32m/usr/local/lib/python3.7/dist-packages/nltk/tokenize/__init__.py\u001b[0m in \u001b[0;36msent_tokenize\u001b[0;34m(text, language)\u001b[0m\n\u001b[1;32m    104\u001b[0m     \u001b[0;34m:\u001b[0m\u001b[0mparam\u001b[0m \u001b[0mlanguage\u001b[0m\u001b[0;34m:\u001b[0m \u001b[0mthe\u001b[0m \u001b[0mmodel\u001b[0m \u001b[0mname\u001b[0m \u001b[0;32min\u001b[0m \u001b[0mthe\u001b[0m \u001b[0mPunkt\u001b[0m \u001b[0mcorpus\u001b[0m\u001b[0;34m\u001b[0m\u001b[0;34m\u001b[0m\u001b[0m\n\u001b[1;32m    105\u001b[0m     \"\"\"\n\u001b[0;32m--> 106\u001b[0;31m     \u001b[0mtokenizer\u001b[0m \u001b[0;34m=\u001b[0m \u001b[0mload\u001b[0m\u001b[0;34m(\u001b[0m\u001b[0;34mf\"tokenizers/punkt/{language}.pickle\"\u001b[0m\u001b[0;34m)\u001b[0m\u001b[0;34m\u001b[0m\u001b[0;34m\u001b[0m\u001b[0m\n\u001b[0m\u001b[1;32m    107\u001b[0m     \u001b[0;32mreturn\u001b[0m \u001b[0mtokenizer\u001b[0m\u001b[0;34m.\u001b[0m\u001b[0mtokenize\u001b[0m\u001b[0;34m(\u001b[0m\u001b[0mtext\u001b[0m\u001b[0;34m)\u001b[0m\u001b[0;34m\u001b[0m\u001b[0;34m\u001b[0m\u001b[0m\n\u001b[1;32m    108\u001b[0m \u001b[0;34m\u001b[0m\u001b[0m\n",
      "\u001b[0;32m/usr/local/lib/python3.7/dist-packages/nltk/data.py\u001b[0m in \u001b[0;36mload\u001b[0;34m(resource_url, format, cache, verbose, logic_parser, fstruct_reader, encoding)\u001b[0m\n\u001b[1;32m    748\u001b[0m \u001b[0;34m\u001b[0m\u001b[0m\n\u001b[1;32m    749\u001b[0m     \u001b[0;31m# Load the resource.\u001b[0m\u001b[0;34m\u001b[0m\u001b[0;34m\u001b[0m\u001b[0;34m\u001b[0m\u001b[0m\n\u001b[0;32m--> 750\u001b[0;31m     \u001b[0mopened_resource\u001b[0m \u001b[0;34m=\u001b[0m \u001b[0m_open\u001b[0m\u001b[0;34m(\u001b[0m\u001b[0mresource_url\u001b[0m\u001b[0;34m)\u001b[0m\u001b[0;34m\u001b[0m\u001b[0;34m\u001b[0m\u001b[0m\n\u001b[0m\u001b[1;32m    751\u001b[0m \u001b[0;34m\u001b[0m\u001b[0m\n\u001b[1;32m    752\u001b[0m     \u001b[0;32mif\u001b[0m \u001b[0mformat\u001b[0m \u001b[0;34m==\u001b[0m \u001b[0;34m\"raw\"\u001b[0m\u001b[0;34m:\u001b[0m\u001b[0;34m\u001b[0m\u001b[0;34m\u001b[0m\u001b[0m\n",
      "\u001b[0;32m/usr/local/lib/python3.7/dist-packages/nltk/data.py\u001b[0m in \u001b[0;36m_open\u001b[0;34m(resource_url)\u001b[0m\n\u001b[1;32m    874\u001b[0m \u001b[0;34m\u001b[0m\u001b[0m\n\u001b[1;32m    875\u001b[0m     \u001b[0;32mif\u001b[0m \u001b[0mprotocol\u001b[0m \u001b[0;32mis\u001b[0m \u001b[0;32mNone\u001b[0m \u001b[0;32mor\u001b[0m \u001b[0mprotocol\u001b[0m\u001b[0;34m.\u001b[0m\u001b[0mlower\u001b[0m\u001b[0;34m(\u001b[0m\u001b[0;34m)\u001b[0m \u001b[0;34m==\u001b[0m \u001b[0;34m\"nltk\"\u001b[0m\u001b[0;34m:\u001b[0m\u001b[0;34m\u001b[0m\u001b[0;34m\u001b[0m\u001b[0m\n\u001b[0;32m--> 876\u001b[0;31m         \u001b[0;32mreturn\u001b[0m \u001b[0mfind\u001b[0m\u001b[0;34m(\u001b[0m\u001b[0mpath_\u001b[0m\u001b[0;34m,\u001b[0m \u001b[0mpath\u001b[0m \u001b[0;34m+\u001b[0m \u001b[0;34m[\u001b[0m\u001b[0;34m\"\"\u001b[0m\u001b[0;34m]\u001b[0m\u001b[0;34m)\u001b[0m\u001b[0;34m.\u001b[0m\u001b[0mopen\u001b[0m\u001b[0;34m(\u001b[0m\u001b[0;34m)\u001b[0m\u001b[0;34m\u001b[0m\u001b[0;34m\u001b[0m\u001b[0m\n\u001b[0m\u001b[1;32m    877\u001b[0m     \u001b[0;32melif\u001b[0m \u001b[0mprotocol\u001b[0m\u001b[0;34m.\u001b[0m\u001b[0mlower\u001b[0m\u001b[0;34m(\u001b[0m\u001b[0;34m)\u001b[0m \u001b[0;34m==\u001b[0m \u001b[0;34m\"file\"\u001b[0m\u001b[0;34m:\u001b[0m\u001b[0;34m\u001b[0m\u001b[0;34m\u001b[0m\u001b[0m\n\u001b[1;32m    878\u001b[0m         \u001b[0;31m# urllib might not use mode='rb', so handle this one ourselves:\u001b[0m\u001b[0;34m\u001b[0m\u001b[0;34m\u001b[0m\u001b[0;34m\u001b[0m\u001b[0m\n",
      "\u001b[0;32m/usr/local/lib/python3.7/dist-packages/nltk/data.py\u001b[0m in \u001b[0;36mfind\u001b[0;34m(resource_name, paths)\u001b[0m\n\u001b[1;32m    581\u001b[0m     \u001b[0msep\u001b[0m \u001b[0;34m=\u001b[0m \u001b[0;34m\"*\"\u001b[0m \u001b[0;34m*\u001b[0m \u001b[0;36m70\u001b[0m\u001b[0;34m\u001b[0m\u001b[0;34m\u001b[0m\u001b[0m\n\u001b[1;32m    582\u001b[0m     \u001b[0mresource_not_found\u001b[0m \u001b[0;34m=\u001b[0m \u001b[0;34mf\"\\n{sep}\\n{msg}\\n{sep}\\n\"\u001b[0m\u001b[0;34m\u001b[0m\u001b[0;34m\u001b[0m\u001b[0m\n\u001b[0;32m--> 583\u001b[0;31m     \u001b[0;32mraise\u001b[0m \u001b[0mLookupError\u001b[0m\u001b[0;34m(\u001b[0m\u001b[0mresource_not_found\u001b[0m\u001b[0;34m)\u001b[0m\u001b[0;34m\u001b[0m\u001b[0;34m\u001b[0m\u001b[0m\n\u001b[0m\u001b[1;32m    584\u001b[0m \u001b[0;34m\u001b[0m\u001b[0m\n\u001b[1;32m    585\u001b[0m \u001b[0;34m\u001b[0m\u001b[0m\n",
      "\u001b[0;31mLookupError\u001b[0m: \n**********************************************************************\n  Resource \u001b[93mpunkt\u001b[0m not found.\n  Please use the NLTK Downloader to obtain the resource:\n\n  \u001b[31m>>> import nltk\n  >>> nltk.download('punkt')\n  \u001b[0m\n  For more information see: https://www.nltk.org/data.html\n\n  Attempted to load \u001b[93mtokenizers/punkt/PY3/english.pickle\u001b[0m\n\n  Searched in:\n    - '/root/nltk_data'\n    - '/usr/nltk_data'\n    - '/usr/share/nltk_data'\n    - '/usr/lib/nltk_data'\n    - '/usr/share/nltk_data'\n    - '/usr/local/share/nltk_data'\n    - '/usr/lib/nltk_data'\n    - '/usr/local/lib/nltk_data'\n    - ''\n**********************************************************************\n"
     ]
    }
   ],
   "source": [
    "with open('all_articles.pickle','rb') as handle:\n",
    "  articles = pickle.load(handle)\n",
    "article_sentences = []\n",
    "for text in articles:\n",
    "  sents = sent_tokenize(text)\n",
    "  article_sentences.append(sents)"
   ]
  },
  {
   "cell_type": "markdown",
   "metadata": {},
   "source": [
    "### 1. Topic Modelling"
   ]
  },
  {
   "cell_type": "code",
   "execution_count": null,
   "metadata": {
    "id": "jrMOj_L19CN-"
   },
   "outputs": [],
   "source": [
    "### Collect features from BERT-for-Patent model for every sentence (Do not delete)\n",
    "\n",
    "def collect_features_for(articles):\n",
    "  tokenizer = BertTokenizer.from_pretrained('anferico/bert-for-patents')\n",
    "  model = BertModel.from_pretrained('anferico/bert-for-patents')\n",
    "  article_features = []\n",
    "  folder_path = 'query_article_feats'\n",
    "  start_index = len(os.listdir(folder_path))\n",
    "\n",
    "  for i,sent_group in enumerate(articles[start_index:]):\n",
    "    print('Collecting features for article ',start_index+i)\n",
    "    all_sent_features = []\n",
    "    for sent in sent_group:\n",
    "      inputs = tokenizer(sent,return_tensors=\"pt\")\n",
    "      outputs = model(**inputs,output_hidden_states=True)\n",
    "      pooling = torch.nn.AvgPool2d(outputs.hidden_states[-2].shape[1], 1)\n",
    "      sentence_features = pooling(outputs.hidden_states[-2])\n",
    "      np_sent_feats = sentence_features.detach().cpu().detach().numpy().flatten()\n",
    "      all_sent_features.append(np_sent_feats)\n",
    "    \n",
    "    article_features.append(all_sent_features)\n",
    "    with open(folder_path+'/'+str(start_index+i)+'.pickle', 'wb') as handle:\n",
    "      pickle.dump(all_sent_features, handle, protocol=pickle.HIGHEST_PROTOCOL)\n",
    "  print('Features saved in '+folder_path+' folder.')"
   ]
  },
  {
   "cell_type": "code",
   "execution_count": null,
   "metadata": {
    "id": "zLOqA6uHMS3x"
   },
   "outputs": [],
   "source": [
    "collect_features_for(article_sentences)"
   ]
  },
  {
   "cell_type": "code",
   "execution_count": null,
   "metadata": {
    "id": "Xq_hGNdnWZrn"
   },
   "outputs": [],
   "source": [
    "def pad_max_len(vect):\n",
    "  max_len = 0\n",
    "  for i in vect:\n",
    "    if len(i) > max_len:\n",
    "      max_len = len(i)\n",
    "  for j in range(len(vect)):\n",
    "    if len(vect[j]) < max_len:\n",
    "      count = max_len - len(vect[j])\n",
    "      vect[j] = np.concatenate((vect[j],np.zeros(count)),axis=None)\n",
    "  return np.stack(vect)"
   ]
  },
  {
   "cell_type": "code",
   "execution_count": null,
   "metadata": {
    "id": "Q0D3ytWAMS0S"
   },
   "outputs": [],
   "source": [
    "folder_name = 'query_article_feats'\n",
    "segments = []\n",
    "for index in range(len(article_sentences)):\n",
    "  file_name = folder_name+'/'+str(index)+'.pickle'\n",
    "  print(file_name)\n",
    "  with open(file_name, 'rb') as handle:\n",
    "      feat_vect = pickle.load(handle)\n",
    "  feat_vect_padded = pad_max_len(feat_vect)\n",
    "\n",
    "  #Similarity Matrix\n",
    "  sim_mat = np.zeros((len(feat_vect_padded),len(feat_vect_padded)))\n",
    "  for i in range(len(feat_vect_padded)):\n",
    "    for j in range(len(feat_vect_padded)):\n",
    "      sim_val = cosine_similarity([feat_vect_padded[i]],[feat_vect_padded[j]])\n",
    "      sim_mat[i][j] = sim_val\n",
    "\n",
    "  req_len=3\n",
    "  if sim_mat.shape[0] > req_len:\n",
    "    num_clusters = int(sim_mat.shape[0]/req_len)\n",
    "    kmeans = KMeans(n_clusters=num_clusters, random_state=0).fit(sim_mat)\n",
    "    clusters = set(kmeans.labels_)\n",
    "    for i in clusters:\n",
    "      filtered_indexes = np.where(kmeans.labels_ == i)\n",
    "      if len(filtered_indexes[0] ) > 1:\n",
    "        segments.append(' '.join(list(map(article_sentences[index].__getitem__, filtered_indexes[0].tolist()))))\n",
    "\n",
    "    #for k in range(len(sim_mat)):\n",
    "    #  filtered_indexes = np.where(sim_mat[k] > 0.6)\n",
    "    #  if len(filtered_indexes[0] ) > 3:\n",
    "    #    segments.append(' '.join(list(map(article_sentences[index].__getitem__, filtered_indexes[0].tolist()))))"
   ]
  },
  {
   "cell_type": "code",
   "execution_count": null,
   "metadata": {
    "id": "qdFsZhiZfniC"
   },
   "outputs": [],
   "source": [
    "segments"
   ]
  },
  {
   "cell_type": "code",
   "execution_count": null,
   "metadata": {
    "id": "Tqe14rIJfnfx"
   },
   "outputs": [],
   "source": [
    "with open('topic_segments_q.pickle','wb') as handle:\n",
    "  pickle.dump(segments, handle, protocol=pickle.HIGHEST_PROTOCOL)"
   ]
  },
  {
   "cell_type": "code",
   "execution_count": null,
   "metadata": {
    "id": "ZW0GQQfulXRJ"
   },
   "outputs": [],
   "source": [
    "df = pd.DataFrame({'abstract':segments})\n",
    "df.to_csv('filtered_topic_segments_q.csv')"
   ]
  },
  {
   "cell_type": "code",
   "execution_count": null,
   "metadata": {
    "colab": {
     "base_uri": "https://localhost:8080/"
    },
    "executionInfo": {
     "elapsed": 723,
     "status": "ok",
     "timestamp": 1661087531702,
     "user": {
      "displayName": "Deepak Rastogi",
      "userId": "00835676360645435652"
     },
     "user_tz": -120
    },
    "id": "e69J4lZ3LggU",
    "outputId": "5dc942b3-e7fb-49ca-8491-bd56b2a48806"
   },
   "outputs": [
    {
     "data": {
      "text/plain": [
       "9029"
      ]
     },
     "execution_count": 46,
     "metadata": {},
     "output_type": "execute_result"
    }
   ],
   "source": [
    "import re\n",
    "filtered_seg = []\n",
    "for i in range(len(a)):\n",
    "  if len(re.findall(r'\\w+', a[i])) >= 60:\n",
    "    filtered_seg.append(a[i])\n",
    "len(filtered_seg)\n",
    "\n",
    "with open('filtered_topic_segments.pickle','wb') as handle:\n",
    "  pickle.dump(filtered_seg, handle, protocol=pickle.HIGHEST_PROTOCOL)\n",
    "  df = pd.DataFrame({'abstract':filtered_seg})\n",
    "df.to_csv('filtered_topic_segments.csv')"
   ]
  },
  {
   "cell_type": "markdown",
   "metadata": {},
   "source": [
    "#### Collecting Features from the folders."
   ]
  },
  {
   "cell_type": "code",
   "execution_count": null,
   "metadata": {
    "id": "eT9nZ1afPxjG"
   },
   "outputs": [],
   "source": [
    "def feature_matrix(feat_type,snippet_pos):\n",
    "  feat_dir_path = os.path.join('features',feat_type,snippet_pos)\n",
    "  files = sorted(os.listdir(feat_dir_path))\n",
    "  print(files)\n",
    "\n",
    "  feats = {}\n",
    "  for name in files:\n",
    "    if name != 'syntactic_real.pickle':\n",
    "      with open(os.path.join(feat_dir_path,name),'rb') as handle:\n",
    "        dict_feat = pickle.load(handle)\n",
    "      feats.update(dict_feat)\n",
    "      \n",
    "  df = pd.DataFrame(feats)\n",
    "  df_temp = df[['temporal','comparison','expansion','contingency']].sum(axis=1)\n",
    "  df['total_discourse'] = df_temp\n",
    "\n",
    "\n",
    "  '''\n",
    "  #Read Amount of detail features\n",
    "  with open(os.path.join(feat_dir_path,'compression_likelihood.pickle'),'rb') as handle:\n",
    "    dict_amount_of_detail = pickle.load(handle)\n",
    "  amount_of_detail = np.array(dict_amount_of_detail['compression_likelihood'],dtype=float)\n",
    "\n",
    "  '''\n",
    "\n",
    "  #Read syntactic realization features\n",
    "  with open(os.path.join(feat_dir_path,'syntactic_real.pickle'),'rb') as handle:\n",
    "    dict_syntactic_real = pickle.load(handle)\n",
    "  syn_real_non_np = np.array(dict_syntactic_real['non_nps_prod_count'])\n",
    "  syn_real_np = np.array(dict_syntactic_real['nps_prod_count'])\n",
    "  syn_real = np.concatenate((syn_real_non_np,syn_real_np), axis=1)\n",
    "  \n",
    "  verbosity_feats = np.concatenate((df.values,syn_real), axis=1)\n",
    "\n",
    "  #Read Labels\n",
    "  label_path = os.path.join('features',feat_type,'abstract_len.pickle')\n",
    "  with open(label_path,'rb') as handle:\n",
    "    labels = pickle.load(handle)\n",
    "\n",
    "  return verbosity_feats,labels,df"
   ]
  },
  {
   "cell_type": "code",
   "execution_count": null,
   "metadata": {
    "colab": {
     "base_uri": "https://localhost:8080/"
    },
    "executionInfo": {
     "elapsed": 6,
     "status": "ok",
     "timestamp": 1661949535242,
     "user": {
      "displayName": "Deepak Rastogi",
      "userId": "00835676360645435652"
     },
     "user_tz": -120
    },
    "id": "lcMc7d-hJiJ2",
    "outputId": "c2cf187c-fe0e-4b84-d998-96a42a53d2a5"
   },
   "outputs": [
    {
     "name": "stdout",
     "output_type": "stream",
     "text": [
      "['amount_of_detail.pickle', 'compression_likelihood.pickle', 'continuity.pickle', 'discourse_relations.pickle', 'len_units.pickle', 'syntactic_real.pickle']\n"
     ]
    }
   ],
   "source": [
    "segment_feats,segment_labels,df_segment = feature_matrix('segment_features','start')"
   ]
  },
  {
   "cell_type": "code",
   "execution_count": null,
   "metadata": {
    "id": "4dm04oPJ-V9Y"
   },
   "outputs": [],
   "source": [
    "# Binning of sample features\n",
    "# we decide to make bins for every 30 words of length\n",
    "# Hence the minimum length is 60 and max length is 240.\n",
    "# hence we make 6 bins i.e., 60-90,91-120,121-150,151-180,181-210,210-240\n",
    "\n",
    "#Collect the indexes for each length range\n",
    "segment_labels = np.array(segment_labels)\n",
    "ind_bin1 = np.where((segment_labels >= 60) & (segment_labels <= 90))[0]\n",
    "ind_bin2 = np.where((segment_labels > 90) & (segment_labels <= 120))[0]\n",
    "ind_bin3 = np.where((segment_labels > 120) & (segment_labels <= 150))[0]\n",
    "ind_bin4 = np.where((segment_labels > 150) & (segment_labels <= 180))[0]\n",
    "ind_bin5 = np.where((segment_labels > 180) & (segment_labels <= 210))[0]\n",
    "ind_bin6 = np.where((segment_labels > 210) & (segment_labels <= 240))[0]\n",
    "\n",
    "bin1_feats = segment_feats[ind_bin1]\n",
    "bin2_feats = segment_feats[ind_bin2]\n",
    "bin3_feats = segment_feats[ind_bin3]\n",
    "bin4_feats = segment_feats[ind_bin4]\n",
    "bin5_feats = segment_feats[ind_bin5]\n",
    "bin6_feats = segment_feats[ind_bin6]\n",
    "\n",
    "bin1_labels = segment_labels[ind_bin1]\n",
    "bin2_labels = segment_labels[ind_bin2]\n",
    "bin3_labels = segment_labels[ind_bin3]\n",
    "bin4_labels = segment_labels[ind_bin4]\n",
    "bin5_labels = segment_labels[ind_bin5]\n",
    "bin6_labels = segment_labels[ind_bin6]"
   ]
  },
  {
   "cell_type": "markdown",
   "metadata": {
    "colab": {
     "base_uri": "https://localhost:8080/"
    },
    "executionInfo": {
     "elapsed": 422,
     "status": "ok",
     "timestamp": 1661948836809,
     "user": {
      "displayName": "Deepak Rastogi",
      "userId": "00835676360645435652"
     },
     "user_tz": -120
    },
    "id": "QFyFY4aWDwTI",
    "outputId": "b35c3c0d-7c75-4b79-93dd-4191bc89f9d1"
   },
   "source": [
    "### 2. Length Prediction Model"
   ]
  },
  {
   "cell_type": "code",
   "execution_count": null,
   "metadata": {
    "colab": {
     "base_uri": "https://localhost:8080/"
    },
    "executionInfo": {
     "elapsed": 3146,
     "status": "ok",
     "timestamp": 1661948844386,
     "user": {
      "displayName": "Deepak Rastogi",
      "userId": "00835676360645435652"
     },
     "user_tz": -120
    },
    "id": "DxTRVjt-3kvA",
    "outputId": "132a8b82-3502-470a-a406-cbc3c532285c"
   },
   "outputs": [
    {
     "name": "stdout",
     "output_type": "stream",
     "text": [
      "Looking in indexes: https://pypi.org/simple, https://us-python.pkg.dev/colab-wheels/public/simple/\n",
      "Requirement already satisfied: statsmodels in /usr/local/lib/python3.7/dist-packages (0.12.2)\n",
      "Requirement already satisfied: numpy>=1.15 in /usr/local/lib/python3.7/dist-packages (from statsmodels) (1.21.6)\n",
      "Requirement already satisfied: pandas>=0.21 in /usr/local/lib/python3.7/dist-packages (from statsmodels) (1.3.5)\n",
      "Requirement already satisfied: patsy>=0.5 in /usr/local/lib/python3.7/dist-packages (from statsmodels) (0.5.2)\n",
      "Requirement already satisfied: scipy>=1.1 in /usr/local/lib/python3.7/dist-packages (from statsmodels) (1.7.3)\n",
      "Requirement already satisfied: python-dateutil>=2.7.3 in /usr/local/lib/python3.7/dist-packages (from pandas>=0.21->statsmodels) (2.8.2)\n",
      "Requirement already satisfied: pytz>=2017.3 in /usr/local/lib/python3.7/dist-packages (from pandas>=0.21->statsmodels) (2022.2.1)\n",
      "Requirement already satisfied: six in /usr/local/lib/python3.7/dist-packages (from patsy>=0.5->statsmodels) (1.15.0)\n"
     ]
    }
   ],
   "source": [
    "!pip install statsmodels"
   ]
  },
  {
   "cell_type": "code",
   "execution_count": null,
   "metadata": {
    "id": "sysEWV8V3krw"
   },
   "outputs": [],
   "source": [
    "import statsmodels.api as sm\n",
    "from sklearn.model_selection import train_test_split"
   ]
  },
  {
   "cell_type": "code",
   "execution_count": null,
   "metadata": {
    "colab": {
     "base_uri": "https://localhost:8080/"
    },
    "executionInfo": {
     "elapsed": 3755,
     "status": "ok",
     "timestamp": 1661948853605,
     "user": {
      "displayName": "Deepak Rastogi",
      "userId": "00835676360645435652"
     },
     "user_tz": -120
    },
    "id": "3aSHLZro3kiR",
    "outputId": "1a46044e-658d-4fff-a85c-2eb786a1ff38"
   },
   "outputs": [
    {
     "name": "stdout",
     "output_type": "stream",
     "text": [
      "['amount_of_detail.pickle', 'compression_likelihood.pickle', 'continuity.pickle', 'discourse_relations.pickle', 'len_units.pickle', 'syntactic_real.pickle']\n"
     ]
    }
   ],
   "source": [
    "query_feats,query_labels,df_query = feature_matrix('queries','start')"
   ]
  },
  {
   "cell_type": "code",
   "execution_count": null,
   "metadata": {
    "colab": {
     "base_uri": "https://localhost:8080/"
    },
    "executionInfo": {
     "elapsed": 12,
     "status": "ok",
     "timestamp": 1661948853606,
     "user": {
      "displayName": "Deepak Rastogi",
      "userId": "00835676360645435652"
     },
     "user_tz": -120
    },
    "id": "y67k4Ww2l2R6",
    "outputId": "76dde214-de62-40c8-dcc3-8b5ac649347e"
   },
   "outputs": [
    {
     "data": {
      "text/plain": [
       "(11, 87)"
      ]
     },
     "execution_count": 11,
     "metadata": {},
     "output_type": "execute_result"
    }
   ],
   "source": [
    "query_feats.shape"
   ]
  },
  {
   "cell_type": "code",
   "execution_count": null,
   "metadata": {
    "id": "WI4q5kUk3kmP"
   },
   "outputs": [],
   "source": [
    "X_train, X_test, y_train, y_test = train_test_split(segment_feats, segment_labels, test_size=0.1, random_state=42)"
   ]
  },
  {
   "cell_type": "code",
   "execution_count": null,
   "metadata": {
    "colab": {
     "base_uri": "https://localhost:8080/"
    },
    "executionInfo": {
     "elapsed": 540,
     "status": "ok",
     "timestamp": 1661948857270,
     "user": {
      "displayName": "Deepak Rastogi",
      "userId": "00835676360645435652"
     },
     "user_tz": -120
    },
    "id": "22uLybNa3kpp",
    "outputId": "7d48e46f-63b3-4c74-e53f-4aca37597a7a"
   },
   "outputs": [
    {
     "name": "stdout",
     "output_type": "stream",
     "text": [
      "                                 OLS Regression Results                                \n",
      "=======================================================================================\n",
      "Dep. Variable:                      y   R-squared (uncentered):                   0.946\n",
      "Model:                            OLS   Adj. R-squared (uncentered):              0.946\n",
      "Method:                 Least Squares   F-statistic:                              2177.\n",
      "Date:                Wed, 31 Aug 2022   Prob (F-statistic):                        0.00\n",
      "Time:                        12:27:36   Log-Likelihood:                         -36701.\n",
      "No. Observations:                8126   AIC:                                  7.353e+04\n",
      "Df Residuals:                    8061   BIC:                                  7.399e+04\n",
      "Df Model:                          65                                                  \n",
      "Covariance Type:            nonrobust                                                  \n",
      "==============================================================================\n",
      "                 coef    std err          t      P>|t|      [0.025      0.975]\n",
      "------------------------------------------------------------------------------\n",
      "x1            -0.2463      0.111     -2.223      0.026      -0.463      -0.029\n",
      "const       3.785e-13   2.51e-13      1.508      0.132   -1.14e-13     8.7e-13\n",
      "x2            -0.1702      0.276     -0.617      0.537      -0.711       0.371\n",
      "x3            -0.0368      0.458     -0.080      0.936      -0.934       0.860\n",
      "x4            -0.5039      0.594     -0.848      0.397      -1.669       0.661\n",
      "x5             0.0135      0.009      1.465      0.143      -0.005       0.032\n",
      "x6             1.2003      0.306      3.928      0.000       0.601       1.799\n",
      "x7             0.3013      0.397      0.759      0.448      -0.477       1.079\n",
      "x8            -0.4206      0.306     -1.376      0.169      -1.020       0.179\n",
      "x9          9.047e-14   4.31e-14      2.098      0.036    5.95e-15    1.75e-13\n",
      "x10           -0.0750      0.371     -0.202      0.840      -0.803       0.653\n",
      "x11           -0.0403      0.348     -0.116      0.908      -0.723       0.643\n",
      "x12           -1.0898      0.923     -1.181      0.238      -2.899       0.719\n",
      "x13           -0.8821      0.576     -1.531      0.126      -2.011       0.247\n",
      "x14           -1.1813      0.346     -3.418      0.001      -1.859      -0.504\n",
      "x15           -0.1366      0.721     -0.189      0.850      -1.550       1.276\n",
      "x16            0.0359      0.824      0.044      0.965      -1.579       1.651\n",
      "x17           -0.1568      0.314     -0.499      0.618      -0.772       0.459\n",
      "x18            0.3428      0.301      1.138      0.255      -0.248       0.933\n",
      "x19           -2.3371      0.506     -4.621      0.000      -3.328      -1.346\n",
      "x20           -1.8406      1.062     -1.733      0.083      -3.922       0.241\n",
      "x21           -0.3084      1.449     -0.213      0.831      -3.148       2.531\n",
      "x22            0.3978      0.532      0.748      0.455      -0.645       1.441\n",
      "x23           -0.3697      1.126     -0.328      0.743      -2.576       1.837\n",
      "x24           -0.3522      1.242     -0.284      0.777      -2.787       2.083\n",
      "x25            0.0111      0.604      0.018      0.985      -1.174       1.196\n",
      "x26           -0.9183      1.112     -0.825      0.409      -3.099       1.263\n",
      "x27            0.4483      0.937      0.478      0.632      -1.389       2.285\n",
      "x28           -0.1410      0.106     -1.333      0.183      -0.348       0.066\n",
      "x29           -1.9199      1.558     -1.232      0.218      -4.975       1.135\n",
      "x30           -0.5973      0.757     -0.790      0.430      -2.080       0.886\n",
      "x31           -0.6216      1.018     -0.611      0.541      -2.617       1.374\n",
      "x32            0.4598      0.104      4.439      0.000       0.257       0.663\n",
      "x33           40.8913     12.005      3.406      0.001      17.358      64.425\n",
      "x34          -16.8936     23.278     -0.726      0.468     -62.525      28.738\n",
      "x35            7.3096      1.503      4.864      0.000       4.364      10.256\n",
      "x36            0.1791      0.402      0.445      0.656      -0.609       0.967\n",
      "x37            0.2904      0.212      1.370      0.171      -0.125       0.706\n",
      "x38          -13.9676      2.227     -6.272      0.000     -18.333      -9.602\n",
      "x39           -0.0055      0.141     -0.039      0.969      -0.283       0.272\n",
      "x40           -0.3956      0.227     -1.745      0.081      -0.840       0.049\n",
      "x41            0.3901      0.195      2.004      0.045       0.009       0.772\n",
      "x42            0.3930      0.984      0.399      0.690      -1.537       2.323\n",
      "x43           -1.4338      3.089     -0.464      0.643      -7.490       4.622\n",
      "x44            0.0770      0.894      0.086      0.931      -1.676       1.830\n",
      "x45           -0.2549      0.884     -0.288      0.773      -1.988       1.478\n",
      "x46           -9.9844      0.922    -10.832      0.000     -11.791      -8.178\n",
      "x47            0.1528      0.068      2.241      0.025       0.019       0.286\n",
      "x48           55.2220     10.934      5.050      0.000      33.789      76.655\n",
      "x49           -0.1999      0.046     -4.350      0.000      -0.290      -0.110\n",
      "x50            0.8104      0.188      4.320      0.000       0.443       1.178\n",
      "x51            4.4254      1.018      4.349      0.000       2.431       6.420\n",
      "x52            0.0427      0.153      0.278      0.781      -0.258       0.343\n",
      "x53            0.0871      0.090      0.963      0.336      -0.090       0.264\n",
      "x54            0.1160      0.180      0.643      0.520      -0.238       0.470\n",
      "x55            0.4549      0.117      3.894      0.000       0.226       0.684\n",
      "x56           -1.2186      0.805     -1.515      0.130      -2.796       0.359\n",
      "x57        -1.612e-14   1.43e-14     -1.126      0.260   -4.42e-14    1.19e-14\n",
      "x58          5.82e-15   6.38e-15      0.912      0.362   -6.69e-15    1.83e-14\n",
      "x59         4.122e-16   2.84e-15      0.145      0.885   -5.16e-15    5.98e-15\n",
      "x60         1.466e-15   1.64e-15      0.893      0.372   -1.75e-15    4.68e-15\n",
      "x61         1.302e-14   1.34e-14      0.974      0.330   -1.32e-14    3.92e-14\n",
      "x62         6.547e-15   6.18e-15      1.060      0.289   -5.56e-15    1.87e-14\n",
      "x63         9.847e-16   1.31e-15      0.753      0.452   -1.58e-15    3.55e-15\n",
      "x64        -2.868e-14   3.01e-14     -0.953      0.340   -8.76e-14    3.03e-14\n",
      "x65                 0          0        nan        nan           0           0\n",
      "x66                 0          0        nan        nan           0           0\n",
      "x67                 0          0        nan        nan           0           0\n",
      "x68                 0          0        nan        nan           0           0\n",
      "x69                 0          0        nan        nan           0           0\n",
      "x70                 0          0        nan        nan           0           0\n",
      "x71                 0          0        nan        nan           0           0\n",
      "x72            0.2743      0.221      1.243      0.214      -0.158       0.707\n",
      "x73           -0.3103      0.199     -1.562      0.118      -0.700       0.079\n",
      "x74           -0.1410      0.106     -1.333      0.183      -0.348       0.066\n",
      "x75           -0.0985      0.281     -0.350      0.726      -0.650       0.453\n",
      "x76           -0.8821      0.576     -1.531      0.126      -2.011       0.247\n",
      "x77           -0.1004      0.213     -0.472      0.637      -0.517       0.316\n",
      "x78            0.4192      0.307      1.366      0.172      -0.183       1.021\n",
      "x79           -0.4072      0.328     -1.243      0.214      -1.049       0.235\n",
      "x80           -0.2288      0.344     -0.666      0.506      -0.903       0.445\n",
      "x81            0.1463      0.449      0.326      0.744      -0.733       1.026\n",
      "x82           -0.0586      0.435     -0.135      0.893      -0.912       0.794\n",
      "x83           -1.2178      1.617     -0.753      0.451      -4.388       1.952\n",
      "x84           -0.1568      0.314     -0.499      0.618      -0.772       0.459\n",
      "x85           -1.0549      0.416     -2.539      0.011      -1.869      -0.240\n",
      "x86            0.5414      0.328      1.649      0.099      -0.102       1.185\n",
      "==============================================================================\n",
      "Omnibus:                     1069.360   Durbin-Watson:                   1.993\n",
      "Prob(Omnibus):                  0.000   Jarque-Bera (JB):             1835.480\n",
      "Skew:                           0.882   Prob(JB):                         0.00\n",
      "Kurtosis:                       4.519   Cond. No.                     1.17e+16\n",
      "==============================================================================\n",
      "\n",
      "Notes:\n",
      "[1] R² is computed without centering (uncentered) since the model does not contain a constant.\n",
      "[2] Standard Errors assume that the covariance matrix of the errors is correctly specified.\n",
      "[3] The smallest eigenvalue is 5.51e-25. This might indicate that there are\n",
      "strong multicollinearity problems or that the design matrix is singular.\n"
     ]
    }
   ],
   "source": [
    "mod = sm.OLS(y_train,X_train)\n",
    "res = mod.fit()\n",
    "print(res.summary())"
   ]
  },
  {
   "cell_type": "code",
   "execution_count": null,
   "metadata": {
    "colab": {
     "base_uri": "https://localhost:8080/"
    },
    "executionInfo": {
     "elapsed": 377,
     "status": "ok",
     "timestamp": 1661950470512,
     "user": {
      "displayName": "Deepak Rastogi",
      "userId": "00835676360645435652"
     },
     "user_tz": -120
    },
    "id": "KmIkcU753za8",
    "outputId": "fd941945-5137-4dec-d599-4952fdafcf6b"
   },
   "outputs": [
    {
     "data": {
      "text/plain": [
       "array([ 1,  5,  6,  7,  9, 16, 18, 22, 25, 27, 32, 33, 35, 36, 37, 41, 42,\n",
       "       44, 47, 48, 50, 51, 52, 53, 54, 55, 58, 59, 60, 61, 62, 63, 72, 78,\n",
       "       81, 86])"
      ]
     },
     "execution_count": 39,
     "metadata": {},
     "output_type": "execute_result"
    }
   ],
   "source": [
    "np.where(res.params>0)[0]"
   ]
  },
  {
   "cell_type": "code",
   "execution_count": null,
   "metadata": {
    "id": "AZVNUMuc4zFO"
   },
   "outputs": [],
   "source": [
    "indexes = np.where(res.params<0)[0]\n",
    "cols = [df_segment.columns[i] if i < 57 else '' for i in indexes ]\n",
    "coef = res.params[np.where(res.params<0)[0]]\n",
    "p_vals = res.pvalues[np.where(res.params<0)[0]]\n",
    "zipped = zip(indexes,cols,coef,p_vals)"
   ]
  },
  {
   "cell_type": "code",
   "execution_count": null,
   "metadata": {
    "colab": {
     "base_uri": "https://localhost:8080/"
    },
    "executionInfo": {
     "elapsed": 340,
     "status": "ok",
     "timestamp": 1661955104559,
     "user": {
      "displayName": "Deepak Rastogi",
      "userId": "00835676360645435652"
     },
     "user_tz": -120
    },
    "id": "KROefHzt9wSY",
    "outputId": "200cc7e2-c986-4874-fa86-a8c490316849"
   },
   "outputs": [
    {
     "data": {
      "text/plain": [
       "[(34, 'prod_cl', -16.893616175563626, 0.4680266047328344),\n",
       " (38, 'avg_sim', -13.9675723974409, 3.749498206002427e-10),\n",
       " (46, 'num_sents', -9.984407789007399, 3.736570483600889e-27),\n",
       " (19, VP -> MD VP, -2.3370618804732195, 3.88154604123571e-06),\n",
       " (29, SBAR -> WHADVP S, -1.919861917355055, 0.2179990585578057),\n",
       " (20, ADVP -> IN RBS, -1.8406151534245025, 0.08311391244153961),\n",
       " (43, 'comparison', -1.4337671925749513, 0.6425997232717051),\n",
       " (56, 'total_discourse', -1.218618093879496, 0.1299339277935235),\n",
       " (83, '', -1.217814532489169, 0.4514397128945178),\n",
       " (14, VP -> TO VP, -1.1812907944050262, 0.000634182382377704),\n",
       " (12, WHNP -> WDT, -1.0898210423325323, 0.23772239833890912),\n",
       " (85, '', -1.0549017500107392, 0.01114479971923191),\n",
       " (26, ROOT -> SBAR, -0.9182808329439343, 0.4091561147807432),\n",
       " (13, NP -> CD, -0.8820723936147262, 0.12575290516337964),\n",
       " (76, '', -0.8820723936146798, 0.12575290516339963),\n",
       " (31, S -> CC NP VP ., -0.6216169282502949, 0.5414932834927457),\n",
       " (30, ROOT -> FRAG, -0.5973480485051148, 0.42982539777044926),\n",
       " (4, 'sents_wo_nes', -0.503871970051228, 0.3965096416732098),\n",
       " (8, ADVP -> RB, -0.4205793138110331, 0.16882004032949335),\n",
       " (79, '', -0.4071766687277302, 0.21380226637644112),\n",
       " (40, 'intra_links', -0.39562139197383006, 0.08101795218372598),\n",
       " (23, PP -> IN NP ., -0.3697139966241875, 0.7425890512235979),\n",
       " (24, QP -> ADVP CD, -0.3521599399529485, 0.7767861966335836),\n",
       " (73, '', -0.3102925021398241, 0.11830425497354054),\n",
       " (21, WHADVP -> WRB, -0.30839739773860986, 0.8314154762230367),\n",
       " (45, 'expansion', -0.25486345893736667, 0.773140604054809),\n",
       " (0, 'adjective_count', -0.24626920369457214, 0.026240392501160677),\n",
       " (80, '', -0.2287922191236462, 0.5056584248493221),\n",
       " (49, 'ttr', -0.19994976336454945, 1.3801911372824898e-05),\n",
       " (2, 'number_of_NEs', -0.17021012528347157, 0.537401602544594),\n",
       " (84, '', -0.15675612030064323, 0.6176243787660419),\n",
       " (17, NP -> NP SBAR, -0.15675612030062, 0.6176243787660938),\n",
       " (74, '', -0.1409710030179402, 0.18259995092624343),\n",
       " (28, NP -> DT JJ NN, -0.14097100301789367, 0.18259995092643458),\n",
       " (15, S -> VP ., -0.13659490291509532, 0.8497088890695541),\n",
       " (77, '', -0.10036232801254076, 0.6367819535962311),\n",
       " (75, '', -0.09850793372995809, 0.7261611645539725),\n",
       " (10, VP -> VBZ NP, -0.07496034457891407, 0.8400916044302155),\n",
       " (82, '', -0.0586018843297584, 0.8928658870656393),\n",
       " (11, VP -> VBZ VP, -0.04034622269318676, 0.9078314923147838),\n",
       " (3, 'avg_ne_length', -0.03681054065648408, 0.9358905181429527),\n",
       " (39, 'coref_links', -0.005477055896143217, 0.9690926803117186),\n",
       " (64, '', -2.8681635499378134e-14, 0.3403865468426561),\n",
       " (57, '', -1.6120267249118583e-14, 0.26030534864607585)]"
      ]
     },
     "execution_count": 83,
     "metadata": {},
     "output_type": "execute_result"
    }
   ],
   "source": [
    "sorted(zipped, key=lambda x: x[2])"
   ]
  },
  {
   "cell_type": "markdown",
   "metadata": {},
   "source": [
    "#### Prediction on Queries"
   ]
  },
  {
   "cell_type": "code",
   "execution_count": null,
   "metadata": {
    "id": "b4G1mqw94y-Q"
   },
   "outputs": [],
   "source": [
    "list_vals = list(zipped)\n",
    "for i in range(len(list_vals)):\n",
    "  val = list_vals[i][0]\n",
    "  pval = list_vals[i][1]\n",
    "  print(np.where(res.params == val)[0])"
   ]
  },
  {
   "cell_type": "code",
   "execution_count": null,
   "metadata": {
    "colab": {
     "base_uri": "https://localhost:8080/",
     "height": 171
    },
    "executionInfo": {
     "elapsed": 420,
     "status": "error",
     "timestamp": 1661951150027,
     "user": {
      "displayName": "Deepak Rastogi",
      "userId": "00835676360645435652"
     },
     "user_tz": -120
    },
    "id": "HwNJqdCM4y5D",
    "outputId": "93c67bd8-b89d-4702-f382-a76395472901"
   },
   "outputs": [
    {
     "ename": "IndexError",
     "evalue": "ignored",
     "output_type": "error",
     "traceback": [
      "\u001b[0;31m---------------------------------------------------------------------------\u001b[0m",
      "\u001b[0;31mIndexError\u001b[0m                                Traceback (most recent call last)",
      "\u001b[0;32m<ipython-input-51-2824b2ad0f5f>\u001b[0m in \u001b[0;36m<module>\u001b[0;34m\u001b[0m\n\u001b[0;32m----> 1\u001b[0;31m \u001b[0mnp\u001b[0m\u001b[0;34m.\u001b[0m\u001b[0mwhere\u001b[0m\u001b[0;34m(\u001b[0m\u001b[0mres\u001b[0m\u001b[0;34m.\u001b[0m\u001b[0mparams\u001b[0m \u001b[0;34m==\u001b[0m \u001b[0mlist_vals\u001b[0m\u001b[0;34m[\u001b[0m\u001b[0;36m0\u001b[0m\u001b[0;34m]\u001b[0m\u001b[0;34m)\u001b[0m\u001b[0;34m\u001b[0m\u001b[0;34m\u001b[0m\u001b[0m\n\u001b[0m",
      "\u001b[0;31mIndexError\u001b[0m: list index out of range"
     ]
    }
   ],
   "source": [
    "np.where(res.params == list_vals[0])"
   ]
  },
  {
   "cell_type": "code",
   "execution_count": null,
   "metadata": {
    "id": "F85PNjYJ2_FT"
   },
   "outputs": [],
   "source": [
    "import matplotlib.pyplot as plt"
   ]
  },
  {
   "cell_type": "code",
   "execution_count": null,
   "metadata": {
    "colab": {
     "base_uri": "https://localhost:8080/",
     "height": 625
    },
    "executionInfo": {
     "elapsed": 761,
     "status": "error",
     "timestamp": 1661866660725,
     "user": {
      "displayName": "Deepak Rastogi",
      "userId": "00835676360645435652"
     },
     "user_tz": -120
    },
    "id": "0P_0vj1Z25uA",
    "outputId": "a25d907b-ca65-41df-934d-f744a598346c"
   },
   "outputs": [
    {
     "ename": "AttributeError",
     "evalue": "ignored",
     "output_type": "error",
     "traceback": [
      "\u001b[0;31m---------------------------------------------------------------------------\u001b[0m",
      "\u001b[0;31mAttributeError\u001b[0m                            Traceback (most recent call last)",
      "\u001b[0;32m<ipython-input-32-f47942946ba2>\u001b[0m in \u001b[0;36m<module>\u001b[0;34m\u001b[0m\n\u001b[1;32m      1\u001b[0m \u001b[0mfig\u001b[0m\u001b[0;34m,\u001b[0m \u001b[0max\u001b[0m \u001b[0;34m=\u001b[0m \u001b[0mplt\u001b[0m\u001b[0;34m.\u001b[0m\u001b[0msubplots\u001b[0m\u001b[0;34m(\u001b[0m\u001b[0;34m)\u001b[0m\u001b[0;34m\u001b[0m\u001b[0;34m\u001b[0m\u001b[0m\n\u001b[0;32m----> 2\u001b[0;31m \u001b[0mfig\u001b[0m \u001b[0;34m=\u001b[0m \u001b[0msm\u001b[0m\u001b[0;34m.\u001b[0m\u001b[0mgraphics\u001b[0m\u001b[0;34m.\u001b[0m\u001b[0mplot_fit\u001b[0m\u001b[0;34m(\u001b[0m\u001b[0mres\u001b[0m\u001b[0;34m.\u001b[0m\u001b[0mpredict\u001b[0m\u001b[0;34m(\u001b[0m\u001b[0mX_test\u001b[0m\u001b[0;34m)\u001b[0m\u001b[0;34m,\u001b[0m \u001b[0;36m0\u001b[0m\u001b[0;34m,\u001b[0m \u001b[0max\u001b[0m\u001b[0;34m=\u001b[0m\u001b[0max\u001b[0m\u001b[0;34m)\u001b[0m\u001b[0;34m\u001b[0m\u001b[0;34m\u001b[0m\u001b[0m\n\u001b[0m\u001b[1;32m      3\u001b[0m \u001b[0max\u001b[0m\u001b[0;34m.\u001b[0m\u001b[0mset_ylabel\u001b[0m\u001b[0;34m(\u001b[0m\u001b[0;34m\"Cancer\"\u001b[0m\u001b[0;34m)\u001b[0m\u001b[0;34m\u001b[0m\u001b[0;34m\u001b[0m\u001b[0m\n\u001b[1;32m      4\u001b[0m \u001b[0max\u001b[0m\u001b[0;34m.\u001b[0m\u001b[0mset_xlabel\u001b[0m\u001b[0;34m(\u001b[0m\u001b[0;34m\"Population\"\u001b[0m\u001b[0;34m)\u001b[0m\u001b[0;34m\u001b[0m\u001b[0;34m\u001b[0m\u001b[0m\n\u001b[1;32m      5\u001b[0m \u001b[0max\u001b[0m\u001b[0;34m.\u001b[0m\u001b[0mset_title\u001b[0m\u001b[0;34m(\u001b[0m\u001b[0;34m\"Linear Regression\"\u001b[0m\u001b[0;34m)\u001b[0m\u001b[0;34m\u001b[0m\u001b[0;34m\u001b[0m\u001b[0m\n",
      "\u001b[0;32m/usr/local/lib/python3.7/dist-packages/statsmodels/graphics/regressionplots.py\u001b[0m in \u001b[0;36mplot_fit\u001b[0;34m(results, exog_idx, y_true, ax, vlines, **kwargs)\u001b[0m\n\u001b[1;32m    138\u001b[0m     \u001b[0mfig\u001b[0m\u001b[0;34m,\u001b[0m \u001b[0max\u001b[0m \u001b[0;34m=\u001b[0m \u001b[0mutils\u001b[0m\u001b[0;34m.\u001b[0m\u001b[0mcreate_mpl_ax\u001b[0m\u001b[0;34m(\u001b[0m\u001b[0max\u001b[0m\u001b[0;34m)\u001b[0m\u001b[0;34m\u001b[0m\u001b[0;34m\u001b[0m\u001b[0m\n\u001b[1;32m    139\u001b[0m \u001b[0;34m\u001b[0m\u001b[0m\n\u001b[0;32m--> 140\u001b[0;31m     \u001b[0mexog_name\u001b[0m\u001b[0;34m,\u001b[0m \u001b[0mexog_idx\u001b[0m \u001b[0;34m=\u001b[0m \u001b[0mutils\u001b[0m\u001b[0;34m.\u001b[0m\u001b[0mmaybe_name_or_idx\u001b[0m\u001b[0;34m(\u001b[0m\u001b[0mexog_idx\u001b[0m\u001b[0;34m,\u001b[0m \u001b[0mresults\u001b[0m\u001b[0;34m.\u001b[0m\u001b[0mmodel\u001b[0m\u001b[0;34m)\u001b[0m\u001b[0;34m\u001b[0m\u001b[0;34m\u001b[0m\u001b[0m\n\u001b[0m\u001b[1;32m    141\u001b[0m     \u001b[0mresults\u001b[0m \u001b[0;34m=\u001b[0m \u001b[0mmaybe_unwrap_results\u001b[0m\u001b[0;34m(\u001b[0m\u001b[0mresults\u001b[0m\u001b[0;34m)\u001b[0m\u001b[0;34m\u001b[0m\u001b[0;34m\u001b[0m\u001b[0m\n\u001b[1;32m    142\u001b[0m \u001b[0;34m\u001b[0m\u001b[0m\n",
      "\u001b[0;31mAttributeError\u001b[0m: 'numpy.ndarray' object has no attribute 'model'"
     ]
    },
    {
     "data": {
      "image/png": "[encoded data removed]",
      "text/plain": [
       "<Figure size 432x288 with 1 Axes>"
      ]
     },
     "metadata": {
      "needs_background": "light"
     },
     "output_type": "display_data"
    }
   ],
   "source": [
    "fig, ax = plt.subplots()\n",
    "fig = sm.graphics.plot_fit(res.predict(X_test), 0, ax=ax)\n",
    "ax.set_ylabel(\"Cancer\")\n",
    "ax.set_xlabel(\"Population\")\n",
    "ax.set_title(\"Linear Regression\")"
   ]
  },
  {
   "cell_type": "code",
   "execution_count": null,
   "metadata": {
    "colab": {
     "base_uri": "https://localhost:8080/",
     "height": 265
    },
    "executionInfo": {
     "elapsed": 1690,
     "status": "ok",
     "timestamp": 1661865321224,
     "user": {
      "displayName": "Deepak Rastogi",
      "userId": "00835676360645435652"
     },
     "user_tz": -120
    },
    "id": "50CEHIur4TfZ",
    "outputId": "859b1b3a-bf30-4860-d296-490ea3c478c7"
   },
   "outputs": [
    {
     "data": {
      "image/png": "[encoded data removed]",
      "text/plain": [
       "<Figure size 432x288 with 1 Axes>"
      ]
     },
     "metadata": {
      "needs_background": "light"
     },
     "output_type": "display_data"
    }
   ],
   "source": [
    "import seaborn as sns\n",
    "sns.histplot(res.resid);"
   ]
  },
  {
   "cell_type": "code",
   "execution_count": null,
   "metadata": {
    "colab": {
     "base_uri": "https://localhost:8080/"
    },
    "executionInfo": {
     "elapsed": 260,
     "status": "ok",
     "timestamp": 1661865463542,
     "user": {
      "displayName": "Deepak Rastogi",
      "userId": "00835676360645435652"
     },
     "user_tz": -120
    },
    "id": "ebHKfW1A5lWB",
    "outputId": "aaae2cf4-4649-493f-8299-626166a026f5"
   },
   "outputs": [
    {
     "data": {
      "text/plain": [
       "(0.016382114194771386, 22.190241608011576)"
      ]
     },
     "execution_count": 17,
     "metadata": {},
     "output_type": "execute_result"
    }
   ],
   "source": [
    "from scipy import stats\n",
    "mu, std = stats.norm.fit(res.resid)\n",
    "mu, std"
   ]
  },
  {
   "cell_type": "code",
   "execution_count": null,
   "metadata": {
    "colab": {
     "base_uri": "https://localhost:8080/",
     "height": 295
    },
    "executionInfo": {
     "elapsed": 2076,
     "status": "ok",
     "timestamp": 1661865492660,
     "user": {
      "displayName": "Deepak Rastogi",
      "userId": "00835676360645435652"
     },
     "user_tz": -120
    },
    "id": "r4mL0F1m5lSW",
    "outputId": "62985c0c-a4ff-4d82-fd63-1d798db4cf3d"
   },
   "outputs": [
    {
     "data": {
      "image/png": "[encoded data removed]",
      "text/plain": [
       "<Figure size 432x288 with 1 Axes>"
      ]
     },
     "metadata": {
      "needs_background": "light"
     },
     "output_type": "display_data"
    }
   ],
   "source": [
    "fig, ax = plt.subplots()\n",
    "# plot the residuals\n",
    "sns.histplot(x=res.resid, ax=ax, stat=\"density\", linewidth=0, kde=True)\n",
    "ax.set(title=\"Distribution of residuals\", xlabel=\"residual\")\n",
    "\n",
    "# plot corresponding normal curve\n",
    "xmin, xmax = plt.xlim() # the maximum x values from the histogram above\n",
    "x = np.linspace(xmin, xmax, 100) # generate some x values\n",
    "p = stats.norm.pdf(x, mu, std) # calculate the y values for the normal curve\n",
    "sns.lineplot(x=x, y=p, color=\"orange\", ax=ax)\n",
    "plt.show()"
   ]
  },
  {
   "cell_type": "code",
   "execution_count": null,
   "metadata": {
    "id": "t0zJkLo45lPU"
   },
   "outputs": [],
   "source": []
  },
  {
   "cell_type": "code",
   "execution_count": null,
   "metadata": {
    "colab": {
     "base_uri": "https://localhost:8080/",
     "height": 279
    },
    "executionInfo": {
     "elapsed": 789,
     "status": "ok",
     "timestamp": 1661865906388,
     "user": {
      "displayName": "Deepak Rastogi",
      "userId": "00835676360645435652"
     },
     "user_tz": -120
    },
    "id": "z-DGmTbC5lL7",
    "outputId": "3b439993-395a-496f-bb75-95d6db175011"
   },
   "outputs": [
    {
     "data": {
      "image/png": "[encoded data removed]",
      "text/plain": [
       "<Figure size 432x288 with 1 Axes>"
      ]
     },
     "metadata": {
      "needs_background": "light"
     },
     "output_type": "display_data"
    }
   ],
   "source": [
    "Y_max = max(y_test)\n",
    "Y_min = min(y_test)\n",
    "ax = sns.scatterplot(x=res.predict(X_test), y=y_test)\n",
    "#ax.set(ylim=(Y_min, Y_max))\n",
    "#ax.set(xlim=(Y_min, Y_max))\n",
    "ax.set_xlabel(\"Predicted Length of the Samples\")\n",
    "ax.set_ylabel(\"Observed Length of the Samples\")\n",
    "X_ref = Y_ref = np.linspace(Y_min, Y_max, 100)\n",
    "plt.plot(X_ref, Y_ref, color='red', linewidth=1)\n",
    "plt.show()"
   ]
  },
  {
   "cell_type": "code",
   "execution_count": null,
   "metadata": {
    "colab": {
     "base_uri": "https://localhost:8080/",
     "height": 295
    },
    "executionInfo": {
     "elapsed": 929,
     "status": "ok",
     "timestamp": 1661866074159,
     "user": {
      "displayName": "Deepak Rastogi",
      "userId": "00835676360645435652"
     },
     "user_tz": -120
    },
    "id": "2DMYsbIa5lJh",
    "outputId": "01ed02ae-94a0-499c-b7d0-bc70aa0d89a7"
   },
   "outputs": [
    {
     "data": {
      "image/png": "[encoded data removed]",
      "text/plain": [
       "<Figure size 432x288 with 1 Axes>"
      ]
     },
     "metadata": {
      "needs_background": "light"
     },
     "output_type": "display_data"
    }
   ],
   "source": [
    "sm.graphics.plot_fit(res,1, vlines=False);"
   ]
  },
  {
   "cell_type": "code",
   "execution_count": null,
   "metadata": {
    "id": "gvT7A4Dp5lF5"
   },
   "outputs": [],
   "source": []
  },
  {
   "cell_type": "code",
   "execution_count": null,
   "metadata": {
    "id": "yetwx-Ub5lC1"
   },
   "outputs": [],
   "source": []
  },
  {
   "cell_type": "code",
   "execution_count": null,
   "metadata": {
    "id": "Xsw0O9Ia3kfN"
   },
   "outputs": [],
   "source": [
    "query_pred = res.predict(query_feats)"
   ]
  },
  {
   "cell_type": "code",
   "execution_count": null,
   "metadata": {
    "colab": {
     "base_uri": "https://localhost:8080/"
    },
    "executionInfo": {
     "elapsed": 350,
     "status": "ok",
     "timestamp": 1661728002916,
     "user": {
      "displayName": "Deepak Rastogi",
      "userId": "00835676360645435652"
     },
     "user_tz": -120
    },
    "id": "cuWDOHu-ytxh",
    "outputId": "2cc88854-3294-4bb1-a80e-962560668679"
   },
   "outputs": [
    {
     "data": {
      "text/plain": [
       "(array([ 85.51998311,  88.21041006,  87.47157969,  84.33632661,\n",
       "         88.47789092,  83.99089666,  56.13110858,  75.87837803,\n",
       "         93.93121781, 104.77569139,  87.46053541]),\n",
       " [51, 47, 36, 41, 57, 37, 36, 47, 62, 47, 56])"
      ]
     },
     "execution_count": 39,
     "metadata": {},
     "output_type": "execute_result"
    }
   ],
   "source": [
    "query_pred,query_labels"
   ]
  },
  {
   "cell_type": "code",
   "execution_count": null,
   "metadata": {
    "colab": {
     "base_uri": "https://localhost:8080/"
    },
    "executionInfo": {
     "elapsed": 304,
     "status": "ok",
     "timestamp": 1661720812746,
     "user": {
      "displayName": "Deepak Rastogi",
      "userId": "00835676360645435652"
     },
     "user_tz": -120
    },
    "id": "vR0lqjkb3kcd",
    "outputId": "8e64cfba-a0f6-4d86-d000-fdca3973ce5e"
   },
   "outputs": [
    {
     "data": {
      "text/plain": [
       "0.3641879297248316"
      ]
     },
     "execution_count": 14,
     "metadata": {},
     "output_type": "execute_result"
    }
   ],
   "source": [
    "r2_score(query_labels,query_pred)"
   ]
  },
  {
   "cell_type": "code",
   "execution_count": null,
   "metadata": {
    "id": "jbb3CiZp3kZm"
   },
   "outputs": [],
   "source": [
    "from scipy.stats.stats import pearsonr,spearmanr,kendalltau"
   ]
  },
  {
   "cell_type": "code",
   "execution_count": null,
   "metadata": {
    "colab": {
     "base_uri": "https://localhost:8080/"
    },
    "executionInfo": {
     "elapsed": 721,
     "status": "ok",
     "timestamp": 1661186172831,
     "user": {
      "displayName": "Deepak Rastogi",
      "userId": "00835676360645435652"
     },
     "user_tz": -120
    },
    "id": "VBVrJ7gf3kV2",
    "outputId": "8cc08839-e93d-449a-b39d-eae6b2bbd259"
   },
   "outputs": [
    {
     "data": {
      "text/plain": [
       "(0.4545637917215472, 8.775368666942796e-93)"
      ]
     },
     "execution_count": 45,
     "metadata": {},
     "output_type": "execute_result"
    }
   ],
   "source": [
    "pearsonr(y_test,res.predict(X_test))"
   ]
  },
  {
   "cell_type": "code",
   "execution_count": null,
   "metadata": {
    "colab": {
     "base_uri": "https://localhost:8080/"
    },
    "executionInfo": {
     "elapsed": 411,
     "status": "ok",
     "timestamp": 1661186460372,
     "user": {
      "displayName": "Deepak Rastogi",
      "userId": "00835676360645435652"
     },
     "user_tz": -120
    },
    "id": "CbTklQWw3kSF",
    "outputId": "199dd5a2-cae8-4065-b33b-a84c0e59bbfa"
   },
   "outputs": [
    {
     "data": {
      "text/plain": [
       "SpearmanrResult(correlation=0.4569894090870902, pvalue=7.04213160266263e-94)"
      ]
     },
     "execution_count": 47,
     "metadata": {},
     "output_type": "execute_result"
    }
   ],
   "source": [
    "spearmanr(y_test,res.predict(X_test))"
   ]
  },
  {
   "cell_type": "code",
   "execution_count": null,
   "metadata": {
    "colab": {
     "base_uri": "https://localhost:8080/"
    },
    "executionInfo": {
     "elapsed": 386,
     "status": "ok",
     "timestamp": 1661186516871,
     "user": {
      "displayName": "Deepak Rastogi",
      "userId": "00835676360645435652"
     },
     "user_tz": -120
    },
    "id": "hM4UkpjY3kO_",
    "outputId": "22a1e0ff-bc18-4a04-baa4-f4349f4ba2be"
   },
   "outputs": [
    {
     "data": {
      "text/plain": [
       "KendalltauResult(correlation=0.31853168145195926, pvalue=2.729365721980658e-90)"
      ]
     },
     "execution_count": 48,
     "metadata": {},
     "output_type": "execute_result"
    }
   ],
   "source": [
    "kendalltau(y_test,res.predict(X_test))"
   ]
  },
  {
   "cell_type": "code",
   "execution_count": null,
   "metadata": {
    "id": "W-h4lFwC3kLg"
   },
   "outputs": [],
   "source": []
  },
  {
   "cell_type": "code",
   "execution_count": null,
   "metadata": {
    "id": "XZSHubzl3kH0"
   },
   "outputs": [],
   "source": []
  },
  {
   "cell_type": "code",
   "execution_count": null,
   "metadata": {
    "id": "PElP6DePbYy5"
   },
   "outputs": [],
   "source": []
  },
  {
   "cell_type": "code",
   "execution_count": null,
   "metadata": {
    "id": "r4qtRKVYbYu-"
   },
   "outputs": [],
   "source": []
  },
  {
   "cell_type": "code",
   "execution_count": null,
   "metadata": {
    "id": "y-plSe47bYrU"
   },
   "outputs": [],
   "source": []
  },
  {
   "cell_type": "code",
   "execution_count": null,
   "metadata": {
    "id": "DGyH8yA7bYn3"
   },
   "outputs": [],
   "source": []
  },
  {
   "cell_type": "markdown",
   "metadata": {
    "id": "VNvRSCUnbYkf"
   },
   "source": [
    "### 2. Length Range Prediction model"
   ]
  },
  {
   "cell_type": "code",
   "execution_count": null,
   "metadata": {
    "id": "jXIym6cJPxQv"
   },
   "outputs": [],
   "source": [
    "train_feats,train_labels,df_train = feature_matrix('train','end')\n",
    "val_feats,val_labels,df_val = feature_matrix('val','end')\n",
    "test_feats,test_labels,df_test = feature_matrix('test','end')"
   ]
  },
  {
   "cell_type": "code",
   "execution_count": null,
   "metadata": {
    "id": "P3W2rCTLFyRe"
   },
   "outputs": [],
   "source": [
    "def identify_columns_with_zero(feats):\n",
    "  cols_with_zero = []\n",
    "  for i in range(feats.shape[1]):\n",
    "      values = feats[:,i]\n",
    "      if np.min(values) == 0 and np.max(values) == 0:\n",
    "        cols_with_zero.append(i)\n",
    "  return cols_with_zero"
   ]
  },
  {
   "cell_type": "code",
   "execution_count": null,
   "metadata": {
    "id": "N_APT-ZZFyF2"
   },
   "outputs": [],
   "source": [
    "column_with_zeros_indexes = identify_columns_with_zero(train_feats)\n",
    "train_feats_n = np.delete(train_feats, column_with_zeros_indexes, axis=1)\n",
    "val_feats_n = np.delete(val_feats, column_with_zeros_indexes, axis=1)\n",
    "test_feats_n = np.delete(test_feats, column_with_zeros_indexes, axis=1)"
   ]
  },
  {
   "cell_type": "code",
   "execution_count": null,
   "metadata": {
    "id": "_gyjxr68Ii2v"
   },
   "outputs": [],
   "source": [
    "train_labels_np = np.array(train_labels)\n",
    "indexes_of_below_hund = np.where(train_labels_np < 200)[0]\n",
    "train_feats_selected_len = train_feats_n[indexes_of_below_hund]\n",
    "train_labels_selected_len = train_labels_np[indexes_of_below_hund]"
   ]
  },
  {
   "cell_type": "code",
   "execution_count": null,
   "metadata": {
    "id": "-EtuF46JbppG"
   },
   "outputs": [],
   "source": [
    "test_labels_np = np.array(test_labels)\n",
    "indexes_ = np.where(test_labels_np < 200)[0]\n",
    "test_feats_selected_len = test_feats_n[indexes_]\n",
    "test_labels_selected_len = test_labels_np[indexes_]"
   ]
  },
  {
   "cell_type": "code",
   "execution_count": null,
   "metadata": {
    "id": "873EV9FNKSAn"
   },
   "outputs": [],
   "source": [
    "#train_feats_selected_len.shape"
   ]
  },
  {
   "cell_type": "markdown",
   "metadata": {
    "id": "GLq8WhczN5kK"
   },
   "source": [
    "scaler = StandardScaler()\n",
    "train_feats_n = scaler.fit_transform(train_feats_n)\n",
    "val_feats_n = scaler.transform(val_feats_n)\n",
    "test_feats_n = scaler.transform(test_feats_n)"
   ]
  },
  {
   "cell_type": "code",
   "execution_count": null,
   "metadata": {
    "id": "uKi1-Un7iTGD"
   },
   "outputs": [],
   "source": [
    "for i in range(len(test_labels)):\n",
    "  if test_labels[i] <= 50:\n",
    "    print(i,'->',test_labels[i])"
   ]
  },
  {
   "cell_type": "code",
   "execution_count": null,
   "metadata": {
    "id": "UyMQXkAoO-Zq"
   },
   "outputs": [],
   "source": [
    "from sklearn.preprocessing import KBinsDiscretizer\n",
    "est = KBinsDiscretizer(n_bins=25, encode='ordinal', strategy='uniform')\n",
    "\n",
    "x_train_binned = est.fit_transform(train_feats_n)\n",
    "x_val_binned = est.transform(val_feats_n)\n",
    "x_test_binned = est.transform(test_feats_n)"
   ]
  },
  {
   "cell_type": "code",
   "execution_count": null,
   "metadata": {
    "id": "KN6Vk5x699S1"
   },
   "outputs": [],
   "source": [
    "def allocat_label(counts):\n",
    "  dict_len_counts = {'50':0,'50-100':0,'100-150':0,'150-200':0,'200-250':0,'250-300':0,'300-350':0,'350-400':0,'400+':0}\n",
    "  arr_labels = []\n",
    "  for index,i in enumerate(counts):\n",
    "    if i <=50:\n",
    "      dict_len_counts['50'] += 1\n",
    "      arr_labels.append(0)\n",
    "    elif i>50 and i<=100:\n",
    "      dict_len_counts['50-100'] += 1\n",
    "      arr_labels.append(0)\n",
    "    elif i>100 and i<=150:\n",
    "      dict_len_counts['100-150'] += 1\n",
    "      arr_labels.append(1)\n",
    "    elif i>150 and i<=200:\n",
    "      dict_len_counts['150-200'] += 1\n",
    "      arr_labels.append(1)\n",
    "    elif i>200 and i<=250:\n",
    "      dict_len_counts['200-250'] += 1\n",
    "      arr_labels.append(2)\n",
    "    elif i>250 and i<=300:\n",
    "      dict_len_counts['250-300'] += 1\n",
    "      arr_labels.append(2)\n",
    "    elif i>300 and i<=350:\n",
    "      dict_len_counts['300-350'] += 1\n",
    "      arr_labels.append(3)\n",
    "    elif i>350 and i<=400:\n",
    "      dict_len_counts['350-400'] += 1\n",
    "      arr_labels.append(3)\n",
    "    elif i>400:\n",
    "      dict_len_counts['400+'] += 1\n",
    "      arr_labels.append(3)\n",
    "  return arr_labels"
   ]
  },
  {
   "cell_type": "code",
   "execution_count": null,
   "metadata": {
    "colab": {
     "base_uri": "https://localhost:8080/"
    },
    "executionInfo": {
     "elapsed": 303,
     "status": "ok",
     "timestamp": 1660772950131,
     "user": {
      "displayName": "Deepak Rastogi",
      "userId": "00835676360645435652"
     },
     "user_tz": -120
    },
    "id": "3cJdOB4cSbXM",
    "outputId": "a495c717-c46d-4e84-a755-31cc6adfc633"
   },
   "outputs": [
    {
     "data": {
      "text/plain": [
       "array([1., 0., 0., 0.])"
      ]
     },
     "execution_count": 25,
     "metadata": {},
     "output_type": "execute_result"
    }
   ],
   "source": [
    "arr_labels_np = np.array(allocat_label(train_labels))\n",
    "one_hot_train_labels = np.zeros((arr_labels_np.size, arr_labels_np.max()+1))\n",
    "one_hot_train_labels[np.arange(arr_labels_np.size),arr_labels_np] = 1\n",
    "one_hot_train_labels[0]"
   ]
  },
  {
   "cell_type": "code",
   "execution_count": null,
   "metadata": {
    "colab": {
     "base_uri": "https://localhost:8080/"
    },
    "executionInfo": {
     "elapsed": 8,
     "status": "ok",
     "timestamp": 1660772951954,
     "user": {
      "displayName": "Deepak Rastogi",
      "userId": "00835676360645435652"
     },
     "user_tz": -120
    },
    "id": "bGlWyCwW5p_F",
    "outputId": "8f08e3af-d2c3-4e7a-bf7c-bae04cfeca2d"
   },
   "outputs": [
    {
     "data": {
      "text/plain": [
       "tensor([1., 0., 0., 0.])"
      ]
     },
     "execution_count": 26,
     "metadata": {},
     "output_type": "execute_result"
    }
   ],
   "source": [
    "val_labels_np = np.array(allocat_label(val_labels))\n",
    "one_hot_val_labels = np.zeros((val_labels_np.size, val_labels_np.max()+1))\n",
    "one_hot_val_labels[np.arange(val_labels_np.size),val_labels_np] = 1\n",
    "y_val = torch.tensor(one_hot_val_labels,dtype=torch.float32)\n",
    "y_val[0]"
   ]
  },
  {
   "cell_type": "code",
   "execution_count": null,
   "metadata": {
    "colab": {
     "base_uri": "https://localhost:8080/"
    },
    "executionInfo": {
     "elapsed": 6,
     "status": "ok",
     "timestamp": 1660772955242,
     "user": {
      "displayName": "Deepak Rastogi",
      "userId": "00835676360645435652"
     },
     "user_tz": -120
    },
    "id": "tdNUPkos-NjF",
    "outputId": "4ce309ac-8737-4e1b-b2c9-9cab83f6a968"
   },
   "outputs": [
    {
     "data": {
      "text/plain": [
       "tensor([0., 1., 0., 0.])"
      ]
     },
     "execution_count": 27,
     "metadata": {},
     "output_type": "execute_result"
    }
   ],
   "source": [
    "test_labels_np = np.array(allocat_label(test_labels))\n",
    "one_hot_test_labels = np.zeros((test_labels_np.size, test_labels_np.max()+1))\n",
    "one_hot_test_labels[np.arange(test_labels_np.size),test_labels_np] = 1\n",
    "y_test = torch.tensor(one_hot_test_labels,dtype=torch.float32)\n",
    "y_test[0]"
   ]
  },
  {
   "cell_type": "code",
   "execution_count": null,
   "metadata": {
    "colab": {
     "base_uri": "https://localhost:8080/"
    },
    "executionInfo": {
     "elapsed": 294,
     "status": "ok",
     "timestamp": 1660772959253,
     "user": {
      "displayName": "Deepak Rastogi",
      "userId": "00835676360645435652"
     },
     "user_tz": -120
    },
    "id": "n1pEtw4ybazV",
    "outputId": "8b43bcd8-c046-4814-925f-093325dd3032"
   },
   "outputs": [
    {
     "data": {
      "text/plain": [
       "(10790, 70)"
      ]
     },
     "execution_count": 28,
     "metadata": {},
     "output_type": "execute_result"
    }
   ],
   "source": [
    "train_feats_selected_len.shape"
   ]
  },
  {
   "cell_type": "code",
   "execution_count": null,
   "metadata": {
    "id": "ogQLMwknOLA7"
   },
   "outputs": [],
   "source": [
    "from sklearn.pipeline import make_pipeline\n",
    "from sklearn.tree import DecisionTreeClassifier\n",
    "from sklearn.ensemble import RandomForestClassifier\n",
    "from sklearn.feature_selection import SelectKBest, chi2\n",
    "from sklearn.svm import SVC"
   ]
  },
  {
   "cell_type": "code",
   "execution_count": null,
   "metadata": {
    "colab": {
     "base_uri": "https://localhost:8080/"
    },
    "executionInfo": {
     "elapsed": 4048,
     "status": "ok",
     "timestamp": 1660773943234,
     "user": {
      "displayName": "Deepak Rastogi",
      "userId": "00835676360645435652"
     },
     "user_tz": -120
    },
    "id": "TXqs-_840w0o",
    "outputId": "513977f9-5cc4-4e20-d42a-a12d4ab121f9"
   },
   "outputs": [
    {
     "name": "stdout",
     "output_type": "stream",
     "text": [
      "0.6258169934640523\n"
     ]
    }
   ],
   "source": [
    "pipeline = make_pipeline(SelectKBest(chi2, k=56),StandardScaler(), RandomForestClassifier(max_depth=36, random_state=0))\n",
    "pipeline.fit(train_feats_selected_len, allocat_label(train_labels_selected_len))\n",
    "y_pred = pipeline.predict(test_feats_selected_len)\n",
    "score = accuracy_score(allocat_label(test_labels_selected_len),y_pred)\n",
    "print(score)"
   ]
  },
  {
   "cell_type": "code",
   "execution_count": null,
   "metadata": {
    "id": "a95RL2OJ0wNh"
   },
   "outputs": [],
   "source": [
    "from sklearn.metrics import precision_score,recall_score,classification_report,f1_score"
   ]
  },
  {
   "cell_type": "code",
   "execution_count": null,
   "metadata": {
    "colab": {
     "base_uri": "https://localhost:8080/"
    },
    "executionInfo": {
     "elapsed": 9,
     "status": "ok",
     "timestamp": 1660776208705,
     "user": {
      "displayName": "Deepak Rastogi",
      "userId": "00835676360645435652"
     },
     "user_tz": -120
    },
    "id": "g9qmsNHQOSsq",
    "outputId": "f9825671-b122-4ae7-b2ff-f5ce8d9c5f46"
   },
   "outputs": [
    {
     "data": {
      "text/plain": [
       "0.6184507097314178"
      ]
     },
     "execution_count": 147,
     "metadata": {},
     "output_type": "execute_result"
    }
   ],
   "source": [
    "precision_score(allocat_label(test_labels_selected_len),y_pred,average='weighted')"
   ]
  },
  {
   "cell_type": "code",
   "execution_count": null,
   "metadata": {
    "colab": {
     "base_uri": "https://localhost:8080/"
    },
    "executionInfo": {
     "elapsed": 274,
     "status": "ok",
     "timestamp": 1660776233908,
     "user": {
      "displayName": "Deepak Rastogi",
      "userId": "00835676360645435652"
     },
     "user_tz": -120
    },
    "id": "9xoGDdYBwieT",
    "outputId": "a3fd1b2d-498f-4a39-f1b0-ba609a3626e1"
   },
   "outputs": [
    {
     "data": {
      "text/plain": [
       "0.6176470588235294"
      ]
     },
     "execution_count": 149,
     "metadata": {},
     "output_type": "execute_result"
    }
   ],
   "source": [
    "recall_score(allocat_label(test_labels_selected_len),y_pred,average='weighted')"
   ]
  },
  {
   "cell_type": "code",
   "execution_count": null,
   "metadata": {
    "colab": {
     "base_uri": "https://localhost:8080/"
    },
    "executionInfo": {
     "elapsed": 7,
     "status": "ok",
     "timestamp": 1660776229664,
     "user": {
      "displayName": "Deepak Rastogi",
      "userId": "00835676360645435652"
     },
     "user_tz": -120
    },
    "id": "zAnv6-twyaCc",
    "outputId": "1c2172b2-b5fe-421c-e666-d336f067c77f"
   },
   "outputs": [
    {
     "data": {
      "text/plain": [
       "0.618022688002404"
      ]
     },
     "execution_count": 148,
     "metadata": {},
     "output_type": "execute_result"
    }
   ],
   "source": [
    "f1_score(allocat_label(test_labels_selected_len),y_pred,average='weighted')"
   ]
  },
  {
   "cell_type": "code",
   "execution_count": null,
   "metadata": {
    "colab": {
     "base_uri": "https://localhost:8080/"
    },
    "executionInfo": {
     "elapsed": 343,
     "status": "ok",
     "timestamp": 1660775745859,
     "user": {
      "displayName": "Deepak Rastogi",
      "userId": "00835676360645435652"
     },
     "user_tz": -120
    },
    "id": "3fSPOW6hyZ_U",
    "outputId": "28a59c54-4173-456d-e609-6b5769f91228"
   },
   "outputs": [
    {
     "name": "stdout",
     "output_type": "stream",
     "text": [
      "              precision    recall  f1-score   support\n",
      "\n",
      "           0       0.55      0.56      0.55       259\n",
      "           1       0.67      0.66      0.67       353\n",
      "\n",
      "    accuracy                           0.62       612\n",
      "   macro avg       0.61      0.61      0.61       612\n",
      "weighted avg       0.62      0.62      0.62       612\n",
      "\n"
     ]
    }
   ],
   "source": [
    "print(classification_report(allocat_label(test_labels_selected_len),y_pred))"
   ]
  },
  {
   "cell_type": "code",
   "execution_count": null,
   "metadata": {
    "id": "sN0z0bLIyZ8b"
   },
   "outputs": [],
   "source": [
    "from xgboost import XGBClassifier"
   ]
  },
  {
   "cell_type": "code",
   "execution_count": null,
   "metadata": {
    "colab": {
     "base_uri": "https://localhost:8080/"
    },
    "executionInfo": {
     "elapsed": 1792,
     "status": "ok",
     "timestamp": 1660775855551,
     "user": {
      "displayName": "Deepak Rastogi",
      "userId": "00835676360645435652"
     },
     "user_tz": -120
    },
    "id": "mypyssZ1yZ5C",
    "outputId": "c4a7aa67-7ac3-423a-ade4-28325591218a"
   },
   "outputs": [
    {
     "name": "stdout",
     "output_type": "stream",
     "text": [
      "0.6176470588235294 0.670487106017192 0.6628895184135978 0.6666666666666667\n"
     ]
    }
   ],
   "source": [
    "pipeline = make_pipeline(SelectKBest(chi2, k=56),StandardScaler(), XGBClassifier(max_depth=2,learning_rate=0.08,colsample_bytree=0.4))\n",
    "pipeline.fit(train_feats_selected_len, allocat_label(train_labels_selected_len))\n",
    "y_pred = pipeline.predict(test_feats_selected_len)\n",
    "test_lab_true = allocat_label(test_labels_selected_len)\n",
    "score = accuracy_score(test_lab_true,y_pred)\n",
    "precision = precision_score(test_lab_true,y_pred)\n",
    "recall = recall_score(test_lab_true,y_pred)\n",
    "f1 = f1_score(test_lab_true,y_pred)\n",
    "print(score,precision,recall,f1)"
   ]
  },
  {
   "cell_type": "code",
   "execution_count": null,
   "metadata": {
    "id": "lq4rrAMzyZ2l"
   },
   "outputs": [],
   "source": []
  },
  {
   "cell_type": "code",
   "execution_count": null,
   "metadata": {
    "id": "RmpSBlFLyZzA"
   },
   "outputs": [],
   "source": []
  },
  {
   "cell_type": "code",
   "execution_count": null,
   "metadata": {
    "id": "iO2ea2p3yZvJ"
   },
   "outputs": [],
   "source": []
  },
  {
   "cell_type": "code",
   "execution_count": null,
   "metadata": {
    "id": "7aPtJ1mHyZq3"
   },
   "outputs": [],
   "source": []
  },
  {
   "cell_type": "code",
   "execution_count": null,
   "metadata": {
    "id": "7-bPkC0SyZnC"
   },
   "outputs": [],
   "source": []
  },
  {
   "cell_type": "code",
   "execution_count": null,
   "metadata": {
    "colab": {
     "base_uri": "https://localhost:8080/",
     "height": 557
    },
    "executionInfo": {
     "elapsed": 833,
     "status": "ok",
     "timestamp": 1660775984590,
     "user": {
      "displayName": "Deepak Rastogi",
      "userId": "00835676360645435652"
     },
     "user_tz": -120
    },
    "id": "m0M84WNLOSmL",
    "outputId": "f03229e5-bcde-4510-a22f-77aafb25c698"
   },
   "outputs": [
    {
     "data": {
      "image/png": "[encoded data removed]",
      "text/plain": [
       "<Figure size 864x576 with 2 Axes>"
      ]
     },
     "metadata": {},
     "output_type": "display_data"
    }
   ],
   "source": [
    "from sklearn.metrics import confusion_matrix\n",
    "import seaborn as sns\n",
    "plt.figure(figsize=(12,8))\n",
    "ax= plt.subplot()\n",
    "sns.heatmap(confusion_matrix(allocat_label(test_labels_selected_len),y_pred), annot=True, ax = ax,fmt='g',cmap='PuBuGn'); #annot=True to annotate cells\n",
    "sns.set(font_scale=1.4)\n",
    "# labels, title and ticks\n",
    "ax.set_xlabel('Predicted labels').set_fontsize('18')\n",
    "ax.set_ylabel('True labels').set_fontsize('18')\n",
    "ax.set_title('Confusion Matrix - Coarse-grained Classification',pad = 30).set_fontsize('20')\n",
    "#ax.xaxis.set_ticklabels(['Gramm. Correct','Gramm. Incorrect'],rotation=0)\n",
    "#ax.yaxis.set_ticklabels(['Gramm. Correct','Gramm. Incorrect'],rotation=0)\n",
    "#plt.savefig('cm.png',bbox_inches='tight')"
   ]
  },
  {
   "cell_type": "code",
   "execution_count": null,
   "metadata": {
    "id": "DtCaMGOyOSiv"
   },
   "outputs": [],
   "source": []
  },
  {
   "cell_type": "markdown",
   "metadata": {
    "id": "tmqchhlqOSe8"
   },
   "source": [
    "#### Deep Learning method"
   ]
  },
  {
   "cell_type": "code",
   "execution_count": null,
   "metadata": {
    "colab": {
     "base_uri": "https://localhost:8080/"
    },
    "executionInfo": {
     "elapsed": 351,
     "status": "ok",
     "timestamp": 1656674539193,
     "user": {
      "displayName": "Deepak Rastogi",
      "userId": "00835676360645435652"
     },
     "user_tz": -120
    },
    "id": "ZWauVJNxJ8hz",
    "outputId": "8d1145c5-e5f8-410a-cf53-6470eb63d56d"
   },
   "outputs": [
    {
     "name": "stdout",
     "output_type": "stream",
     "text": [
      "GPU: Tesla T4\n"
     ]
    }
   ],
   "source": [
    "# If there's a GPU available...\n",
    "if torch.cuda.is_available():    \n",
    "\n",
    "    # Tell PyTorch to use the GPU.    \n",
    "    device = torch.device(\"cuda\")\n",
    "    print('GPU:', torch.cuda.get_device_name(0))\n",
    "else:\n",
    "    print('No GPU available, using CPU instead.')\n",
    "    device = torch.device(\"cpu\")"
   ]
  },
  {
   "cell_type": "code",
   "execution_count": null,
   "metadata": {
    "id": "4PAPWO5382ZS"
   },
   "outputs": [],
   "source": [
    "X_train = torch.tensor(x_train_binned,dtype=torch.float32)\n",
    "y_train = torch.tensor(one_hot_train_labels,dtype=torch.float32)"
   ]
  },
  {
   "cell_type": "code",
   "execution_count": null,
   "metadata": {
    "colab": {
     "base_uri": "https://localhost:8080/"
    },
    "executionInfo": {
     "elapsed": 5,
     "status": "ok",
     "timestamp": 1656674542096,
     "user": {
      "displayName": "Deepak Rastogi",
      "userId": "00835676360645435652"
     },
     "user_tz": -120
    },
    "id": "Zjxvt2SzhlKL",
    "outputId": "12c46d47-55cc-4620-f65a-ef1c1be5aa72"
   },
   "outputs": [
    {
     "data": {
      "text/plain": [
       "tensor([ 2.,  9., 12.,  3.,  2.,  1.,  0.,  0.,  0.,  0.,  0.,  4., 24., 17.,\n",
       "         7.,  4., 11.,  6.,  7.,  5.,  3.,  0.,  0.,  2., 24., 17.,  3.,  0.,\n",
       "         3.,  0.,  4.,  0.,  0.,  0.,  4.,  3.,  3.,  0.,  0.,  0.,  6.,  0.,\n",
       "         0.,  0.,  0.,  0.,  3.,  0.,  0.,  0.,  4., 17.,  0.,  1.,  0.,  1.,\n",
       "         3.,  3.,  0.,  0.,  0.,  3.,  0.,  0.,  0.,  0.,  0.,  3.,  0.,  0.])"
      ]
     },
     "execution_count": 199,
     "metadata": {},
     "output_type": "execute_result"
    }
   ],
   "source": [
    "X_train[0]"
   ]
  },
  {
   "cell_type": "code",
   "execution_count": null,
   "metadata": {
    "id": "WacDQbAnC2cj"
   },
   "outputs": [],
   "source": [
    "class VerbosityModel(nn.Module):\n",
    "  def __init__(self) -> None:\n",
    "      super().__init__()\n",
    "      self.linear1 = nn.Linear(in_features=70, out_features=14, bias=True)\n",
    "      self.linear2 = nn.Linear(in_features=14, out_features=10, bias=True)\n",
    "      self.linear3 = nn.Linear(in_features=10, out_features=2, bias=True)\n",
    "      self.dropout = nn.Dropout(0.2)\n",
    "      self.sigmoid = nn.Sigmoid()\n",
    "  def forward(self,input):\n",
    "    out_lin1 = torch.relu(self.linear1(input))\n",
    "    out_lin2 = torch.relu(self.linear2(out_lin1))\n",
    "    out_lin3 = torch.relu(self.linear3(out_lin2))\n",
    "    output = self.sigmoid(out_lin3)\n",
    "    return output"
   ]
  },
  {
   "cell_type": "code",
   "execution_count": null,
   "metadata": {
    "id": "VwzGg_vyJN2W"
   },
   "outputs": [],
   "source": [
    "class RMSLELoss(nn.Module):\n",
    "    def __init__(self):\n",
    "        super().__init__()\n",
    "        self.mse = nn.MSELoss()\n",
    "        \n",
    "    def forward(self, pred, actual):\n",
    "        return torch.sqrt(self.mse(torch.log(pred + 1), torch.log(actual + 1)))"
   ]
  },
  {
   "cell_type": "code",
   "execution_count": null,
   "metadata": {
    "id": "loxCyiEp4gkJ"
   },
   "outputs": [],
   "source": [
    "#Val feats\n",
    "#val_feats_norm = scaler.transform(selector.transform(val_feats))\n",
    "X_val = torch.tensor(x_val_binned,dtype=torch.float32)\n",
    "X_test = torch.tensor(x_test_binned,dtype=torch.float32)"
   ]
  },
  {
   "cell_type": "code",
   "execution_count": null,
   "metadata": {
    "colab": {
     "base_uri": "https://localhost:8080/"
    },
    "executionInfo": {
     "elapsed": 6,
     "status": "ok",
     "timestamp": 1656586019125,
     "user": {
      "displayName": "Deepak Rastogi",
      "userId": "00835676360645435652"
     },
     "user_tz": -120
    },
    "id": "KeHB79IhF_ja",
    "outputId": "b74aff35-c1ac-44da-c2fd-9a7238381bc7"
   },
   "outputs": [
    {
     "data": {
      "text/plain": [
       "tensor([0., 1.])"
      ]
     },
     "execution_count": 91,
     "metadata": {},
     "output_type": "execute_result"
    }
   ],
   "source": []
  },
  {
   "cell_type": "code",
   "execution_count": null,
   "metadata": {
    "id": "-NFYvut24ggw"
   },
   "outputs": [],
   "source": [
    "from torch.utils.data import TensorDataset\n",
    "train_dataset = TensorDataset(X_train, y_train)\n",
    "val_dataset = TensorDataset(X_val, y_val)\n",
    "test_dataset = TensorDataset(X_test, y_test)"
   ]
  },
  {
   "cell_type": "code",
   "execution_count": null,
   "metadata": {
    "id": "vE-xEdQL4gdw"
   },
   "outputs": [],
   "source": [
    "from torch.utils.data import DataLoader, RandomSampler, SequentialSampler\n",
    "batch_size = 16\n",
    "\n",
    "train_dataloader = DataLoader(\n",
    "            train_dataset,  # The training samples.\n",
    "            sampler = RandomSampler(train_dataset), # Select batches randomly\n",
    "            batch_size = batch_size # Trains with this batch size.\n",
    "        )\n",
    "\n",
    "validation_dataloader = DataLoader(\n",
    "            val_dataset, # The validation samples.\n",
    "            sampler = SequentialSampler(val_dataset), # Pull out batches sequentially.\n",
    "            batch_size = batch_size # Evaluate with this batch size.\n",
    "        )"
   ]
  },
  {
   "cell_type": "code",
   "execution_count": null,
   "metadata": {
    "id": "BHa9oDZi4gWs"
   },
   "outputs": [],
   "source": []
  },
  {
   "cell_type": "code",
   "execution_count": null,
   "metadata": {
    "id": "sj_xDOzC4gSw"
   },
   "outputs": [],
   "source": [
    "\n"
   ]
  },
  {
   "cell_type": "code",
   "execution_count": null,
   "metadata": {
    "id": "6ZwLlcuBmsO_"
   },
   "outputs": [],
   "source": [
    "from sklearn.metrics import confusion_matrix\n",
    "import seaborn as sns"
   ]
  },
  {
   "cell_type": "code",
   "execution_count": null,
   "metadata": {
    "colab": {
     "base_uri": "https://localhost:8080/",
     "height": 550
    },
    "executionInfo": {
     "elapsed": 343,
     "status": "ok",
     "timestamp": 1656674924572,
     "user": {
      "displayName": "Deepak Rastogi",
      "userId": "00835676360645435652"
     },
     "user_tz": -120
    },
    "id": "kl__sbViB6CU",
    "outputId": "c1119ba1-f8de-4838-8c81-55f789d3b10c"
   },
   "outputs": [
    {
     "data": {
      "image/png": "[encoded data removed]",
      "text/plain": [
       "<Figure size 864x576 with 2 Axes>"
      ]
     },
     "metadata": {},
     "output_type": "display_data"
    }
   ],
   "source": [
    "plt.figure(figsize=(12,8))\n",
    "ax= plt.subplot()\n",
    "sns.heatmap(confusion_matrix(test_labels_np,y_pred), annot=True, ax = ax,fmt='g',cmap='PuBuGn'); #annot=True to annotate cells\n",
    "sns.set(font_scale=1.4)\n",
    "# labels, title and ticks\n",
    "ax.set_xlabel('Predicted labels').set_fontsize('18')\n",
    "ax.set_ylabel('True labels').set_fontsize('18')\n",
    "ax.set_title('Confusion Matrix - Coarse-grained Classification',pad = 30).set_fontsize('20')\n",
    "#ax.xaxis.set_ticklabels(['Gramm. Correct','Gramm. Incorrect'],rotation=0)\n",
    "#ax.yaxis.set_ticklabels(['Gramm. Correct','Gramm. Incorrect'],rotation=0)\n",
    "#plt.savefig('cm.png',bbox_inches='tight')"
   ]
  },
  {
   "cell_type": "code",
   "execution_count": null,
   "metadata": {
    "id": "zo56MgVXlLp0"
   },
   "outputs": [],
   "source": [
    "from sklearn.linear_model import SGDRegressor\n",
    "from sklearn.feature_selection import SelectKBest, chi2,f_regression\n",
    "from sklearn.svm import SVR"
   ]
  },
  {
   "cell_type": "code",
   "execution_count": null,
   "metadata": {
    "id": "lfMYrOEH2HC4"
   },
   "outputs": [],
   "source": [
    "def identify_columns_with_zero(feats):\n",
    "  cols_with_zero = []\n",
    "  for i in range(feats.shape[1]):\n",
    "      values = feats[:,i]\n",
    "      if np.min(values) == 0 and np.max(values) == 0:\n",
    "        cols_with_zero.append(i)\n",
    "  return cols_with_zero"
   ]
  },
  {
   "cell_type": "code",
   "execution_count": null,
   "metadata": {
    "id": "h5hcwMHT2HC5"
   },
   "outputs": [],
   "source": [
    "column_with_zeros_indexes = identify_columns_with_zero(train_feats)\n",
    "train_feats_n = np.delete(train_feats, column_with_zeros_indexes, axis=1)\n",
    "val_feats_n = np.delete(val_feats, column_with_zeros_indexes, axis=1)\n",
    "test_feats_n = np.delete(test_feats, column_with_zeros_indexes, axis=1)"
   ]
  },
  {
   "cell_type": "code",
   "execution_count": null,
   "metadata": {
    "id": "fwn_FFo42HC6"
   },
   "outputs": [],
   "source": [
    "train_labels_np = np.array(train_labels)\n",
    "indexes_of_below_hund = np.where(train_labels_np < 150)[0]\n",
    "train_feats_selected_len = train_feats_n[indexes_of_below_hund]\n",
    "train_labels_selected_len = train_labels_np[indexes_of_below_hund]"
   ]
  },
  {
   "cell_type": "code",
   "execution_count": null,
   "metadata": {
    "colab": {
     "background_save": true,
     "base_uri": "https://localhost:8080/"
    },
    "id": "TeGgO8crx6ZT",
    "outputId": "06ece52f-9d75-42df-eaf5-b1c51eafee3f"
   },
   "outputs": [
    {
     "name": "stdout",
     "output_type": "stream",
     "text": [
      "1 :  0.001627953665712445 0.009726333178773805\n",
      "2 :  0.009830871888323989 0.007007169786487855\n",
      "3 :  0.010155990292029515 0.006844879415463079\n",
      "4 :  0.01801489538276535 0.0025159953947793134\n",
      "5 :  0.018030805670093297 0.009390487999533015\n",
      "6 :  0.019943479101534045 0.014328423921205702\n",
      "7 :  0.026490790895566718 -0.005104235025314541\n",
      "8 :  0.031001196837479483 -0.02391120346029152\n",
      "9 :  0.037143200007989874 -0.013535506898509908\n",
      "10 :  0.03772635759993037 -0.016620438817731564\n",
      "11 :  0.04229200583613568 -0.01379080287751644\n",
      "12 :  0.04280543658340408 -0.01269701030460113\n",
      "13 :  0.04272573230429999 -0.009709670152665328\n",
      "14 :  0.04282622069022679 -0.007340192069908991\n",
      "15 :  0.04851280166853045 -0.008609969241616389\n",
      "16 :  0.04764984458138899 -0.007525270200327894\n",
      "17 :  0.05114856831889314 -0.013206811610143587\n",
      "18 :  0.05376390710490686 -0.011297332757471912\n",
      "19 :  0.05383924496754788 -0.010188196438234431\n",
      "20 :  0.05366280718430971 -0.005161577858080912\n",
      "21 :  0.054934989556407965 -0.0019059291335323802\n",
      "22 :  0.05585401567450998 -0.002834266369307059\n",
      "23 :  0.05782418104929832 -0.00455195485894011\n",
      "24 :  0.057826551338388765 -0.004038134800288917\n",
      "25 :  0.057631032457972076 -0.003916219048669678\n",
      "26 :  0.057604660199054636 -0.002958482965240705\n",
      "27 :  0.05801999863312213 -0.0031004358712551916\n",
      "28 :  0.058996295406887556 -0.0012435046668708427\n",
      "29 :  0.05781846071264041 -0.0018490465963225677\n",
      "30 :  0.059667541597322016 -0.0011203704160074324\n",
      "31 :  0.06690884921983753 -0.00103469347998697\n",
      "32 :  0.06705206884154358 -0.0013211240527328805\n",
      "33 :  0.06616468373628137 -0.0019478471404406061\n",
      "34 :  0.06684112263034492 -0.0019280769764389305\n",
      "35 :  0.06971291945865299 -0.0026305522856178154\n",
      "36 :  0.06993313526969158 -0.0023025988035312306\n",
      "37 :  0.07112191124176326 -0.0014794718092916437\n",
      "38 :  0.0707020054768861 -0.00162619398760655\n",
      "39 :  0.07032988030438747 -0.0012931121734873763\n",
      "40 :  0.07073498860371719 -0.002630168842851166\n",
      "41 :  0.07239613971389036 -0.0016732450483931682\n",
      "42 :  0.0721615820303968 -0.0013290359198718793\n",
      "43 :  0.07215083731345617 -0.0009686626165894552\n",
      "44 :  0.07198269350904285 -0.000604102611258206\n",
      "45 :  0.0709004529363545 -0.001043902791481921\n",
      "46 :  0.07037433283654215 -0.0011826887243999717\n",
      "47 :  0.07268397802115589 -0.0015546216627879694\n",
      "48 :  0.07476630040745424 -0.000798096906370116\n",
      "49 :  0.0748603306657728 -0.0010503927451748218\n",
      "50 :  0.07585854509435519 -0.001437377766888126\n",
      "51 :  0.07568489261316969 -0.0011311295566931445\n",
      "52 :  0.07513536635765372 -0.0008704974243098906\n",
      "53 :  0.07535156119723674 -0.0008583035071070277\n",
      "54 :  0.07514694413332346 -0.001236900083754433\n",
      "55 :  0.07500838752402283 -0.0011626213382252004\n",
      "56 :  0.0748045617978339 -0.0005001182301349605\n",
      "57 :  0.07467015583578684 -0.0007413897750840892\n",
      "58 :  0.07443264064609434 -0.00045126477349310967\n",
      "59 :  0.07425825605093517 -0.0003103392000842753\n",
      "60 :  0.07405196405948833 -0.0002871709392775479\n",
      "61 :  0.07386735313849613 -0.0002793392089981417\n"
     ]
    },
    {
     "ename": "KeyboardInterrupt",
     "evalue": "ignored",
     "output_type": "error",
     "traceback": [
      "\u001b[0;31m---------------------------------------------------------------------------\u001b[0m",
      "\u001b[0;31mKeyboardInterrupt\u001b[0m                         Traceback (most recent call last)",
      "\u001b[0;32m<ipython-input-12-6958e9f15c88>\u001b[0m in \u001b[0;36m<module>\u001b[0;34m()\u001b[0m\n\u001b[1;32m     13\u001b[0m   \u001b[0mreg\u001b[0m \u001b[0;34m=\u001b[0m \u001b[0mSVR\u001b[0m\u001b[0;34m(\u001b[0m\u001b[0mkernel\u001b[0m \u001b[0;34m=\u001b[0m \u001b[0;34m'rbf'\u001b[0m\u001b[0;34m,\u001b[0m\u001b[0mC\u001b[0m\u001b[0;34m=\u001b[0m\u001b[0;36m1.0\u001b[0m\u001b[0;34m,\u001b[0m \u001b[0mepsilon\u001b[0m\u001b[0;34m=\u001b[0m\u001b[0;36m0.2\u001b[0m\u001b[0;34m)\u001b[0m\u001b[0;34m\u001b[0m\u001b[0;34m\u001b[0m\u001b[0m\n\u001b[1;32m     14\u001b[0m   \u001b[0mreg\u001b[0m\u001b[0;34m.\u001b[0m\u001b[0mfit\u001b[0m\u001b[0;34m(\u001b[0m\u001b[0mx_train_selected\u001b[0m\u001b[0;34m,\u001b[0m\u001b[0mtrain_labels\u001b[0m\u001b[0;34m)\u001b[0m\u001b[0;34m\u001b[0m\u001b[0;34m\u001b[0m\u001b[0m\n\u001b[0;32m---> 15\u001b[0;31m   \u001b[0mprint\u001b[0m\u001b[0;34m(\u001b[0m\u001b[0mi\u001b[0m\u001b[0;34m,\u001b[0m\u001b[0;34m': '\u001b[0m\u001b[0;34m,\u001b[0m\u001b[0mreg\u001b[0m\u001b[0;34m.\u001b[0m\u001b[0mscore\u001b[0m\u001b[0;34m(\u001b[0m\u001b[0mx_train_selected\u001b[0m\u001b[0;34m,\u001b[0m\u001b[0mtrain_labels\u001b[0m\u001b[0;34m)\u001b[0m\u001b[0;34m,\u001b[0m\u001b[0mreg\u001b[0m\u001b[0;34m.\u001b[0m\u001b[0mscore\u001b[0m\u001b[0;34m(\u001b[0m\u001b[0mx_test_selected\u001b[0m\u001b[0;34m,\u001b[0m\u001b[0mtest_labels\u001b[0m\u001b[0;34m)\u001b[0m\u001b[0;34m)\u001b[0m\u001b[0;34m\u001b[0m\u001b[0;34m\u001b[0m\u001b[0m\n\u001b[0m",
      "\u001b[0;32m/usr/local/lib/python3.7/dist-packages/sklearn/base.py\u001b[0m in \u001b[0;36mscore\u001b[0;34m(self, X, y, sample_weight)\u001b[0m\n\u001b[1;32m    703\u001b[0m         \u001b[0;32mfrom\u001b[0m \u001b[0;34m.\u001b[0m\u001b[0mmetrics\u001b[0m \u001b[0;32mimport\u001b[0m \u001b[0mr2_score\u001b[0m\u001b[0;34m\u001b[0m\u001b[0;34m\u001b[0m\u001b[0m\n\u001b[1;32m    704\u001b[0m \u001b[0;34m\u001b[0m\u001b[0m\n\u001b[0;32m--> 705\u001b[0;31m         \u001b[0my_pred\u001b[0m \u001b[0;34m=\u001b[0m \u001b[0mself\u001b[0m\u001b[0;34m.\u001b[0m\u001b[0mpredict\u001b[0m\u001b[0;34m(\u001b[0m\u001b[0mX\u001b[0m\u001b[0;34m)\u001b[0m\u001b[0;34m\u001b[0m\u001b[0;34m\u001b[0m\u001b[0m\n\u001b[0m\u001b[1;32m    706\u001b[0m         \u001b[0;32mreturn\u001b[0m \u001b[0mr2_score\u001b[0m\u001b[0;34m(\u001b[0m\u001b[0my\u001b[0m\u001b[0;34m,\u001b[0m \u001b[0my_pred\u001b[0m\u001b[0;34m,\u001b[0m \u001b[0msample_weight\u001b[0m\u001b[0;34m=\u001b[0m\u001b[0msample_weight\u001b[0m\u001b[0;34m)\u001b[0m\u001b[0;34m\u001b[0m\u001b[0;34m\u001b[0m\u001b[0m\n\u001b[1;32m    707\u001b[0m \u001b[0;34m\u001b[0m\u001b[0m\n",
      "\u001b[0;32m/usr/local/lib/python3.7/dist-packages/sklearn/svm/_base.py\u001b[0m in \u001b[0;36mpredict\u001b[0;34m(self, X)\u001b[0m\n\u001b[1;32m    414\u001b[0m         \u001b[0mX\u001b[0m \u001b[0;34m=\u001b[0m \u001b[0mself\u001b[0m\u001b[0;34m.\u001b[0m\u001b[0m_validate_for_predict\u001b[0m\u001b[0;34m(\u001b[0m\u001b[0mX\u001b[0m\u001b[0;34m)\u001b[0m\u001b[0;34m\u001b[0m\u001b[0;34m\u001b[0m\u001b[0m\n\u001b[1;32m    415\u001b[0m         \u001b[0mpredict\u001b[0m \u001b[0;34m=\u001b[0m \u001b[0mself\u001b[0m\u001b[0;34m.\u001b[0m\u001b[0m_sparse_predict\u001b[0m \u001b[0;32mif\u001b[0m \u001b[0mself\u001b[0m\u001b[0;34m.\u001b[0m\u001b[0m_sparse\u001b[0m \u001b[0;32melse\u001b[0m \u001b[0mself\u001b[0m\u001b[0;34m.\u001b[0m\u001b[0m_dense_predict\u001b[0m\u001b[0;34m\u001b[0m\u001b[0;34m\u001b[0m\u001b[0m\n\u001b[0;32m--> 416\u001b[0;31m         \u001b[0;32mreturn\u001b[0m \u001b[0mpredict\u001b[0m\u001b[0;34m(\u001b[0m\u001b[0mX\u001b[0m\u001b[0;34m)\u001b[0m\u001b[0;34m\u001b[0m\u001b[0;34m\u001b[0m\u001b[0m\n\u001b[0m\u001b[1;32m    417\u001b[0m \u001b[0;34m\u001b[0m\u001b[0m\n\u001b[1;32m    418\u001b[0m     \u001b[0;32mdef\u001b[0m \u001b[0m_dense_predict\u001b[0m\u001b[0;34m(\u001b[0m\u001b[0mself\u001b[0m\u001b[0;34m,\u001b[0m \u001b[0mX\u001b[0m\u001b[0;34m)\u001b[0m\u001b[0;34m:\u001b[0m\u001b[0;34m\u001b[0m\u001b[0;34m\u001b[0m\u001b[0m\n",
      "\u001b[0;32m/usr/local/lib/python3.7/dist-packages/sklearn/svm/_base.py\u001b[0m in \u001b[0;36m_dense_predict\u001b[0;34m(self, X)\u001b[0m\n\u001b[1;32m    447\u001b[0m             \u001b[0mcoef0\u001b[0m\u001b[0;34m=\u001b[0m\u001b[0mself\u001b[0m\u001b[0;34m.\u001b[0m\u001b[0mcoef0\u001b[0m\u001b[0;34m,\u001b[0m\u001b[0;34m\u001b[0m\u001b[0;34m\u001b[0m\u001b[0m\n\u001b[1;32m    448\u001b[0m             \u001b[0mgamma\u001b[0m\u001b[0;34m=\u001b[0m\u001b[0mself\u001b[0m\u001b[0;34m.\u001b[0m\u001b[0m_gamma\u001b[0m\u001b[0;34m,\u001b[0m\u001b[0;34m\u001b[0m\u001b[0;34m\u001b[0m\u001b[0m\n\u001b[0;32m--> 449\u001b[0;31m             \u001b[0mcache_size\u001b[0m\u001b[0;34m=\u001b[0m\u001b[0mself\u001b[0m\u001b[0;34m.\u001b[0m\u001b[0mcache_size\u001b[0m\u001b[0;34m,\u001b[0m\u001b[0;34m\u001b[0m\u001b[0;34m\u001b[0m\u001b[0m\n\u001b[0m\u001b[1;32m    450\u001b[0m         )\n\u001b[1;32m    451\u001b[0m \u001b[0;34m\u001b[0m\u001b[0m\n",
      "\u001b[0;31mKeyboardInterrupt\u001b[0m: "
     ]
    }
   ],
   "source": [
    "scaler = StandardScaler()\n",
    "x_train_norm = scaler.fit_transform(train_feats_n)\n",
    "x_test_norm = scaler.transform(test_feats_n)\n",
    "for i in range(1,70):\n",
    "\n",
    "  selector = SelectKBest(f_regression, k=i)\n",
    "  x_train_selected = selector.fit_transform(x_train_norm, train_labels)\n",
    "  x_test_selected = selector.transform(test_feats_n)\n",
    "\n",
    "  \n",
    "\n",
    "  #reg = SGDRegressor(max_iter=500, tol=1e-2)\n",
    "  reg = SVR(kernel = 'rbf',C=1.0, epsilon=0.2)\n",
    "  reg.fit(x_train_selected,train_labels)\n",
    "  print(i,': ',reg.score(x_train_selected,train_labels),reg.score(x_test_selected,test_labels))"
   ]
  },
  {
   "cell_type": "code",
   "execution_count": null,
   "metadata": {
    "colab": {
     "base_uri": "https://localhost:8080/"
    },
    "executionInfo": {
     "elapsed": 267,
     "status": "ok",
     "timestamp": 1656679173866,
     "user": {
      "displayName": "Deepak Rastogi",
      "userId": "00835676360645435652"
     },
     "user_tz": -120
    },
    "id": "XF7pYQ-4msGE",
    "outputId": "c4ef0209-3ba8-4dea-e7b8-61bc005f5a30"
   },
   "outputs": [
    {
     "data": {
      "text/plain": [
       "0.0896113600750863"
      ]
     },
     "execution_count": 28,
     "metadata": {},
     "output_type": "execute_result"
    }
   ],
   "source": []
  },
  {
   "cell_type": "code",
   "execution_count": null,
   "metadata": {
    "id": "lOG5ESKcdazL"
   },
   "outputs": [],
   "source": [
    "y_pred = reg.predict(x_test_norm)"
   ]
  },
  {
   "cell_type": "code",
   "execution_count": null,
   "metadata": {
    "colab": {
     "base_uri": "https://localhost:8080/"
    },
    "executionInfo": {
     "elapsed": 5,
     "status": "ok",
     "timestamp": 1656679176687,
     "user": {
      "displayName": "Deepak Rastogi",
      "userId": "00835676360645435652"
     },
     "user_tz": -120
    },
    "id": "UO3FBBJsjWdy",
    "outputId": "5bead6fb-765e-4fe6-a48d-1a6892328af1"
   },
   "outputs": [
    {
     "data": {
      "text/plain": [
       "[83, 71, 183, 151, 60]"
      ]
     },
     "execution_count": 30,
     "metadata": {},
     "output_type": "execute_result"
    }
   ],
   "source": [
    "train_labels[:5]"
   ]
  },
  {
   "cell_type": "code",
   "execution_count": null,
   "metadata": {
    "colab": {
     "base_uri": "https://localhost:8080/"
    },
    "executionInfo": {
     "elapsed": 5,
     "status": "ok",
     "timestamp": 1656679086838,
     "user": {
      "displayName": "Deepak Rastogi",
      "userId": "00835676360645435652"
     },
     "user_tz": -120
    },
    "id": "SU9uBGwghhod",
    "outputId": "ab9d30b0-d69a-4160-999a-91dbaac66d70"
   },
   "outputs": [
    {
     "data": {
      "text/plain": [
       "array([68.55913296, 73.88770746, 63.13306621, 62.59913308, 87.96282314])"
      ]
     },
     "execution_count": 22,
     "metadata": {},
     "output_type": "execute_result"
    }
   ],
   "source": [
    "y_pred[:5]"
   ]
  },
  {
   "cell_type": "code",
   "execution_count": null,
   "metadata": {
    "colab": {
     "base_uri": "https://localhost:8080/"
    },
    "executionInfo": {
     "elapsed": 245,
     "status": "ok",
     "timestamp": 1656679040912,
     "user": {
      "displayName": "Deepak Rastogi",
      "userId": "00835676360645435652"
     },
     "user_tz": -120
    },
    "id": "S6IVhAP3hhkN",
    "outputId": "57926c97-495f-45ed-eab1-0e8a4e38bdb6"
   },
   "outputs": [
    {
     "data": {
      "text/plain": [
       "-0.2708893667137866"
      ]
     },
     "execution_count": 16,
     "metadata": {},
     "output_type": "execute_result"
    }
   ],
   "source": [
    "reg.score(x_test_norm,test_labels)"
   ]
  },
  {
   "cell_type": "code",
   "execution_count": null,
   "metadata": {
    "id": "daIRcXFdhhfT"
   },
   "outputs": [],
   "source": []
  },
  {
   "cell_type": "code",
   "execution_count": null,
   "metadata": {
    "id": "QgbvF83-hhYr"
   },
   "outputs": [],
   "source": []
  },
  {
   "cell_type": "code",
   "execution_count": null,
   "metadata": {
    "id": "EoD-WrMphhWD"
   },
   "outputs": [],
   "source": []
  },
  {
   "cell_type": "code",
   "execution_count": null,
   "metadata": {
    "id": "bu5s2D9NhhSk"
   },
   "outputs": [],
   "source": []
  },
  {
   "cell_type": "code",
   "execution_count": null,
   "metadata": {
    "id": "bv8gPwNN9O2G"
   },
   "outputs": [],
   "source": [
    "#model = torch.nn.Linear(in_features=87, out_features=1, bias=True)\n",
    "model = VerbosityModel()\n",
    "model.cuda()\n",
    "#loss = torch.nn.MSELoss()\n",
    "#loss = RMSLELoss()\n",
    "loss = nn.BCELoss()\n",
    "optimizer = torch.optim.Adam(model.parameters(), lr=0.0001)"
   ]
  },
  {
   "cell_type": "code",
   "execution_count": null,
   "metadata": {
    "colab": {
     "base_uri": "https://localhost:8080/",
     "height": 673
    },
    "executionInfo": {
     "elapsed": 19843,
     "status": "error",
     "timestamp": 1656674585384,
     "user": {
      "displayName": "Deepak Rastogi",
      "userId": "00835676360645435652"
     },
     "user_tz": -120
    },
    "id": "ejYYjg9z9xO0",
    "outputId": "3c9c5afa-46e4-4329-a5d5-1cb3358f9927"
   },
   "outputs": [
    {
     "name": "stdout",
     "output_type": "stream",
     "text": [
      "epoch [0], Loss: 0.69, Val_loss:0.69, accuracy:0.42 \n",
      "epoch [1], Loss: 0.69, Val_loss:0.69, accuracy:0.42 \n",
      "epoch [2], Loss: 0.69, Val_loss:0.69, accuracy:0.42 \n",
      "epoch [3], Loss: 0.69, Val_loss:0.69, accuracy:0.42 \n",
      "epoch [4], Loss: 0.69, Val_loss:0.69, accuracy:0.42 \n",
      "epoch [5], Loss: 0.69, Val_loss:0.69, accuracy:0.42 \n",
      "epoch [6], Loss: 0.69, Val_loss:0.69, accuracy:0.42 \n",
      "epoch [7], Loss: 0.69, Val_loss:0.69, accuracy:0.42 \n",
      "epoch [8], Loss: 0.69, Val_loss:0.69, accuracy:0.42 \n",
      "epoch [9], Loss: 0.69, Val_loss:0.69, accuracy:0.42 \n",
      "epoch [10], Loss: 0.69, Val_loss:0.69, accuracy:0.42 \n",
      "epoch [11], Loss: 0.69, Val_loss:0.69, accuracy:0.42 \n",
      "epoch [12], Loss: 0.70, Val_loss:0.69, accuracy:0.42 \n",
      "epoch [13], Loss: 0.69, Val_loss:0.69, accuracy:0.42 \n",
      "epoch [14], Loss: 0.69, Val_loss:0.69, accuracy:0.42 \n"
     ]
    },
    {
     "ename": "KeyboardInterrupt",
     "evalue": "ignored",
     "output_type": "error",
     "traceback": [
      "\u001b[0;31m---------------------------------------------------------------------------\u001b[0m",
      "\u001b[0;31mKeyboardInterrupt\u001b[0m                         Traceback (most recent call last)",
      "\u001b[0;32m<ipython-input-206-de4eecc10579>\u001b[0m in \u001b[0;36m<module>\u001b[0;34m()\u001b[0m\n\u001b[1;32m      6\u001b[0m \u001b[0;34m\u001b[0m\u001b[0m\n\u001b[1;32m      7\u001b[0m     \u001b[0mmodel\u001b[0m\u001b[0;34m.\u001b[0m\u001b[0mtrain\u001b[0m\u001b[0;34m(\u001b[0m\u001b[0;34m)\u001b[0m\u001b[0;34m\u001b[0m\u001b[0;34m\u001b[0m\u001b[0m\n\u001b[0;32m----> 8\u001b[0;31m     \u001b[0my_pred\u001b[0m \u001b[0;34m=\u001b[0m \u001b[0mmodel\u001b[0m\u001b[0;34m(\u001b[0m\u001b[0mb_train_feats\u001b[0m\u001b[0;34m)\u001b[0m\u001b[0;34m\u001b[0m\u001b[0;34m\u001b[0m\u001b[0m\n\u001b[0m\u001b[1;32m      9\u001b[0m \u001b[0;34m\u001b[0m\u001b[0m\n\u001b[1;32m     10\u001b[0m     \u001b[0mstep_loss\u001b[0m \u001b[0;34m=\u001b[0m \u001b[0mloss\u001b[0m\u001b[0;34m(\u001b[0m\u001b[0my_pred\u001b[0m\u001b[0;34m,\u001b[0m \u001b[0mb_train_labels\u001b[0m\u001b[0;34m)\u001b[0m\u001b[0;34m\u001b[0m\u001b[0;34m\u001b[0m\u001b[0m\n",
      "\u001b[0;32m/usr/local/lib/python3.7/dist-packages/torch/nn/modules/module.py\u001b[0m in \u001b[0;36m_call_impl\u001b[0;34m(self, *input, **kwargs)\u001b[0m\n\u001b[1;32m   1108\u001b[0m         if not (self._backward_hooks or self._forward_hooks or self._forward_pre_hooks or _global_backward_hooks\n\u001b[1;32m   1109\u001b[0m                 or _global_forward_hooks or _global_forward_pre_hooks):\n\u001b[0;32m-> 1110\u001b[0;31m             \u001b[0;32mreturn\u001b[0m \u001b[0mforward_call\u001b[0m\u001b[0;34m(\u001b[0m\u001b[0;34m*\u001b[0m\u001b[0minput\u001b[0m\u001b[0;34m,\u001b[0m \u001b[0;34m**\u001b[0m\u001b[0mkwargs\u001b[0m\u001b[0;34m)\u001b[0m\u001b[0;34m\u001b[0m\u001b[0;34m\u001b[0m\u001b[0m\n\u001b[0m\u001b[1;32m   1111\u001b[0m         \u001b[0;31m# Do not call functions when jit is used\u001b[0m\u001b[0;34m\u001b[0m\u001b[0;34m\u001b[0m\u001b[0;34m\u001b[0m\u001b[0m\n\u001b[1;32m   1112\u001b[0m         \u001b[0mfull_backward_hooks\u001b[0m\u001b[0;34m,\u001b[0m \u001b[0mnon_full_backward_hooks\u001b[0m \u001b[0;34m=\u001b[0m \u001b[0;34m[\u001b[0m\u001b[0;34m]\u001b[0m\u001b[0;34m,\u001b[0m \u001b[0;34m[\u001b[0m\u001b[0;34m]\u001b[0m\u001b[0;34m\u001b[0m\u001b[0;34m\u001b[0m\u001b[0m\n",
      "\u001b[0;32m<ipython-input-200-ba7412e5e7b6>\u001b[0m in \u001b[0;36mforward\u001b[0;34m(self, input)\u001b[0m\n\u001b[1;32m      8\u001b[0m       \u001b[0mself\u001b[0m\u001b[0;34m.\u001b[0m\u001b[0msigmoid\u001b[0m \u001b[0;34m=\u001b[0m \u001b[0mnn\u001b[0m\u001b[0;34m.\u001b[0m\u001b[0mSigmoid\u001b[0m\u001b[0;34m(\u001b[0m\u001b[0;34m)\u001b[0m\u001b[0;34m\u001b[0m\u001b[0;34m\u001b[0m\u001b[0m\n\u001b[1;32m      9\u001b[0m   \u001b[0;32mdef\u001b[0m \u001b[0mforward\u001b[0m\u001b[0;34m(\u001b[0m\u001b[0mself\u001b[0m\u001b[0;34m,\u001b[0m\u001b[0minput\u001b[0m\u001b[0;34m)\u001b[0m\u001b[0;34m:\u001b[0m\u001b[0;34m\u001b[0m\u001b[0;34m\u001b[0m\u001b[0m\n\u001b[0;32m---> 10\u001b[0;31m     \u001b[0mout_lin1\u001b[0m \u001b[0;34m=\u001b[0m \u001b[0mtorch\u001b[0m\u001b[0;34m.\u001b[0m\u001b[0mrelu\u001b[0m\u001b[0;34m(\u001b[0m\u001b[0mself\u001b[0m\u001b[0;34m.\u001b[0m\u001b[0mlinear1\u001b[0m\u001b[0;34m(\u001b[0m\u001b[0minput\u001b[0m\u001b[0;34m)\u001b[0m\u001b[0;34m)\u001b[0m\u001b[0;34m\u001b[0m\u001b[0;34m\u001b[0m\u001b[0m\n\u001b[0m\u001b[1;32m     11\u001b[0m     \u001b[0mout_lin2\u001b[0m \u001b[0;34m=\u001b[0m \u001b[0mtorch\u001b[0m\u001b[0;34m.\u001b[0m\u001b[0mrelu\u001b[0m\u001b[0;34m(\u001b[0m\u001b[0mself\u001b[0m\u001b[0;34m.\u001b[0m\u001b[0mlinear2\u001b[0m\u001b[0;34m(\u001b[0m\u001b[0mout_lin1\u001b[0m\u001b[0;34m)\u001b[0m\u001b[0;34m)\u001b[0m\u001b[0;34m\u001b[0m\u001b[0;34m\u001b[0m\u001b[0m\n\u001b[1;32m     12\u001b[0m     \u001b[0mout_lin3\u001b[0m \u001b[0;34m=\u001b[0m \u001b[0mtorch\u001b[0m\u001b[0;34m.\u001b[0m\u001b[0mrelu\u001b[0m\u001b[0;34m(\u001b[0m\u001b[0mself\u001b[0m\u001b[0;34m.\u001b[0m\u001b[0mlinear3\u001b[0m\u001b[0;34m(\u001b[0m\u001b[0mout_lin2\u001b[0m\u001b[0;34m)\u001b[0m\u001b[0;34m)\u001b[0m\u001b[0;34m\u001b[0m\u001b[0;34m\u001b[0m\u001b[0m\n",
      "\u001b[0;32m/usr/local/lib/python3.7/dist-packages/torch/nn/modules/module.py\u001b[0m in \u001b[0;36m_call_impl\u001b[0;34m(self, *input, **kwargs)\u001b[0m\n\u001b[1;32m   1108\u001b[0m         if not (self._backward_hooks or self._forward_hooks or self._forward_pre_hooks or _global_backward_hooks\n\u001b[1;32m   1109\u001b[0m                 or _global_forward_hooks or _global_forward_pre_hooks):\n\u001b[0;32m-> 1110\u001b[0;31m             \u001b[0;32mreturn\u001b[0m \u001b[0mforward_call\u001b[0m\u001b[0;34m(\u001b[0m\u001b[0;34m*\u001b[0m\u001b[0minput\u001b[0m\u001b[0;34m,\u001b[0m \u001b[0;34m**\u001b[0m\u001b[0mkwargs\u001b[0m\u001b[0;34m)\u001b[0m\u001b[0;34m\u001b[0m\u001b[0;34m\u001b[0m\u001b[0m\n\u001b[0m\u001b[1;32m   1111\u001b[0m         \u001b[0;31m# Do not call functions when jit is used\u001b[0m\u001b[0;34m\u001b[0m\u001b[0;34m\u001b[0m\u001b[0;34m\u001b[0m\u001b[0m\n\u001b[1;32m   1112\u001b[0m         \u001b[0mfull_backward_hooks\u001b[0m\u001b[0;34m,\u001b[0m \u001b[0mnon_full_backward_hooks\u001b[0m \u001b[0;34m=\u001b[0m \u001b[0;34m[\u001b[0m\u001b[0;34m]\u001b[0m\u001b[0;34m,\u001b[0m \u001b[0;34m[\u001b[0m\u001b[0;34m]\u001b[0m\u001b[0;34m\u001b[0m\u001b[0;34m\u001b[0m\u001b[0m\n",
      "\u001b[0;32m/usr/local/lib/python3.7/dist-packages/torch/nn/modules/linear.py\u001b[0m in \u001b[0;36mforward\u001b[0;34m(self, input)\u001b[0m\n\u001b[1;32m    101\u001b[0m \u001b[0;34m\u001b[0m\u001b[0m\n\u001b[1;32m    102\u001b[0m     \u001b[0;32mdef\u001b[0m \u001b[0mforward\u001b[0m\u001b[0;34m(\u001b[0m\u001b[0mself\u001b[0m\u001b[0;34m,\u001b[0m \u001b[0minput\u001b[0m\u001b[0;34m:\u001b[0m \u001b[0mTensor\u001b[0m\u001b[0;34m)\u001b[0m \u001b[0;34m->\u001b[0m \u001b[0mTensor\u001b[0m\u001b[0;34m:\u001b[0m\u001b[0;34m\u001b[0m\u001b[0;34m\u001b[0m\u001b[0m\n\u001b[0;32m--> 103\u001b[0;31m         \u001b[0;32mreturn\u001b[0m \u001b[0mF\u001b[0m\u001b[0;34m.\u001b[0m\u001b[0mlinear\u001b[0m\u001b[0;34m(\u001b[0m\u001b[0minput\u001b[0m\u001b[0;34m,\u001b[0m \u001b[0mself\u001b[0m\u001b[0;34m.\u001b[0m\u001b[0mweight\u001b[0m\u001b[0;34m,\u001b[0m \u001b[0mself\u001b[0m\u001b[0;34m.\u001b[0m\u001b[0mbias\u001b[0m\u001b[0;34m)\u001b[0m\u001b[0;34m\u001b[0m\u001b[0;34m\u001b[0m\u001b[0m\n\u001b[0m\u001b[1;32m    104\u001b[0m \u001b[0;34m\u001b[0m\u001b[0m\n\u001b[1;32m    105\u001b[0m     \u001b[0;32mdef\u001b[0m \u001b[0mextra_repr\u001b[0m\u001b[0;34m(\u001b[0m\u001b[0mself\u001b[0m\u001b[0;34m)\u001b[0m \u001b[0;34m->\u001b[0m \u001b[0mstr\u001b[0m\u001b[0;34m:\u001b[0m\u001b[0;34m\u001b[0m\u001b[0;34m\u001b[0m\u001b[0m\n",
      "\u001b[0;31mKeyboardInterrupt\u001b[0m: "
     ]
    }
   ],
   "source": [
    "n_epoch = 20\n",
    "for i in range(n_epoch):\n",
    "  for step, batch in enumerate(train_dataloader):\n",
    "    b_train_feats = batch[0].to(device)\n",
    "    b_train_labels = batch[1].to(device)\n",
    "    \n",
    "    model.train()\n",
    "    y_pred = model(b_train_feats)\n",
    "    \n",
    "    step_loss = loss(y_pred, b_train_labels)\n",
    "    optimizer.zero_grad()\n",
    "    step_loss.backward()\n",
    "  # update with current step regression parameters \n",
    "    optimizer.step()\n",
    "\n",
    "  \n",
    "  model.eval()\n",
    "  with torch.no_grad():\n",
    "    val_pred = model(X_val.to(device))\n",
    "    val_loss = loss(val_pred,y_val.to(device))\n",
    "  y_pred_val_np = val_pred.cpu().detach().numpy()\n",
    "  #print(y_pred_val_np[1])\n",
    "  \n",
    "  \n",
    "  max_val = np.argmax(y_pred_val_np,axis=1)\n",
    "  \n",
    "  all_val_labels = y_val.to('cpu').numpy()\n",
    "  max_val_true = np.argmax(all_val_labels,axis=1)\n",
    "\n",
    "  acc = accuracy_score(max_val,max_val_true)\n",
    "  \n",
    "\n",
    "    \n",
    "  print ('epoch [{}], Loss: {:.2f}, Val_loss:{:.2f}, accuracy:{:.2f} '.format(i, step_loss.item(),val_loss,acc))"
   ]
  },
  {
   "cell_type": "code",
   "execution_count": null,
   "metadata": {
    "id": "lbIWJOl8jTUc"
   },
   "outputs": [],
   "source": []
  },
  {
   "cell_type": "code",
   "execution_count": null,
   "metadata": {
    "id": "GrtB8xTAjnKM"
   },
   "outputs": [],
   "source": [
    "model.eval()\n",
    "with torch.no_grad():\n",
    "  test_pred = model(X_test.to(device))\n",
    "val_loss = loss(test_pred,y_test.to(device))\n",
    "y_pred_test_np = test_pred.cpu().detach().numpy()\n",
    "\n",
    "\n",
    "max_val_test = np.argmax(y_pred_test_np,axis=1)\n",
    "\n",
    "all_test_labels = y_test.to('cpu').numpy()\n",
    "max_test_true = np.argmax(all_test_labels,axis=1)\n",
    "\n",
    "acc_test = accuracy_score(max_val_test,max_test_true)"
   ]
  },
  {
   "cell_type": "code",
   "execution_count": null,
   "metadata": {
    "colab": {
     "base_uri": "https://localhost:8080/"
    },
    "executionInfo": {
     "elapsed": 6,
     "status": "ok",
     "timestamp": 1656674277440,
     "user": {
      "displayName": "Deepak Rastogi",
      "userId": "00835676360645435652"
     },
     "user_tz": -120
    },
    "id": "sPi3dcjPrCPq",
    "outputId": "c188b6e3-40fd-4cb6-d354-3d5143f7b9e9"
   },
   "outputs": [
    {
     "data": {
      "text/plain": [
       "0.5899053627760252"
      ]
     },
     "execution_count": 171,
     "metadata": {},
     "output_type": "execute_result"
    }
   ],
   "source": [
    "acc_test"
   ]
  },
  {
   "cell_type": "code",
   "execution_count": null,
   "metadata": {
    "id": "vwHFJg9PHJEx"
   },
   "outputs": [],
   "source": [
    "max_val_test"
   ]
  },
  {
   "cell_type": "code",
   "execution_count": null,
   "metadata": {
    "colab": {
     "base_uri": "https://localhost:8080/"
    },
    "executionInfo": {
     "elapsed": 260,
     "status": "ok",
     "timestamp": 1656673290222,
     "user": {
      "displayName": "Deepak Rastogi",
      "userId": "00835676360645435652"
     },
     "user_tz": -120
    },
    "id": "BAECfO2QH0X1",
    "outputId": "fc8b54fd-aeeb-44c0-ec1d-d6f7567ede95"
   },
   "outputs": [
    {
     "data": {
      "text/plain": [
       "array([1, 1, 0, 0, 1, 1, 1, 1, 1, 1, 0, 1, 0, 1, 1, 0, 0, 1, 0, 0, 0, 2,\n",
       "       1, 1, 0, 1, 1, 1, 1, 0, 1, 0, 1, 1, 1, 0, 0, 0, 1, 0, 0, 1, 0, 0,\n",
       "       0, 1, 1, 0, 0, 1, 0, 0, 0, 1, 1, 0, 1, 1, 0, 1, 0, 0, 1, 1, 1, 1,\n",
       "       1, 0, 0, 1, 0, 1, 0, 1, 0, 1, 0, 1, 0, 1, 1, 0, 0, 1, 0, 0, 2, 0,\n",
       "       0, 0, 2, 1, 1, 1, 1, 1, 0, 1, 1, 0, 1, 0, 1, 0, 2, 1, 0, 1, 1, 0,\n",
       "       0, 1, 1, 1, 0, 1, 1, 0, 0, 0, 1, 1, 0, 0, 1, 0, 0, 1, 1, 3, 2, 0,\n",
       "       0, 0, 0, 0, 0, 1, 0, 2, 0, 0, 0, 0, 3, 1, 1, 1, 0, 0, 1, 0, 1, 0,\n",
       "       1, 0, 0, 1, 1, 1, 1, 0, 0, 0, 1, 1, 1, 1, 0, 0, 1, 0, 0, 1, 1, 1,\n",
       "       0, 0, 1, 0, 1, 0, 0, 1, 1, 1, 0, 1, 1, 1, 1, 1, 1, 0, 0, 0, 0, 1,\n",
       "       1, 0, 0, 1, 1, 1, 0, 1, 1, 1, 0, 0, 1, 1, 0, 0, 1, 0, 1, 1, 1, 1,\n",
       "       2, 0, 1, 1, 1, 1, 1, 1, 1, 1, 0, 0, 0, 0, 1, 1, 1, 1, 1, 1, 0, 1,\n",
       "       1, 0, 1, 1, 1, 0, 1, 1, 1, 0, 1, 1, 0, 0, 1, 1, 1, 0, 1, 0, 0, 1,\n",
       "       1, 0, 1, 0, 1, 1, 1, 1, 0, 0, 0, 1, 0, 1, 1, 1, 1, 0, 1, 0, 0, 0,\n",
       "       1, 2, 0, 0, 0, 1, 1, 0, 1, 0, 1, 1, 2, 0, 1, 2, 1, 0, 1, 1, 0, 0,\n",
       "       0, 1, 1, 1, 1, 0, 0, 0, 0, 0, 1, 1, 1, 2, 1, 1, 0, 0, 1, 0, 0, 1,\n",
       "       0, 0, 1, 1, 1, 1, 0, 0, 1, 0, 1, 1, 1, 1, 1, 1, 1, 0, 0, 1, 0, 1,\n",
       "       1, 1, 0, 1, 0, 1, 1, 1, 1, 0, 1, 0, 1, 0, 0, 0, 0, 1, 0, 1, 0, 1,\n",
       "       1, 1, 1, 1, 1, 1, 0, 1, 0, 1, 1, 0, 1, 0, 1, 1, 1, 1, 1, 2, 1, 1,\n",
       "       0, 0, 0, 1, 1, 1, 1, 1, 1, 1, 0, 1, 1, 1, 0, 2, 0, 1, 0, 0, 1, 1,\n",
       "       1, 1, 0, 1, 1, 1, 1, 1, 1, 0, 1, 1, 1, 1, 1, 0, 1, 0, 0, 1, 1, 1,\n",
       "       1, 0, 1, 0, 1, 0, 0, 0, 0, 0, 0, 1, 0, 1, 1, 1, 0, 0, 1, 1, 0, 0,\n",
       "       1, 2, 0, 0, 2, 1, 1, 0, 0, 1, 1, 0, 1, 1, 1, 1, 1, 1, 0, 1, 1, 1,\n",
       "       0, 0, 1, 1, 0, 1, 0, 1, 1, 1, 1, 0, 1, 1, 1, 1, 1, 1, 1, 1, 0, 1,\n",
       "       1, 1, 0, 1, 1, 1, 0, 1, 0, 0, 1, 1, 1, 0, 0, 1, 1, 1, 1, 0, 1, 1,\n",
       "       0, 0, 0, 0, 0, 1, 1, 1, 0, 1, 0, 1, 1, 1, 1, 1, 1, 1, 1, 0, 1, 0,\n",
       "       1, 1, 1, 0, 0, 0, 0, 0, 0, 1, 0, 2, 1, 1, 1, 1, 1, 1, 1, 0, 0, 0,\n",
       "       0, 0, 1, 1, 0, 1, 0, 2, 1, 1, 0, 0, 1, 1, 1, 0, 0, 0, 1, 1, 1, 1,\n",
       "       1, 1, 1, 1, 1, 1, 0, 0, 0, 0, 0, 0, 1, 2, 0, 0, 0, 1, 0, 0, 2, 1,\n",
       "       0, 1, 0, 0, 0, 1, 0, 1, 0, 1, 0, 1, 1, 0, 0, 1, 0, 1])"
      ]
     },
     "execution_count": 116,
     "metadata": {},
     "output_type": "execute_result"
    }
   ],
   "source": [
    "max_test_true"
   ]
  },
  {
   "cell_type": "code",
   "execution_count": null,
   "metadata": {
    "colab": {
     "base_uri": "https://localhost:8080/"
    },
    "executionInfo": {
     "elapsed": 354,
     "status": "ok",
     "timestamp": 1656674283726,
     "user": {
      "displayName": "Deepak Rastogi",
      "userId": "00835676360645435652"
     },
     "user_tz": -120
    },
    "id": "nLZZvurUICB5",
    "outputId": "b334e358-1776-4242-ea89-58f291197f45"
   },
   "outputs": [
    {
     "name": "stdout",
     "output_type": "stream",
     "text": [
      "              precision    recall  f1-score   support\n",
      "\n",
      "           0       0.50      0.33      0.40       259\n",
      "           1       0.62      0.77      0.69       375\n",
      "\n",
      "    accuracy                           0.59       634\n",
      "   macro avg       0.56      0.55      0.54       634\n",
      "weighted avg       0.57      0.59      0.57       634\n",
      "\n"
     ]
    }
   ],
   "source": [
    "print(classification_report(max_test_true,max_val_test))"
   ]
  },
  {
   "cell_type": "code",
   "execution_count": null,
   "metadata": {
    "id": "3KpKc0mh9Fub"
   },
   "outputs": [],
   "source": [
    "from sklearn.metrics import confusion_matrix\n",
    "import seaborn as sns"
   ]
  },
  {
   "cell_type": "code",
   "execution_count": null,
   "metadata": {
    "colab": {
     "base_uri": "https://localhost:8080/",
     "height": 557
    },
    "executionInfo": {
     "elapsed": 378,
     "status": "ok",
     "timestamp": 1656674291270,
     "user": {
      "displayName": "Deepak Rastogi",
      "userId": "00835676360645435652"
     },
     "user_tz": -120
    },
    "id": "qjvMKgye9Fud",
    "outputId": "3a9f1f7b-a490-4976-e9ed-389ffeec70e2"
   },
   "outputs": [
    {
     "data": {
      "image/png": "[encoded data removed]",
      "text/plain": [
       "<Figure size 864x576 with 2 Axes>"
      ]
     },
     "metadata": {},
     "output_type": "display_data"
    }
   ],
   "source": [
    "plt.figure(figsize=(12,8))\n",
    "ax= plt.subplot()\n",
    "sns.heatmap(confusion_matrix(max_test_true,max_val_test), annot=True, ax = ax,fmt='g',cmap='PuBuGn'); #annot=True to annotate cells\n",
    "sns.set(font_scale=1.4)\n",
    "# labels, title and ticks\n",
    "ax.set_xlabel('Predicted labels').set_fontsize('18')\n",
    "ax.set_ylabel('True labels').set_fontsize('18')\n",
    "ax.set_title('Confusion Matrix - Coarse-grained Classification',pad = 30).set_fontsize('20')\n",
    "#ax.xaxis.set_ticklabels(['Gramm. Correct','Gramm. Incorrect'],rotation=0)\n",
    "#ax.yaxis.set_ticklabels(['Gramm. Correct','Gramm. Incorrect'],rotation=0)\n",
    "#plt.savefig('cm.png',bbox_inches='tight')"
   ]
  },
  {
   "cell_type": "code",
   "execution_count": null,
   "metadata": {
    "id": "uisGu0569Nzk"
   },
   "outputs": [],
   "source": []
  }
 ],
 "metadata": {
  "colab": {
   "authorship_tag": "ABX9TyP3+Pkh0KC+JuXpzaIEQsMN",
   "collapsed_sections": [],
   "mount_file_id": "1bCEasghXkNONZdCTKaoITaTpS-wP8SpM",
   "name": "Untitled0.ipynb",
   "provenance": []
  },
  "gpuClass": "standard",
  "kernelspec": {
   "display_name": "Python 3 (ipykernel)",
   "language": "python",
   "name": "python3"
  },
  "language_info": {
   "codemirror_mode": {
    "name": "ipython",
    "version": 3
   },
   "file_extension": ".py",
   "mimetype": "text/x-python",
   "name": "python",
   "nbconvert_exporter": "python",
   "pygments_lexer": "ipython3",
   "version": "3.9.12"
  }
 },
 "nbformat": 4,
 "nbformat_minor": 1
}
