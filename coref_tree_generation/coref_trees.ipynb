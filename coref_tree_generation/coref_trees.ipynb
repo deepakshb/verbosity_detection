{
 "cells": [
  {
   "cell_type": "code",
   "execution_count": 1,
   "metadata": {
    "colab": {
     "base_uri": "https://localhost:8080/"
    },
    "executionInfo": {
     "elapsed": 15116,
     "status": "ok",
     "timestamp": 1661727188483,
     "user": {
      "displayName": "Deepak Rastogi",
      "userId": "00835676360645435652"
     },
     "user_tz": -120
    },
    "id": "TeyK3g9zTb8w",
    "outputId": "9891aa0e-1eb0-4e02-dfea-1173ce95eb5d"
   },
   "outputs": [
    {
     "name": "stdout",
     "output_type": "stream",
     "text": [
      "Looking in indexes: https://pypi.org/simple, https://us-python.pkg.dev/colab-wheels/public/simple/\n",
      "Collecting stanfordcorenlp\n",
      "  Downloading stanfordcorenlp-3.9.1.1-py2.py3-none-any.whl (5.7 kB)\n",
      "Requirement already satisfied: requests in /usr/local/lib/python3.7/dist-packages (from stanfordcorenlp) (2.23.0)\n",
      "Requirement already satisfied: psutil in /usr/local/lib/python3.7/dist-packages (from stanfordcorenlp) (5.4.8)\n",
      "Requirement already satisfied: certifi>=2017.4.17 in /usr/local/lib/python3.7/dist-packages (from requests->stanfordcorenlp) (2022.6.15)\n",
      "Requirement already satisfied: idna<3,>=2.5 in /usr/local/lib/python3.7/dist-packages (from requests->stanfordcorenlp) (2.10)\n",
      "Requirement already satisfied: urllib3!=1.25.0,!=1.25.1,<1.26,>=1.21.1 in /usr/local/lib/python3.7/dist-packages (from requests->stanfordcorenlp) (1.24.3)\n",
      "Requirement already satisfied: chardet<4,>=3.0.2 in /usr/local/lib/python3.7/dist-packages (from requests->stanfordcorenlp) (3.0.4)\n",
      "Installing collected packages: stanfordcorenlp\n",
      "Successfully installed stanfordcorenlp-3.9.1.1\n",
      "Looking in indexes: https://pypi.org/simple, https://us-python.pkg.dev/colab-wheels/public/simple/\n",
      "Collecting pickle5\n",
      "  Downloading pickle5-0.0.12-cp37-cp37m-manylinux_2_5_x86_64.manylinux1_x86_64.whl (256 kB)\n",
      "\u001b[K     |████████████████████████████████| 256 kB 5.4 MB/s \n",
      "\u001b[?25hInstalling collected packages: pickle5\n",
      "Successfully installed pickle5-0.0.12\n"
     ]
    }
   ],
   "source": [
    "!pip install stanfordcorenlp\n",
    "!pip3 install pickle5"
   ]
  },
  {
   "cell_type": "markdown",
   "metadata": {
    "id": "08m82QtNqd-r"
   },
   "source": [
    "### 1. Coref Links Generation"
   ]
  },
  {
   "cell_type": "code",
   "execution_count": 1,
   "metadata": {
    "executionInfo": {
     "elapsed": 9,
     "status": "ok",
     "timestamp": 1661727494770,
     "user": {
      "displayName": "Deepak Rastogi",
      "userId": "00835676360645435652"
     },
     "user_tz": -120
    },
    "id": "5SBflsZ7k-ma"
   },
   "outputs": [],
   "source": [
    "import pickle5 as pickle"
   ]
  },
  {
   "cell_type": "code",
   "execution_count": 2,
   "metadata": {
    "executionInfo": {
     "elapsed": 6,
     "status": "ok",
     "timestamp": 1661727495952,
     "user": {
      "displayName": "Deepak Rastogi",
      "userId": "00835676360645435652"
     },
     "user_tz": -120
    },
    "id": "Fb-qCdxlEmEZ"
   },
   "outputs": [],
   "source": [
    "with open('coref_links/snippets_q.pickle','rb') as handle:\n",
    "  dict_snippets = pickle.load(handle)"
   ]
  },
  {
   "cell_type": "code",
   "execution_count": 3,
   "metadata": {
    "colab": {
     "base_uri": "https://localhost:8080/"
    },
    "executionInfo": {
     "elapsed": 6,
     "status": "ok",
     "timestamp": 1661727497364,
     "user": {
      "displayName": "Deepak Rastogi",
      "userId": "00835676360645435652"
     },
     "user_tz": -120
    },
    "id": "_vOqYW6nATLK",
    "outputId": "66d27446-2059-4702-92d8-eccfe1d938da"
   },
   "outputs": [
    {
     "data": {
      "text/plain": [
       "11"
      ]
     },
     "execution_count": 3,
     "metadata": {},
     "output_type": "execute_result"
    }
   ],
   "source": [
    "len(dict_snippets['snippets'])"
   ]
  },
  {
   "cell_type": "code",
   "execution_count": 4,
   "metadata": {
    "executionInfo": {
     "elapsed": 252,
     "status": "ok",
     "timestamp": 1661727500453,
     "user": {
      "displayName": "Deepak Rastogi",
      "userId": "00835676360645435652"
     },
     "user_tz": -120
    },
    "id": "86QDbp4cE47G"
   },
   "outputs": [],
   "source": [
    "import json\n",
    "def coreference_links(text,nlp_server,prop):\n",
    "#    nlp = StanfordCoreNLP('http://localhost:9001')\n",
    "#    props = {'annotators':'dcoref','outputFormat':'json','ner.useSUTime':'false','timeout': 800000}\n",
    "    \n",
    "\n",
    "    inter_links = 0\n",
    "    intra_links = 0\n",
    "\n",
    "    out = nlp_server.annotate(text, properties=prop)\n",
    "    \n",
    "    try:\n",
    "      output = json.loads(out)\n",
    "      \n",
    "      corefs = []\n",
    "      for i in output['corefs']:\n",
    "          if len(output['corefs'][i]) > 1:\n",
    "              corefs.append(output['corefs'][i])\n",
    "        \n",
    "      sent_nums = []\n",
    "      for i in corefs:\n",
    "          arr_nums = [j['sentNum'] for j in i]\n",
    "          sent_nums.append(arr_nums)\n",
    "    \n",
    "      for i in sent_nums:\n",
    "          for j in range(len(i)):\n",
    "              if j+1 in range(len(i)):\n",
    "                  if i[j] == i[j+1]:\n",
    "                      intra_links = intra_links + 1\n",
    "                  else:\n",
    "                      inter_links = inter_links + 1\n",
    "              else:\n",
    "                  break\n",
    "\n",
    "    except Exception as err:\n",
    "      print(err)\n",
    "    finally:\n",
    "      pass\n",
    "    \n",
    "    return intra_links,inter_links"
   ]
  },
  {
   "cell_type": "code",
   "execution_count": 5,
   "metadata": {
    "colab": {
     "base_uri": "https://localhost:8080/"
    },
    "executionInfo": {
     "elapsed": 56881,
     "status": "ok",
     "timestamp": 1661727558325,
     "user": {
      "displayName": "Deepak Rastogi",
      "userId": "00835676360645435652"
     },
     "user_tz": -120
    },
    "id": "IRt4XAgNC1Um",
    "outputId": "a7374af3-3653-4716-baa6-bf09d11b3756"
   },
   "outputs": [
    {
     "name": "stdout",
     "output_type": "stream",
     "text": [
      "Snippet  0\n",
      "Snippet  1\n",
      "Snippet  2\n",
      "Snippet  3\n",
      "Snippet  4\n",
      "Snippet  5\n",
      "Snippet  6\n",
      "Snippet  7\n",
      "Snippet  8\n",
      "Snippet  9\n",
      "Snippet  10\n"
     ]
    }
   ],
   "source": [
    "from stanfordcorenlp import StanfordCoreNLP\n",
    "import os\n",
    "\n",
    "\n",
    "nlp = StanfordCoreNLP(r'PATH-TO-CORENLP', quiet=False)\n",
    "props = {'annotators': 'coref', 'pipelineLanguage': 'en'}\n",
    "\n",
    "snippets = dict_snippets['snippets']\n",
    "\n",
    "folder_path = 'coref_links/start/'\n",
    "start_index = len(os.listdir(folder_path))\n",
    "\n",
    "for index,text in enumerate(snippets[start_index:]):\n",
    "  dict_coref = {'intra_links':0,'inter_links':0,'coref_links':0}\n",
    "  print('Snippet ',start_index+index)\n",
    "  intra_links,inter_links = coreference_links(text,nlp,props)\n",
    "  dict_coref['intra_links'] = intra_links\n",
    "  dict_coref['inter_links'] = inter_links\n",
    "  dict_coref['coref_links'] = inter_links+intra_links\n",
    "  with open(folder_path+str(index+start_index)+'.pickle','wb') as handle:\n",
    "      pickle.dump(dict_coref, handle, protocol=pickle.HIGHEST_PROTOCOL)\n",
    "\n",
    "\n",
    "#text = 'Barack Obama was born in Hawaii.  He is the president. Obama was elected in 2008.'\n",
    "#result = json.loads(nlp.annotate(text, properties=props))\n",
    "\n",
    "#num, mentions = result['corefs'].items()[0]\n",
    "#for mention in mentions:\n",
    "#    print(mention)"
   ]
  },
  {
   "cell_type": "markdown",
   "metadata": {
    "id": "KefLxSP6-ZhW"
   },
   "source": [
    "##2. Tree Generation"
   ]
  },
  {
   "cell_type": "code",
   "execution_count": 1,
   "metadata": {
    "executionInfo": {
     "elapsed": 5,
     "status": "ok",
     "timestamp": 1661727576814,
     "user": {
      "displayName": "Deepak Rastogi",
      "userId": "00835676360645435652"
     },
     "user_tz": -120
    },
    "id": "EvVq6H4gA5oo"
   },
   "outputs": [],
   "source": [
    "import pickle5 as pickle\n",
    "with open('coref_links/snippets_q.pickle','rb') as handle:\n",
    "  dict_snippets_end = pickle.load(handle)"
   ]
  },
  {
   "cell_type": "code",
   "execution_count": 2,
   "metadata": {
    "colab": {
     "base_uri": "https://localhost:8080/",
     "height": 55
    },
    "executionInfo": {
     "elapsed": 13,
     "status": "ok",
     "timestamp": 1661727578052,
     "user": {
      "displayName": "Deepak Rastogi",
      "userId": "00835676360645435652"
     },
     "user_tz": -120
    },
    "id": "yo-8w61t_kUC",
    "outputId": "0dfcd36c-24ff-4265-f8f5-b15a1e2b3dc7"
   },
   "outputs": [
    {
     "data": {
      "application/vnd.google.colaboratory.intrinsic+json": {
       "type": "string"
      },
      "text/plain": [
       "'The invention allows for the production of S. achromogenes before subjecting them to an antibiotic challenge. Location of the resultant gene directly in the chromosomal host dna can be aided by the use of temperature-sensitive plasmids or other curable vectors.'"
      ]
     },
     "execution_count": 2,
     "metadata": {},
     "output_type": "execute_result"
    }
   ],
   "source": [
    "dict_snippets_end['snippets'][3]"
   ]
  },
  {
   "cell_type": "code",
   "execution_count": 3,
   "metadata": {
    "executionInfo": {
     "elapsed": 2360,
     "status": "ok",
     "timestamp": 1661727581893,
     "user": {
      "displayName": "Deepak Rastogi",
      "userId": "00835676360645435652"
     },
     "user_tz": -120
    },
    "id": "FgNmEozTBFDw"
   },
   "outputs": [],
   "source": [
    "from stanfordcorenlp import StanfordCoreNLP\n",
    "import os\n",
    "import re\n",
    "from nltk.tokenize import sent_tokenize"
   ]
  },
  {
   "cell_type": "code",
   "execution_count": 4,
   "metadata": {
    "colab": {
     "base_uri": "https://localhost:8080/"
    },
    "executionInfo": {
     "elapsed": 1116,
     "status": "ok",
     "timestamp": 1661727582996,
     "user": {
      "displayName": "Deepak Rastogi",
      "userId": "00835676360645435652"
     },
     "user_tz": -120
    },
    "id": "4H1JwbgGqE-e",
    "outputId": "d5f56ecd-5356-439b-d092-57113416b0dd"
   },
   "outputs": [
    {
     "name": "stderr",
     "output_type": "stream",
     "text": [
      "[nltk_data] Downloading package punkt to /root/nltk_data...\n",
      "[nltk_data]   Unzipping tokenizers/punkt.zip.\n"
     ]
    },
    {
     "data": {
      "text/plain": [
       "True"
      ]
     },
     "execution_count": 4,
     "metadata": {},
     "output_type": "execute_result"
    }
   ],
   "source": [
    "import nltk\n",
    "nltk.download('punkt')"
   ]
  },
  {
   "cell_type": "code",
   "execution_count": 5,
   "metadata": {
    "executionInfo": {
     "elapsed": 6,
     "status": "ok",
     "timestamp": 1661727582997,
     "user": {
      "displayName": "Deepak Rastogi",
      "userId": "00835676360645435652"
     },
     "user_tz": -120
    },
    "id": "9Sr0AfM0B25p"
   },
   "outputs": [],
   "source": [
    "snippets_reformatted = []\n",
    "snippets = dict_snippets_end['snippets']\n",
    "for index,snip in enumerate(snippets):\n",
    "    snip_new = snip.replace(';','.')\n",
    "    snip_new = snip_new.replace(',','.')\n",
    "    snip_new = snip_new.replace('..','.')\n",
    "    snip_new = re.sub(r'[^A-Za-z.\\s]', '', snip_new)\n",
    "    snippet_group = sent_tokenize(snip_new)\n",
    "    snippets_reformatted.append(snippet_group)"
   ]
  },
  {
   "cell_type": "code",
   "execution_count": 6,
   "metadata": {
    "executionInfo": {
     "elapsed": 4,
     "status": "ok",
     "timestamp": 1661727583982,
     "user": {
      "displayName": "Deepak Rastogi",
      "userId": "00835676360645435652"
     },
     "user_tz": -120
    },
    "id": "rQHLBqHJsn6j"
   },
   "outputs": [],
   "source": [
    "import json"
   ]
  },
  {
   "cell_type": "code",
   "execution_count": 6,
   "metadata": {
    "executionInfo": {
     "elapsed": 4,
     "status": "ok",
     "timestamp": 1661727584364,
     "user": {
      "displayName": "Deepak Rastogi",
      "userId": "00835676360645435652"
     },
     "user_tz": -120
    },
    "id": "PQGCbPW_UqST"
   },
   "outputs": [],
   "source": []
  },
  {
   "cell_type": "code",
   "execution_count": 7,
   "metadata": {
    "colab": {
     "base_uri": "https://localhost:8080/"
    },
    "executionInfo": {
     "elapsed": 26542,
     "status": "ok",
     "timestamp": 1661727611756,
     "user": {
      "displayName": "Deepak Rastogi",
      "userId": "00835676360645435652"
     },
     "user_tz": -120
    },
    "id": "isc2Bd8nmw0f",
    "outputId": "4a82a98b-0a43-499e-b6a1-ca9b33f38ee1"
   },
   "outputs": [
    {
     "name": "stdout",
     "output_type": "stream",
     "text": [
      "Snippet  0\n",
      "The app keeps track of the degree of users compliance and analyzes the data to determine the optimum lengths of work and break intervals.\n",
      "It reminds users to take appropriate breaks.\n",
      "\n",
      "\n",
      "Snippet  1\n",
      "A nursing cushion with builtin privacy panels that gives breastfeeding mothers some private space.\n",
      "The cushion is ushaped and has a pillow case as well as soft stuffing material.\n",
      "\n",
      "\n",
      "Snippet  2\n",
      "The source and drain that are created from the electrode parts are created when they are perfectly aligned.\n",
      "The gap between the electrodes can be minimized by using spacer technology to create a space between them.\n",
      "\n",
      "\n",
      "Snippet  3\n",
      "The invention allows for the production of S. achromogenes before subjecting them to an antibiotic challenge.\n",
      "Location of the resultant gene directly in the chromosomal host dna can be aided by the use of temperaturesensitive plasmids or other curable vectors.\n",
      "\n",
      "\n",
      "Snippet  4\n",
      "The invention involves coating work items in a vacuum treatment system with an arc vaporization source.\n",
      "Material is vaporized using an arc that is operated by an arc current utilizing the first electrode.\n",
      "\n",
      "\n",
      "Snippet  5\n",
      "Yarn is made by winding undrawn yarn on a bobbin and spinning it with a spinnerette.\n",
      "The yarn is then drawn between godet rollers via a convection oven without being wound.\n",
      "\n",
      "\n",
      "Snippet  6\n",
      "The fluorinated block copolyester includes blocks of fluoroether modified aromatic polyester and blocks of unmodified polyester.\n",
      "and the nonfluorinated polyester.\n",
      "Films.\n",
      "fibers.\n",
      "and molded components can all be manufactured from copolyesters to create formed products.\n",
      "\n",
      "\n",
      "Snippet  7\n",
      "Wet end rush transfer and the throughdrying fabric design.\n",
      "respectively.\n",
      "take the place of the traditional yankee functions of constructing machine direction and cross  machine direction stretch.\n",
      "It is especially beneficial to create the tissue with fibers that have undergone chemimechanical treatment in at least one layer.\n",
      "\n",
      "\n",
      "Snippet  8\n",
      "A highperformance sun control film is converted into thin filaments as part of the process for making sun control textile.\n",
      "A weaving machine weaves the filaments and joins them with other threads to create a textile that blocks the suns rays.\n",
      "\n",
      "\n",
      "Snippet  9\n",
      "Yarn is stored on a drumshaped storage body of a feeding device by an electrical winding drive with relative rotational movements between a winding element and the storage body.\n",
      "\n",
      "\n",
      "Snippet  10\n",
      "Fancy yarn is spun using a process that ensures consistency between the produced fancy yarn and its desired configuration.\n",
      "A sensor device in a spinning mechanism continuously measures the diameter of the fancy yarn.\n",
      "\n",
      "\n"
     ]
    }
   ],
   "source": [
    "nlp = StanfordCoreNLP(r'PATH-TO-CORENLP', quiet=False)\n",
    "props = {'annotators': 'parse', 'pipelineLanguage': 'en'}\n",
    "\n",
    "folder_path = 'coref_links/snippet_trees/start'\n",
    "start_index = len(os.listdir(folder_path))\n",
    "for index,i in enumerate(snippets_reformatted[start_index:]):\n",
    "  print('Snippet ',start_index+index)\n",
    "  trees = []\n",
    "  for j in i:\n",
    "    print(j)\n",
    "    out = nlp.annotate(j, properties=props)\n",
    "    try:\n",
    "      output = json.loads(out)\n",
    "      parse_tree = output['sentences'][0]['parse']\n",
    "      trees.append(parse_tree)\n",
    "    except Exception as err:\n",
    "      print(err)\n",
    "    finally:\n",
    "      pass\n",
    "  print('\\n')\n",
    "  print\n",
    "  with open(folder_path+str(index+start_index)+'.pickle','wb') as handle:\n",
    "      pickle.dump(trees, handle, protocol=pickle.HIGHEST_PROTOCOL)"
   ]
  },
  {
   "cell_type": "code",
   "execution_count": null,
   "metadata": {
    "id": "upCOBRemEKQz"
   },
   "outputs": [],
   "source": []
  },
  {
   "cell_type": "code",
   "execution_count": null,
   "metadata": {
    "id": "tVp9HMApz8pD"
   },
   "outputs": [],
   "source": []
  },
  {
   "cell_type": "code",
   "execution_count": null,
   "metadata": {
    "id": "dSfAhp1iTfTu"
   },
   "outputs": [],
   "source": []
  }
 ],
 "metadata": {
  "colab": {
   "authorship_tag": "ABX9TyMstcJ3hydv4fcBEwLr231b",
   "collapsed_sections": [],
   "mount_file_id": "18yM0QddLekeGkmSLN3eiTGdRCWgP2FXn",
   "name": "Untitled0.ipynb",
   "provenance": []
  },
  "kernelspec": {
   "display_name": "Python 3 (ipykernel)",
   "language": "python",
   "name": "python3"
  },
  "language_info": {
   "codemirror_mode": {
    "name": "ipython",
    "version": 3
   },
   "file_extension": ".py",
   "mimetype": "text/x-python",
   "name": "python",
   "nbconvert_exporter": "python",
   "pygments_lexer": "ipython3",
   "version": "3.9.12"
  }
 },
 "nbformat": 4,
 "nbformat_minor": 1
}
